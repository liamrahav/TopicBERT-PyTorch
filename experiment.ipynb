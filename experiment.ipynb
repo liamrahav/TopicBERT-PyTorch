{
 "cells": [
  {
   "cell_type": "markdown",
   "metadata": {
    "id": "TbEDDNUuvUm8"
   },
   "source": [
    "### Note:\n",
    "\n",
    "To run in Colab, you will need to add the datasets/ folder to your Google Drive as /data/ (in your Google Drive root directory)."
   ]
  },
  {
   "cell_type": "code",
   "execution_count": 1,
   "metadata": {
    "colab": {
     "base_uri": "https://localhost:8080/"
    },
    "id": "tiJAg_TwZGCn",
    "outputId": "69e5adcb-7c9a-4de8-94bb-0151329a74b1"
   },
   "outputs": [
    {
     "name": "stdout",
     "output_type": "stream",
     "text": [
      "Requirement already satisfied: transformers in /usr/local/lib/python3.7/dist-packages (4.5.1)\n",
      "Requirement already satisfied: importlib-metadata; python_version < \"3.8\" in /usr/local/lib/python3.7/dist-packages (from transformers) (3.10.1)\n",
      "Requirement already satisfied: tokenizers<0.11,>=0.10.1 in /usr/local/lib/python3.7/dist-packages (from transformers) (0.10.2)\n",
      "Requirement already satisfied: filelock in /usr/local/lib/python3.7/dist-packages (from transformers) (3.0.12)\n",
      "Requirement already satisfied: regex!=2019.12.17 in /usr/local/lib/python3.7/dist-packages (from transformers) (2019.12.20)\n",
      "Requirement already satisfied: sacremoses in /usr/local/lib/python3.7/dist-packages (from transformers) (0.0.45)\n",
      "Requirement already satisfied: numpy>=1.17 in /usr/local/lib/python3.7/dist-packages (from transformers) (1.19.5)\n",
      "Requirement already satisfied: requests in /usr/local/lib/python3.7/dist-packages (from transformers) (2.23.0)\n",
      "Requirement already satisfied: tqdm>=4.27 in /usr/local/lib/python3.7/dist-packages (from transformers) (4.41.1)\n",
      "Requirement already satisfied: packaging in /usr/local/lib/python3.7/dist-packages (from transformers) (20.9)\n",
      "Requirement already satisfied: typing-extensions>=3.6.4; python_version < \"3.8\" in /usr/local/lib/python3.7/dist-packages (from importlib-metadata; python_version < \"3.8\"->transformers) (3.7.4.3)\n",
      "Requirement already satisfied: zipp>=0.5 in /usr/local/lib/python3.7/dist-packages (from importlib-metadata; python_version < \"3.8\"->transformers) (3.4.1)\n",
      "Requirement already satisfied: joblib in /usr/local/lib/python3.7/dist-packages (from sacremoses->transformers) (1.0.1)\n",
      "Requirement already satisfied: six in /usr/local/lib/python3.7/dist-packages (from sacremoses->transformers) (1.15.0)\n",
      "Requirement already satisfied: click in /usr/local/lib/python3.7/dist-packages (from sacremoses->transformers) (7.1.2)\n",
      "Requirement already satisfied: urllib3!=1.25.0,!=1.25.1,<1.26,>=1.21.1 in /usr/local/lib/python3.7/dist-packages (from requests->transformers) (1.24.3)\n",
      "Requirement already satisfied: chardet<4,>=3.0.2 in /usr/local/lib/python3.7/dist-packages (from requests->transformers) (3.0.4)\n",
      "Requirement already satisfied: idna<3,>=2.5 in /usr/local/lib/python3.7/dist-packages (from requests->transformers) (2.10)\n",
      "Requirement already satisfied: certifi>=2017.4.17 in /usr/local/lib/python3.7/dist-packages (from requests->transformers) (2020.12.5)\n",
      "Requirement already satisfied: pyparsing>=2.0.2 in /usr/local/lib/python3.7/dist-packages (from packaging->transformers) (2.4.7)\n"
     ]
    }
   ],
   "source": [
    "%matplotlib inline\n",
    "!pip install transformers\n",
    "import math\n",
    "import nltk\n",
    "import numpy as np\n",
    "import os\n",
    "import random\n",
    "import torch\n",
    "import torch.nn as nn\n",
    "import torch.nn.functional as F\n",
    "import unittest\n",
    "\n",
    "from collections import Counter\n",
    "from datetime import datetime\n",
    "from nltk.corpus import stopwords\n",
    "from torch.utils.data import Dataset, DataLoader\n",
    "from transformers import BertModel, BertTokenizer\n",
    "from transformers import AdamW, get_linear_schedule_with_warmup"
   ]
  },
  {
   "cell_type": "markdown",
   "metadata": {
    "id": "8ktPVaPcZGCv"
   },
   "source": [
    "## Utils"
   ]
  },
  {
   "cell_type": "code",
   "execution_count": 2,
   "metadata": {
    "id": "7Kc9jGtXZGCv"
   },
   "outputs": [],
   "source": [
    "def set_seed(seed, device='cuda'):\n",
    "  random.seed(seed)\n",
    "  np.random.seed(seed)\n",
    "  torch.manual_seed(seed)\n",
    "  if device == 'cuda':\n",
    "    torch.cuda.manual_seed_all(seed)\n",
    "\n",
    "class TwoWayDict(dict):\n",
    "    # From https://stackoverflow.com/questions/1456373/two-way-reverse-map\n",
    "    def __setitem__(self, key, value):\n",
    "        # Remove any previous connections with these values\n",
    "        if key in self:\n",
    "            del self[key]\n",
    "        if value in self:\n",
    "            del self[value]\n",
    "        dict.__setitem__(self, key, value)\n",
    "        dict.__setitem__(self, value, key)\n",
    "\n",
    "    def __delitem__(self, key):\n",
    "        dict.__delitem__(self, self[key])\n",
    "        dict.__delitem__(self, key)\n",
    "\n",
    "    def __len__(self):\n",
    "        \"\"\"Returns the number of connections\"\"\"\n",
    "        return dict.__len__(self) // 2\n",
    "\n",
    "def read_tsv(path):\n",
    "  results = []\n",
    "  with open(path) as f:\n",
    "    f.readline()\n",
    "    for line in f:\n",
    "      results.append(line.split('\\t')) \n",
    "  return results"
   ]
  },
  {
   "cell_type": "markdown",
   "metadata": {
    "id": "7XV-8CAPZGCw"
   },
   "source": [
    "### Reuters8 Dataset"
   ]
  },
  {
   "cell_type": "code",
   "execution_count": 3,
   "metadata": {
    "colab": {
     "base_uri": "https://localhost:8080/"
    },
    "id": "0JXcqiFjZM1L",
    "outputId": "a7331aba-75a9-4281-ac9b-93bf24bf8533"
   },
   "outputs": [
    {
     "name": "stdout",
     "output_type": "stream",
     "text": [
      "Drive already mounted at /content/drive; to attempt to forcibly remount, call drive.mount(\"/content/drive\", force_remount=True).\n"
     ]
    }
   ],
   "source": [
    "from google.colab import drive\n",
    "drive.mount('/content/drive')"
   ]
  },
  {
   "cell_type": "code",
   "execution_count": 4,
   "metadata": {
    "colab": {
     "base_uri": "https://localhost:8080/"
    },
    "id": "QlX-s5m8Z6Ct",
    "outputId": "28b7ce06-eada-4e1e-f681-91b35be2b9dc"
   },
   "outputs": [
    {
     "name": "stdout",
     "output_type": "stream",
     "text": [
      "[nltk_data] Downloading package stopwords to /root/nltk_data...\n",
      "[nltk_data]   Package stopwords is already up-to-date!\n"
     ]
    },
    {
     "data": {
      "text/plain": [
       "True"
      ]
     },
     "execution_count": 4,
     "metadata": {
      "tags": []
     },
     "output_type": "execute_result"
    }
   ],
   "source": [
    "nltk.download('stopwords')"
   ]
  },
  {
   "cell_type": "markdown",
   "metadata": {
    "id": "5Ty_j8dtnxlg"
   },
   "source": [
    "Use a separate `Vocabulary` class that can aggregate vocabularies for whole datassets acrosss train/val/test split. This allows for more accurate word-counting & better integration with NVDM."
   ]
  },
  {
   "cell_type": "code",
   "execution_count": 5,
   "metadata": {
    "colab": {
     "base_uri": "https://localhost:8080/"
    },
    "id": "fXfq1B7tnw3m",
    "outputId": "26ca6350-c27c-478b-af9d-0f334ec5aa59"
   },
   "outputs": [
    {
     "name": "stdout",
     "output_type": "stream",
     "text": [
      "4832\n"
     ]
    }
   ],
   "source": [
    "class Vocabulary():\n",
    "  '''Creates a case-insensitive, dictionary-like vocabulary from a raw, \n",
    "  tab-separated dataset.\n",
    "\n",
    "  `Vocabulary` is essentially a wrapper on the builtin `Counter` class. This class\n",
    "  implements __getitem__, which returns the frequency of a given word.\n",
    "\n",
    "  Args:\n",
    "    filenames (:obj:`list` of :obj:`str`): Names of TSV files making up the full\n",
    "      dataset whose vocabulary you want to index. Typically 'train', 'val', and \n",
    "      'test' files.\n",
    "    col_num (:obj:`int`, optional): Set to `1` by default. The column in the TSV\n",
    "      containing raw text. This starts from 0 (e.g. 1 is the 2nd column).\n",
    "    include_stopwords(:obj:`bool`, optional): Set to `False` by default. If `True`,\n",
    "      the vocabulary will include words listed in NLTK's stopwords dataset.\n",
    "    f_min(:obj:`int`, optional): Set to `10` by default. All words with \n",
    "      frequency < f_min are removed from the vocabulary.\n",
    "\n",
    "  '''\n",
    "\n",
    "  def __init__(self, filepaths, col_num=1, include_stopwords=False, f_min=10):\n",
    "    texts = []\n",
    "    for filepath in filepaths:\n",
    "      texts += [x[col_num] for x in read_tsv(filepath)]\n",
    "\n",
    "    words = [word.lower() for text in texts for word in text.split(' ')]\n",
    "\n",
    "    if not include_stopwords:\n",
    "      # remove stopwords, newline\n",
    "      stops = stopwords.words('english')\n",
    "      words = [x for x in words if x not in stops]\n",
    "\n",
    "    c = Counter(words)\n",
    "    self._vocab = Counter({k: c for k, c in c.items() if c >= f_min})\n",
    "\n",
    "  @property \n",
    "  def words(self):\n",
    "    return list(self._vocab.keys())\n",
    "\n",
    "  def __getitem__(self, word):\n",
    "        return self._vocab[word]\n",
    "\n",
    "  def __len__(self):\n",
    "    return len(self.words)\n",
    "\n",
    "f_names = ['training.tsv', 'validation.tsv', 'test.tsv']\n",
    "f_paths = ['/content/drive/My Drive/data/Reuters8/' + x for x in f_names]\n",
    "r8_vocab = Vocabulary(f_paths)\n",
    "print(len(r8_vocab))"
   ]
  },
  {
   "cell_type": "code",
   "execution_count": 6,
   "metadata": {
    "id": "JBK_aEbqZGCw"
   },
   "outputs": [],
   "source": [
    "class Reuters8Dataset(Dataset):\n",
    "    '''Initializes a PyTorch Dataset with the appropriate Reuters8 data.\n",
    "    \n",
    "    Args:\n",
    "        filename (str): The name of the file containing Ruters8 label/sentence pairs as TSV. This should be \n",
    "            one of 'training', 'test', 'validation'. The files must be located at <cwd>/datasets/Reuters8/\n",
    "        vocab (:obj:`Vocabulary`): A vocabulary object that determines which words are retained by\n",
    "            the dataset when cleaning examples.\n",
    "        label_filepath (:obj:`str`, optional): The label file containing the label ordering, separated by \n",
    "            newlines. By default, this looks to <cwd>/datasets/Reuters8/labels.txt. \n",
    "        one_hot (:obj:`bool`, optional): Set to True by default. Determines if labels are one-hot encoded \n",
    "            vectors (True) or topic strings (False)\n",
    "    '''\n",
    "    REUTERS_URI = '/content/drive/My Drive/data/Reuters8/'\n",
    "    \n",
    "    def _clean_examples(self, examples):\n",
    "        # Switches order of label, sent in dataset. Removes words not in vocab.\n",
    "        cleaned = []\n",
    "        words = self.vocab.words\n",
    "        for ex in examples:\n",
    "            label, sent = ex\n",
    "            new_sent = ' '.join([x.lower() for x in sent.split(' ') if x.lower() in words])\n",
    "            cleaned.append([new_sent, label])\n",
    "            \n",
    "        return cleaned\n",
    "    \n",
    "    def __init__(self, filename, vocab, label_filepath=None, one_hot=True):\n",
    "        self.vocab = vocab\n",
    "        if label_filepath is None:\n",
    "            label_filepath = os.path.join(self.REUTERS_URI, 'labels.txt')\n",
    "            \n",
    "        with open(label_filepath) as f:\n",
    "            self.labels = [x.strip() for x in f.read().strip().split('\\n')]\n",
    "    \n",
    "        self.label_mapping = TwoWayDict()\n",
    "        for i, label in enumerate(self.labels):\n",
    "            self.label_mapping[label] = i\n",
    "            \n",
    "        path = os.path.join(self.REUTERS_URI, filename)\n",
    "        self.examples = self._clean_examples(read_tsv(path))\n",
    "        \n",
    "        if one_hot:\n",
    "            for i, ex in enumerate(self.examples):\n",
    "                _, label = ex\n",
    "                lbl_one_hot = torch.full((len(self.labels),), 0)\n",
    "                lbl_one_hot[self.label_mapping[label]] = 1\n",
    "                self.examples[i][1] =  lbl_one_hot\n",
    "                \n",
    "    @property\n",
    "    def num_labels(self):\n",
    "        return len(self.labels)\n",
    "\n",
    "    def __getitem__(self, index):\n",
    "        return self.examples[index]\n",
    "        \n",
    "    def __len__(self):\n",
    "        return len(self.examples)\n",
    "                \n",
    "        \n",
    "r8_train = Reuters8Dataset('training.tsv', r8_vocab)\n",
    "r8_val = Reuters8Dataset('validation.tsv', r8_vocab)\n",
    "r8_test = Reuters8Dataset('test.tsv', r8_vocab)"
   ]
  },
  {
   "cell_type": "code",
   "execution_count": 7,
   "metadata": {
    "colab": {
     "base_uri": "https://localhost:8080/"
    },
    "id": "QVB66kE9zbst",
    "outputId": "0a30eeb0-4314-4c2e-e923-3a486feb3c6c"
   },
   "outputs": [
    {
     "name": "stdout",
     "output_type": "stream",
     "text": [
      "Sample sent/label pair — Ex #107:\n",
      "\t- sent: interco inc th qtr feb net shr cts vs cts net vs sales mln vs mln year shr dlrs vs dlrs net vs sales billion vs billion note results reflect two one stock split july reuter\n",
      "\t- one-hot: tensor([0, 0, 1, 0, 0, 0, 0, 0])\n",
      "\t- int: 2\n",
      "\t- str: earn\n"
     ]
    }
   ],
   "source": [
    "if True: # Set to false to not show example\n",
    "    ex = 107\n",
    "    print('Sample sent/label pair — Ex #{}:'.format(ex))\n",
    "    print('\\t- sent:',r8_train[ex][0].strip()) \n",
    "    print('\\t- one-hot:',r8_train[ex][1]) \n",
    "    # convert one-hot label to int & string\n",
    "    lbl_idx = torch.where(r8_train[ex][1] > 0)[0].item()\n",
    "    print('\\t- int:',lbl_idx) \n",
    "    print('\\t- str:',r8_train.label_mapping[lbl_idx])"
   ]
  },
  {
   "cell_type": "code",
   "execution_count": 8,
   "metadata": {
    "colab": {
     "base_uri": "https://localhost:8080/"
    },
    "id": "2EioLwryZGCy",
    "outputId": "5b939b3b-bfe4-412e-c9eb-ec74d7265f58"
   },
   "outputs": [
    {
     "name": "stdout",
     "output_type": "stream",
     "text": [
      "tensor([  101,  7156,  3001,  4297,  2095, 13292,  3279,  6728,  2121, 14021,\n",
      "         2099,  3279,  2274, 14931,  2015,  5443,  3279, 21469,  2869,  6728,\n",
      "         2121,  5658,  3279,  5443,  3279,  4341, 19875,  2078,  5443, 19875,\n",
      "         2078,  3602,  5658, 23329,  2015,  6409,  8944,  3136, 21469,  2869,\n",
      "         5443, 21469,  2869,  2128, 19901,   102,     0,     0,     0,     0,\n",
      "            0,     0,     0,     0,     0,     0,     0,     0,     0,     0,\n",
      "            0,     0,     0,     0,     0,     0,     0,     0,     0,     0,\n",
      "            0,     0,     0,     0,     0,     0,     0,     0,     0,     0,\n",
      "            0,     0,     0,     0,     0,     0,     0,     0,     0,     0,\n",
      "            0,     0,     0,     0,     0,     0,     0,     0,     0,     0,\n",
      "            0,     0,     0,     0,     0,     0,     0,     0,     0,     0,\n",
      "            0,     0,     0,     0,     0,     0,     0,     0,     0,     0,\n",
      "            0,     0,     0,     0,     0,     0,     0,     0,     0,     0,\n",
      "            0,     0,     0,     0,     0,     0,     0,     0,     0,     0,\n",
      "            0,     0,     0,     0,     0,     0,     0,     0,     0,     0,\n",
      "            0,     0,     0,     0,     0,     0,     0,     0,     0,     0,\n",
      "            0,     0,     0,     0,     0,     0,     0,     0,     0,     0,\n",
      "            0,     0,     0,     0,     0,     0,     0,     0,     0,     0,\n",
      "            0,     0,     0,     0,     0,     0,     0,     0,     0,     0,\n",
      "            0,     0,     0,     0,     0,     0,     0,     0,     0,     0,\n",
      "            0,     0,     0,     0,     0,     0,     0,     0,     0,     0,\n",
      "            0,     0,     0,     0,     0,     0,     0,     0,     0,     0,\n",
      "            0,     0,     0,     0,     0,     0,     0,     0,     0,     0,\n",
      "            0,     0,     0,     0])\n",
      "['[CLS]', 'pioneer', 'systems', 'inc', 'year', 'nov', 'loss', 'op', '##er', 'sh', '##r', 'loss', 'five', 'ct', '##s', 'vs', 'loss', 'dl', '##rs', 'op', '##er', 'net', 'loss', 'vs', 'loss', 'sales', 'ml', '##n', 'vs', 'ml', '##n', 'note', 'net', 'exclude', '##s', 'losses', 'discontinued', 'operations', 'dl', '##rs', 'vs', 'dl', '##rs', 're', '##uter', '[SEP]', '[PAD]', '[PAD]', '[PAD]', '[PAD]', '[PAD]', '[PAD]', '[PAD]', '[PAD]', '[PAD]', '[PAD]', '[PAD]', '[PAD]', '[PAD]', '[PAD]', '[PAD]', '[PAD]', '[PAD]', '[PAD]', '[PAD]', '[PAD]', '[PAD]', '[PAD]', '[PAD]', '[PAD]', '[PAD]', '[PAD]', '[PAD]', '[PAD]', '[PAD]', '[PAD]', '[PAD]', '[PAD]', '[PAD]', '[PAD]', '[PAD]', '[PAD]', '[PAD]', '[PAD]', '[PAD]', '[PAD]', '[PAD]', '[PAD]', '[PAD]', '[PAD]', '[PAD]', '[PAD]', '[PAD]', '[PAD]', '[PAD]', '[PAD]', '[PAD]', '[PAD]', '[PAD]', '[PAD]', '[PAD]', '[PAD]', '[PAD]', '[PAD]', '[PAD]', '[PAD]', '[PAD]', '[PAD]', '[PAD]', '[PAD]', '[PAD]', '[PAD]', '[PAD]', '[PAD]', '[PAD]', '[PAD]', '[PAD]', '[PAD]', '[PAD]', '[PAD]', '[PAD]', '[PAD]', '[PAD]', '[PAD]', '[PAD]', '[PAD]', '[PAD]', '[PAD]', '[PAD]', '[PAD]', '[PAD]', '[PAD]', '[PAD]', '[PAD]', '[PAD]', '[PAD]', '[PAD]', '[PAD]', '[PAD]', '[PAD]', '[PAD]', '[PAD]', '[PAD]', '[PAD]', '[PAD]', '[PAD]', '[PAD]', '[PAD]', '[PAD]', '[PAD]', '[PAD]', '[PAD]', '[PAD]', '[PAD]', '[PAD]', '[PAD]', '[PAD]', '[PAD]', '[PAD]', '[PAD]', '[PAD]', '[PAD]', '[PAD]', '[PAD]', '[PAD]', '[PAD]', '[PAD]', '[PAD]', '[PAD]', '[PAD]', '[PAD]', '[PAD]', '[PAD]', '[PAD]', '[PAD]', '[PAD]', '[PAD]', '[PAD]', '[PAD]', '[PAD]', '[PAD]', '[PAD]', '[PAD]', '[PAD]', '[PAD]', '[PAD]', '[PAD]', '[PAD]', '[PAD]', '[PAD]', '[PAD]', '[PAD]', '[PAD]', '[PAD]', '[PAD]', '[PAD]', '[PAD]', '[PAD]', '[PAD]', '[PAD]', '[PAD]', '[PAD]', '[PAD]', '[PAD]', '[PAD]', '[PAD]', '[PAD]', '[PAD]', '[PAD]', '[PAD]', '[PAD]', '[PAD]', '[PAD]', '[PAD]', '[PAD]', '[PAD]', '[PAD]', '[PAD]', '[PAD]', '[PAD]', '[PAD]', '[PAD]', '[PAD]', '[PAD]', '[PAD]', '[PAD]', '[PAD]', '[PAD]', '[PAD]', '[PAD]', '[PAD]', '[PAD]', '[PAD]', '[PAD]']\n",
      "[CLS] pioneer systems inc year nov loss oper shr loss five cts vs loss dlrs oper net loss vs loss sales mln vs mln note net excludes losses discontinued operations dlrs vs dlrs reuter [SEP] [PAD] [PAD] [PAD] [PAD] [PAD] [PAD] [PAD] [PAD] [PAD] [PAD] [PAD] [PAD] [PAD] [PAD] [PAD] [PAD] [PAD] [PAD] [PAD] [PAD] [PAD] [PAD] [PAD] [PAD] [PAD] [PAD] [PAD] [PAD] [PAD] [PAD] [PAD] [PAD] [PAD] [PAD] [PAD] [PAD] [PAD] [PAD] [PAD] [PAD] [PAD] [PAD] [PAD] [PAD] [PAD] [PAD] [PAD] [PAD] [PAD] [PAD] [PAD] [PAD] [PAD] [PAD] [PAD] [PAD] [PAD] [PAD] [PAD] [PAD] [PAD] [PAD] [PAD] [PAD] [PAD] [PAD] [PAD] [PAD] [PAD] [PAD] [PAD] [PAD] [PAD] [PAD] [PAD] [PAD] [PAD] [PAD] [PAD] [PAD] [PAD] [PAD] [PAD] [PAD] [PAD] [PAD] [PAD] [PAD] [PAD] [PAD] [PAD] [PAD] [PAD] [PAD] [PAD] [PAD] [PAD] [PAD] [PAD] [PAD] [PAD] [PAD] [PAD] [PAD] [PAD] [PAD] [PAD] [PAD] [PAD] [PAD] [PAD] [PAD] [PAD] [PAD] [PAD] [PAD] [PAD] [PAD] [PAD] [PAD] [PAD] [PAD] [PAD] [PAD] [PAD] [PAD] [PAD] [PAD] [PAD] [PAD] [PAD] [PAD] [PAD] [PAD] [PAD] [PAD] [PAD] [PAD] [PAD] [PAD] [PAD] [PAD] [PAD] [PAD] [PAD] [PAD] [PAD] [PAD] [PAD] [PAD] [PAD] [PAD] [PAD] [PAD] [PAD] [PAD] [PAD] [PAD] [PAD] [PAD] [PAD] [PAD] [PAD] [PAD] [PAD] [PAD] [PAD] [PAD] [PAD] [PAD] [PAD] [PAD] [PAD] [PAD] [PAD] [PAD] [PAD] [PAD] [PAD] [PAD] [PAD] [PAD] [PAD] [PAD] [PAD] [PAD] [PAD] [PAD]\n",
      "tensor([1, 1, 1, 1, 1, 1, 1, 1, 1, 1, 1, 1, 1, 1, 1, 1, 1, 1, 1, 1, 1, 1, 1, 1,\n",
      "        1, 1, 1, 1, 1, 1, 1, 1, 1, 1, 1, 1, 1, 1, 1, 1, 1, 1, 1, 1, 1, 1, 0, 0,\n",
      "        0, 0, 0, 0, 0, 0, 0, 0, 0, 0, 0, 0, 0, 0, 0, 0, 0, 0, 0, 0, 0, 0, 0, 0,\n",
      "        0, 0, 0, 0, 0, 0, 0, 0, 0, 0, 0, 0, 0, 0, 0, 0, 0, 0, 0, 0, 0, 0, 0, 0,\n",
      "        0, 0, 0, 0, 0, 0, 0, 0, 0, 0, 0, 0, 0, 0, 0, 0, 0, 0, 0, 0, 0, 0, 0, 0,\n",
      "        0, 0, 0, 0, 0, 0, 0, 0, 0, 0, 0, 0, 0, 0, 0, 0, 0, 0, 0, 0, 0, 0, 0, 0,\n",
      "        0, 0, 0, 0, 0, 0, 0, 0, 0, 0, 0, 0, 0, 0, 0, 0, 0, 0, 0, 0, 0, 0, 0, 0,\n",
      "        0, 0, 0, 0, 0, 0, 0, 0, 0, 0, 0, 0, 0, 0, 0, 0, 0, 0, 0, 0, 0, 0, 0, 0,\n",
      "        0, 0, 0, 0, 0, 0, 0, 0, 0, 0, 0, 0, 0, 0, 0, 0, 0, 0, 0, 0, 0, 0, 0, 0,\n",
      "        0, 0, 0, 0, 0, 0, 0, 0, 0, 0, 0, 0, 0, 0, 0, 0, 0, 0])\n",
      "tensor([0, 0, 1, 0, 0, 0, 0, 0])\n"
     ]
    }
   ],
   "source": [
    "tokenizer = BertTokenizer.from_pretrained('bert-base-uncased')\n",
    "\n",
    "# We need to provide a custom collate function to DataLoader because we're handling sentences of varying lengths. \n",
    "def collate_fn_bert(batch):\n",
    "  # https://huggingface.co/transformers/preprocessing.html\n",
    "  sents, labels = zip(*batch)\n",
    "  labels = torch.stack([x.long() for x in labels])\n",
    "  encoded = tokenizer(sents, padding=True, max_length=512, truncation=True, return_tensors='pt')\n",
    "  # print([len(x) for x in encoded['input_ids']])\n",
    "  # print(any([len(x) > 512 for x in encoded['input_ids']]))\n",
    "  return encoded['input_ids'], encoded['attention_mask'], labels\n",
    "\n",
    "set_seed(42)\n",
    "dataloader_val = DataLoader(r8_val, batch_size=8, shuffle=False, num_workers=2, collate_fn=collate_fn_bert)\n",
    "\n",
    "if True: # Set to false to not show example\n",
    "    for i, (input_ids, attention_mask, labels) in enumerate(dataloader_val):\n",
    "      if i == 2:\n",
    "        print(input_ids[3])\n",
    "        print(tokenizer.convert_ids_to_tokens(input_ids[3]))\n",
    "        print(tokenizer.decode(input_ids[3]))\n",
    "        print(attention_mask[3])\n",
    "        print(labels[3])"
   ]
  },
  {
   "cell_type": "code",
   "execution_count": 9,
   "metadata": {
    "id": "6gNYwtHLZGCz"
   },
   "outputs": [],
   "source": [
    "def get_init_transformer(transformer):\n",
    "  \"\"\"\n",
    "  Initialization scheme used for transformers:\n",
    "  https://huggingface.co/transformers/_modules/transformers/modeling_bert.html\n",
    "  \"\"\"\n",
    "  def init_transformer(module):\n",
    "    if isinstance(module, (nn.Linear, nn.Embedding)):\n",
    "        module.weight.data.normal_(mean=0.0, std=transformer.config.initializer_range)\n",
    "    elif isinstance(module, nn.LayerNorm):\n",
    "        module.bias.data.zero_()\n",
    "        module.weight.data.fill_(1.0)\n",
    "    if isinstance(module, nn.Linear) and module.bias is not None:\n",
    "        module.bias.data.zero_()\n",
    "\n",
    "  return init_transformer\n",
    "\n",
    "\n",
    "class BertClassifier(nn.Module):\n",
    "\n",
    "  def __init__(self, num_labels, drop=0.1):\n",
    "    super().__init__()\n",
    "    self.encoder = BertModel.from_pretrained('bert-base-uncased')\n",
    "    self.score = nn.Sequential(nn.Dropout(drop), \n",
    "                               nn.Linear(self.encoder.config.hidden_size, num_labels))\n",
    "    self.score.apply(get_init_transformer(self.encoder))  # Important to initialize any additional weights the same way as pretrained encoder. \n",
    "    self.loss = nn.CrossEntropyLoss(reduction='mean')\n",
    "\n",
    "  def forward(self, input_ids, attention_mask, labels):\n",
    "    hiddens_last = self.encoder(input_ids, attention_mask=attention_mask)[0]  # (batch_size, length, dim), these are last layer embeddings\n",
    "    embs = hiddens_last[:,0,:]  # [CLS] token embeddings\n",
    "    logits = self.score(embs)\n",
    "    # Runs cross-entropy softmax loss on labels\n",
    "    loss_total = self.loss(logits, torch.max(labels, 1)[1])\n",
    "    return logits, loss_total"
   ]
  },
  {
   "cell_type": "code",
   "execution_count": 10,
   "metadata": {
    "id": "Ug40G42uZGC0"
   },
   "outputs": [],
   "source": [
    "def configure_optimization(model, num_train_steps, num_warmup_steps, lr, weight_decay=0.01):  \n",
    "  # Copied from: https://huggingface.co/transformers/training.html\n",
    "  no_decay = ['bias', 'LayerNorm.weight']\n",
    "  optimizer_grouped_parameters = [{'params': [p for n, p in model.named_parameters() if not any(nd in n for nd in no_decay)], \n",
    "                                   'weight_decay': weight_decay},\n",
    "                                  {'params': [p for n, p in model.named_parameters() if any(nd in n for nd in no_decay)],\n",
    "                                   'weight_decay': 0.}]\n",
    "  optimizer = AdamW(optimizer_grouped_parameters, lr=lr)  \n",
    "  scheduler = get_linear_schedule_with_warmup(optimizer, num_training_steps=num_train_steps, num_warmup_steps=num_warmup_steps) \n",
    "  return optimizer, scheduler"
   ]
  },
  {
   "cell_type": "code",
   "execution_count": 11,
   "metadata": {
    "id": "1Dz4FfXCZGC0"
   },
   "outputs": [],
   "source": [
    "def get_acc_val(model, device):\n",
    "  num_correct_val = 0\n",
    "  model.eval()  \n",
    "  with torch.no_grad(): \n",
    "    for input_ids, attention_mask, labels in dataloader_val:\n",
    "      input_ids = input_ids.to(device)\n",
    "      attention_mask = attention_mask.to(device)\n",
    "      labels = labels.to(device)\n",
    "      logits, _ = model(input_ids, attention_mask, labels) \n",
    "      preds = torch.max(logits, 1)[1] # get label from max score per example\n",
    "      num_correct_val += (preds == torch.max(labels, 1)[1]).sum()\n",
    "  acc_val = num_correct_val / len(dataloader_val.dataset) * 100.\n",
    "  return acc_val"
   ]
  },
  {
   "cell_type": "code",
   "execution_count": 12,
   "metadata": {
    "id": "rHi8oUCrZGC0"
   },
   "outputs": [],
   "source": [
    "def train(model, batch_size=32, num_warmup_steps=10, lr=0.00005, num_epochs=3, clip=1., verbose=True, device='cuda'):\n",
    "  model = model.to(device)  # Move the model to device.  \n",
    "  dataloader_train = DataLoader(r8_train, batch_size=batch_size, shuffle=True, num_workers=2, collate_fn=collate_fn_bert) \n",
    "  num_train_steps = len(r8_train) // batch_size * num_epochs\n",
    "  optimizer, scheduler = configure_optimization(model, num_train_steps, num_warmup_steps, lr)\n",
    "\n",
    "  loss_avg = float('inf')\n",
    "  acc_train = 0.\n",
    "  best_acc_val = 0.\n",
    "  for epoch in range(num_epochs):\n",
    "    model.train()  # This turns on the training mode (e.g., enable dropout).\n",
    "    loss_total = 0.\n",
    "    num_correct_train = 0\n",
    "    for batch_ind, (input_ids, attention_mask, labels) in enumerate(dataloader_train):\n",
    "      if (batch_ind + 1) % 200 == 0: \n",
    "        print(batch_ind + 1, '/', len(dataloader_train), 'batches done')\n",
    "      input_ids = input_ids.to(device).long()\n",
    "      attention_mask = attention_mask.to(device)\n",
    "      labels = labels.to(device)      \n",
    "      logits, loss_batch_total = model(input_ids, attention_mask, labels) \n",
    "      preds = torch.max(logits, 1)[1]  # get label from max score per example\n",
    "      num_correct_train += (preds == torch.max(labels, 1)[1]).sum()\n",
    "      loss_total += loss_batch_total.item()            \n",
    "      \n",
    "      loss_batch_avg = loss_batch_total / input_ids.size(0)  \n",
    "      loss_batch_avg.backward()  \n",
    "\n",
    "      if clip > 0.:  # Optional gradient clipping\n",
    "        nn.utils.clip_grad_norm_(model.parameters(), clip)\n",
    "\n",
    "      optimizer.step()  # optimizer updates model weights based on stored gradients\n",
    "      scheduler.step()  # Update lr. \n",
    "      optimizer.zero_grad()  # Reset gradient slots to zero\n",
    "\n",
    "    # Useful training information\n",
    "    loss_avg = loss_total / len(dataloader_train.dataset)\n",
    "    acc_train = num_correct_train / len(dataloader_train.dataset) * 100.\n",
    "\n",
    "    # Check validation performance at the end of every epoch. \n",
    "    acc_val = get_acc_val(model, device)\n",
    "\n",
    "    if verbose:\n",
    "      print('Epoch {:3d} | avg loss {:8.4f} | train acc {:2.2f} | val acc {:2.2f}'.format(epoch + 1, loss_avg, acc_train, acc_val))\n",
    "\n",
    "    if acc_val > best_acc_val: \n",
    "      best_acc_val = acc_val\n",
    "  \n",
    "  if verbose: \n",
    "    print('Final avg loss {:8.4f} | final train acc {:2.2f} | best val acc {:2.2f}'.format(loss_avg, acc_train, best_acc_val))\n",
    "\n",
    "  return best_acc_val"
   ]
  },
  {
   "cell_type": "markdown",
   "metadata": {
    "id": "saoweloiZGC1"
   },
   "source": [
    "## Below Runs BERT on Reuters8"
   ]
  },
  {
   "cell_type": "code",
   "execution_count": 13,
   "metadata": {
    "colab": {
     "base_uri": "https://localhost:8080/"
    },
    "id": "q--M0BweaP-N",
    "outputId": "77d4f958-da8b-427e-a6c6-810a8d7f0eb6"
   },
   "outputs": [
    {
     "name": "stdout",
     "output_type": "stream",
     "text": [
      "Collecting ipython-autotime\n",
      "  Downloading https://files.pythonhosted.org/packages/b4/c9/b413a24f759641bc27ef98c144b590023c8038dfb8a3f09e713e9dff12c1/ipython_autotime-0.3.1-py2.py3-none-any.whl\n",
      "Requirement already satisfied: ipython in /usr/local/lib/python3.7/dist-packages (from ipython-autotime) (5.5.0)\n",
      "Requirement already satisfied: pexpect; sys_platform != \"win32\" in /usr/local/lib/python3.7/dist-packages (from ipython->ipython-autotime) (4.8.0)\n",
      "Requirement already satisfied: decorator in /usr/local/lib/python3.7/dist-packages (from ipython->ipython-autotime) (4.4.2)\n",
      "Requirement already satisfied: pygments in /usr/local/lib/python3.7/dist-packages (from ipython->ipython-autotime) (2.6.1)\n",
      "Requirement already satisfied: pickleshare in /usr/local/lib/python3.7/dist-packages (from ipython->ipython-autotime) (0.7.5)\n",
      "Requirement already satisfied: traitlets>=4.2 in /usr/local/lib/python3.7/dist-packages (from ipython->ipython-autotime) (5.0.5)\n",
      "Requirement already satisfied: setuptools>=18.5 in /usr/local/lib/python3.7/dist-packages (from ipython->ipython-autotime) (54.2.0)\n",
      "Requirement already satisfied: prompt-toolkit<2.0.0,>=1.0.4 in /usr/local/lib/python3.7/dist-packages (from ipython->ipython-autotime) (1.0.18)\n",
      "Requirement already satisfied: simplegeneric>0.8 in /usr/local/lib/python3.7/dist-packages (from ipython->ipython-autotime) (0.8.1)\n",
      "Requirement already satisfied: ptyprocess>=0.5 in /usr/local/lib/python3.7/dist-packages (from pexpect; sys_platform != \"win32\"->ipython->ipython-autotime) (0.7.0)\n",
      "Requirement already satisfied: ipython-genutils in /usr/local/lib/python3.7/dist-packages (from traitlets>=4.2->ipython->ipython-autotime) (0.2.0)\n",
      "Requirement already satisfied: wcwidth in /usr/local/lib/python3.7/dist-packages (from prompt-toolkit<2.0.0,>=1.0.4->ipython->ipython-autotime) (0.2.5)\n",
      "Requirement already satisfied: six>=1.9.0 in /usr/local/lib/python3.7/dist-packages (from prompt-toolkit<2.0.0,>=1.0.4->ipython->ipython-autotime) (1.15.0)\n",
      "Installing collected packages: ipython-autotime\n",
      "Successfully installed ipython-autotime-0.3.1\n",
      "time: 139 µs (started: 2021-04-19 21:26:07 +00:00)\n"
     ]
    }
   ],
   "source": [
    "!pip install ipython-autotime  # Useful library for tracking runtime on Python Notebooks\n",
    " \n",
    "%load_ext autotime"
   ]
  },
  {
   "cell_type": "code",
   "execution_count": null,
   "metadata": {
    "colab": {
     "base_uri": "https://localhost:8080/"
    },
    "id": "0j0blsnZZGC1",
    "outputId": "526fd248-1495-4c5e-a334-b30cd1198b94"
   },
   "outputs": [
    {
     "name": "stdout",
     "output_type": "stream",
     "text": [
      "200 / 1247 batches done\n",
      "400 / 1247 batches done\n",
      "600 / 1247 batches done\n",
      "800 / 1247 batches done\n",
      "1000 / 1247 batches done\n",
      "1200 / 1247 batches done\n",
      "Epoch   1 | avg loss   0.0596 | train acc 93.36 | val acc 96.40\n",
      "200 / 1247 batches done\n",
      "400 / 1247 batches done\n",
      "600 / 1247 batches done\n",
      "800 / 1247 batches done\n",
      "1000 / 1247 batches done\n",
      "1200 / 1247 batches done\n",
      "Epoch   2 | avg loss   0.0180 | train acc 98.48 | val acc 96.60\n",
      "200 / 1247 batches done\n",
      "400 / 1247 batches done\n",
      "600 / 1247 batches done\n",
      "800 / 1247 batches done\n",
      "1000 / 1247 batches done\n",
      "1200 / 1247 batches done\n",
      "Epoch   3 | avg loss   0.0070 | train acc 99.30 | val acc 97.20\n",
      "Final avg loss   0.0070 | final train acc 99.30 | best val acc 97.20\n",
      "time: 9min 44s (started: 2021-04-18 20:13:09 +00:00)\n"
     ]
    }
   ],
   "source": [
    "if True: # Set True to run. \n",
    "  torch.cuda.empty_cache()\n",
    "  set_seed(42)\n",
    "  model = BertClassifier(r8_train.num_labels)\n",
    "  best_acc_val = train(model, batch_size=4)"
   ]
  },
  {
   "cell_type": "markdown",
   "metadata": {
    "id": "wQpJovGUvu6k"
   },
   "source": [
    "## NVDM\n",
    "\n",
    "Here we implement NVDM as a standalone topic modeler. NVDM is a neural VAE. The goal is to concatenate the output of NVDM's encoder, the posterior distribution $q(\\mathbf{h} | \\mathbf{B})$ with BERT's output (the embedding of the `[CLS]` token), and then fine-tune a joint loss between the two. $\\mathbf{B}$ is the BOW representation of a document $\\mathcal{D}$."
   ]
  },
  {
   "cell_type": "code",
   "execution_count": 14,
   "metadata": {
    "colab": {
     "base_uri": "https://localhost:8080/"
    },
    "id": "kyltAZBVr0aT",
    "outputId": "930ff6e1-f8a4-4d15-9ede-b21704b96cdb"
   },
   "outputs": [
    {
     "name": "stdout",
     "output_type": "stream",
     "text": [
      "time: 36.2 s (started: 2021-04-19 21:26:07 +00:00)\n"
     ]
    }
   ],
   "source": [
    "class BOWDataset(Dataset):\n",
    "    '''This class servess as a wrapper for an existing dataset that serves\n",
    "    a BOW repesentation as well as the original. The BOW conversion is done upon\n",
    "    instantiation for efficiency when training.\n",
    "    \n",
    "    Args:\n",
    "      dataset (:obj:`torch.utils.data.Dataset`): The dataset to serve as BOW\n",
    "      vocab (:obj:`Vocabulary`): The vocabulay associated with the dataset.\n",
    "      binary (:obj:`bool`, optional): Whether the BOW should maintain a binary\n",
    "        representation. If `False`, it will contain word frequencies (integers).\n",
    "    '''\n",
    "\n",
    "    def __init__(self, dataset, vocab, binary=False):\n",
    "      self.vocab = vocab\n",
    "      self.examples = []\n",
    "      for sent, label in dataset:\n",
    "        bow = torch.zeros((len(vocab),), dtype=torch.long)\n",
    "        for word in sent.split(' '):\n",
    "          word_index = vocab.words.index(word)\n",
    "          if binary:\n",
    "            bow[word_index] = 1\n",
    "          else:\n",
    "            bow[word_index] += 1\n",
    "\n",
    "        self.examples.append([sent, bow, label])\n",
    "\n",
    "    def __getitem__(self, index):\n",
    "        return self.examples[index]\n",
    "\n",
    "    def __len__(self):\n",
    "        return len(self.examples)\n",
    "\n",
    "r8_train_bow = BOWDataset(r8_train, r8_train.vocab)\n",
    "r8_val_bow = BOWDataset(r8_val, r8_val.vocab)\n",
    "r8_test_bow = BOWDataset(r8_test, r8_test.vocab)"
   ]
  },
  {
   "cell_type": "code",
   "execution_count": 15,
   "metadata": {
    "colab": {
     "base_uri": "https://localhost:8080/"
    },
    "id": "6mT5k82iyJyk",
    "outputId": "25772814-0d7c-49ca-f0f1-9d8b35777d9e"
   },
   "outputs": [
    {
     "name": "stdout",
     "output_type": "stream",
     "text": [
      "['bell resources boosts stake bhp bell resources ltd said executed underwriting agreement equiticorp ltd acquire mln ordinary shares broken hill pty co ltd mln dlrs bell said statement holds pct bhp billion shares reuter\\n', tensor([1, 0, 0, 0, 0, 0, 0, 0])]\n",
      "['bell resources boosts stake bhp bell resources ltd said executed underwriting agreement equiticorp ltd acquire mln ordinary shares broken hill pty co ltd mln dlrs bell said statement holds pct bhp billion shares reuter\\n', tensor([0, 0, 0,  ..., 0, 0, 0]), tensor([1, 0, 0, 0, 0, 0, 0, 0])]\n",
      "tensor([  4,  15,  19,  23,  30,  51, 119, 273, 377, 388, 396, 397, 398, 399,\n",
      "        400, 401, 402, 403, 404, 405, 406, 407, 408, 409, 410])\n",
      "3\n",
      "time: 5.92 ms (started: 2021-04-19 21:26:44 +00:00)\n"
     ]
    }
   ],
   "source": [
    "print(r8_train[10])\n",
    "print(r8_train_bow[10])\n",
    "print(torch.where(r8_train_bow[10][1] > 0)[0])\n",
    "# Frequency of word 'bell' in example\n",
    "print(r8_train_bow[10][1][396].item())"
   ]
  },
  {
   "cell_type": "code",
   "execution_count": 16,
   "metadata": {
    "colab": {
     "base_uri": "https://localhost:8080/"
    },
    "id": "5_ndxZW_zjfr",
    "outputId": "b1764bb1-cd98-4856-c43a-db6ba006f958"
   },
   "outputs": [
    {
     "name": "stdout",
     "output_type": "stream",
     "text": [
      "time: 1.21 s (started: 2021-04-19 21:26:44 +00:00)\n"
     ]
    }
   ],
   "source": [
    "tokenizer = BertTokenizer.from_pretrained('bert-base-uncased')\n",
    "\n",
    "# We need to provide a custom collate function to DataLoader because we're handling sentences of varying lengths. \n",
    "def collate_fn_topicbert(batch):\n",
    "  # https://huggingface.co/transformers/preprocessing.html\n",
    "  sents, bows, labels = zip(*batch)\n",
    "  labels = torch.stack([x.long() for x in labels])\n",
    "  encoded = tokenizer(sents, padding=True, max_length=512, truncation=True, return_tensors='pt')\n",
    "  return encoded['input_ids'], encoded['attention_mask'], torch.stack(bows).float(), labels\n",
    "\n",
    "dataloader_val_tb = DataLoader(r8_val_bow, batch_size=4, shuffle=False, num_workers=2, collate_fn=collate_fn_topicbert)"
   ]
  },
  {
   "cell_type": "code",
   "execution_count": 17,
   "metadata": {
    "colab": {
     "base_uri": "https://localhost:8080/"
    },
    "id": "ym4pubUCZawM",
    "outputId": "3903d3a0-8372-434f-eceb-a3153599702b"
   },
   "outputs": [
    {
     "name": "stdout",
     "output_type": "stream",
     "text": [
      "BERT Token(izer):\n",
      "------------\n",
      "tensor([  101,  6262, 15827,  3477,  5833,  6262, 15827,  2522,  2056,  2604,\n",
      "         5501,  5444, 28324,  7909, 11443, 18376, 15337,  6262, 15827,  2056,\n",
      "         7079, 12174, 11443,  4859,  2028, 14931,  3745,  2691,  4518,  2194,\n",
      "         2056, 24273,  3828, 19875,  2078, 21469,  2869,  2095, 11443,  4859,\n",
      "         8636,  2128, 19901,   102,     0,     0,     0,     0,     0,     0,\n",
      "            0,     0,     0,     0,     0,     0,     0,     0,     0,     0,\n",
      "            0,     0,     0,     0,     0,     0,     0,     0,     0,     0,\n",
      "            0,     0,     0,     0,     0,     0,     0,     0,     0,     0,\n",
      "            0,     0,     0,     0,     0,     0,     0,     0,     0,     0,\n",
      "            0,     0,     0,     0,     0,     0,     0,     0,     0,     0,\n",
      "            0,     0,     0,     0,     0,     0,     0,     0,     0,     0,\n",
      "            0,     0,     0,     0,     0,     0,     0,     0,     0,     0,\n",
      "            0,     0,     0,     0,     0,     0,     0,     0,     0,     0,\n",
      "            0,     0,     0,     0,     0,     0,     0])\n",
      "['[CLS]', 'parker', 'drilling', 'pay', '##out', 'parker', 'drilling', 'co', 'said', 'board', 'directors', 'voted', 'suspend', 'payment', 'divide', '##nds', 'shareholders', 'parker', 'drilling', 'said', 'paying', 'quarterly', 'divide', '##nd', 'one', 'ct', 'share', 'common', 'stock', 'company', 'said', 'expects', 'save', 'ml', '##n', 'dl', '##rs', 'year', 'divide', '##nd', 'suspension', 're', '##uter', '[SEP]', '[PAD]', '[PAD]', '[PAD]', '[PAD]', '[PAD]', '[PAD]', '[PAD]', '[PAD]', '[PAD]', '[PAD]', '[PAD]', '[PAD]', '[PAD]', '[PAD]', '[PAD]', '[PAD]', '[PAD]', '[PAD]', '[PAD]', '[PAD]', '[PAD]', '[PAD]', '[PAD]', '[PAD]', '[PAD]', '[PAD]', '[PAD]', '[PAD]', '[PAD]', '[PAD]', '[PAD]', '[PAD]', '[PAD]', '[PAD]', '[PAD]', '[PAD]', '[PAD]', '[PAD]', '[PAD]', '[PAD]', '[PAD]', '[PAD]', '[PAD]', '[PAD]', '[PAD]', '[PAD]', '[PAD]', '[PAD]', '[PAD]', '[PAD]', '[PAD]', '[PAD]', '[PAD]', '[PAD]', '[PAD]', '[PAD]', '[PAD]', '[PAD]', '[PAD]', '[PAD]', '[PAD]', '[PAD]', '[PAD]', '[PAD]', '[PAD]', '[PAD]', '[PAD]', '[PAD]', '[PAD]', '[PAD]', '[PAD]', '[PAD]', '[PAD]', '[PAD]', '[PAD]', '[PAD]', '[PAD]', '[PAD]', '[PAD]', '[PAD]', '[PAD]', '[PAD]', '[PAD]', '[PAD]', '[PAD]', '[PAD]', '[PAD]', '[PAD]', '[PAD]', '[PAD]', '[PAD]', '[PAD]', '[PAD]']\n",
      "[CLS] parker drilling payout parker drilling co said board directors voted suspend payment dividends shareholders parker drilling said paying quarterly dividend one ct share common stock company said expects save mln dlrs year dividend suspension reuter [SEP] [PAD] [PAD] [PAD] [PAD] [PAD] [PAD] [PAD] [PAD] [PAD] [PAD] [PAD] [PAD] [PAD] [PAD] [PAD] [PAD] [PAD] [PAD] [PAD] [PAD] [PAD] [PAD] [PAD] [PAD] [PAD] [PAD] [PAD] [PAD] [PAD] [PAD] [PAD] [PAD] [PAD] [PAD] [PAD] [PAD] [PAD] [PAD] [PAD] [PAD] [PAD] [PAD] [PAD] [PAD] [PAD] [PAD] [PAD] [PAD] [PAD] [PAD] [PAD] [PAD] [PAD] [PAD] [PAD] [PAD] [PAD] [PAD] [PAD] [PAD] [PAD] [PAD] [PAD] [PAD] [PAD] [PAD] [PAD] [PAD] [PAD] [PAD] [PAD] [PAD] [PAD] [PAD] [PAD] [PAD] [PAD] [PAD] [PAD] [PAD] [PAD] [PAD] [PAD] [PAD] [PAD] [PAD] [PAD] [PAD] [PAD] [PAD] [PAD] [PAD] [PAD]\n",
      "tensor([1, 1, 1, 1, 1, 1, 1, 1, 1, 1, 1, 1, 1, 1, 1, 1, 1, 1, 1, 1, 1, 1, 1, 1,\n",
      "        1, 1, 1, 1, 1, 1, 1, 1, 1, 1, 1, 1, 1, 1, 1, 1, 1, 1, 1, 1, 0, 0, 0, 0,\n",
      "        0, 0, 0, 0, 0, 0, 0, 0, 0, 0, 0, 0, 0, 0, 0, 0, 0, 0, 0, 0, 0, 0, 0, 0,\n",
      "        0, 0, 0, 0, 0, 0, 0, 0, 0, 0, 0, 0, 0, 0, 0, 0, 0, 0, 0, 0, 0, 0, 0, 0,\n",
      "        0, 0, 0, 0, 0, 0, 0, 0, 0, 0, 0, 0, 0, 0, 0, 0, 0, 0, 0, 0, 0, 0, 0, 0,\n",
      "        0, 0, 0, 0, 0, 0, 0, 0, 0, 0, 0, 0, 0, 0, 0, 0, 0])\n",
      "tensor([0., 0., 0.,  ..., 0., 0., 0.])\n",
      "\n",
      "BOW:\n",
      "------------\n",
      "tensor([   4,   14,   18,   22,   23,   30,   31,   32,   51,   53,   70,   78,\n",
      "          79,  119,  145,  178,  304,  353,  385,  504,  647,  739, 1964, 2020,\n",
      "        2090, 2740, 4214, 4447])\n",
      "['said', 'common', 'shareholders', 'company', 'reuter\\n', 'co', 'board', 'directors', 'dlrs', 'share', 'drilling', 'one', 'year', 'mln', 'stock', 'expects', 'payment', 'dividend', 'payout', 'quarterly', 'ct', 'suspend', 'paying', 'dividends', 'voted', 'suspension', 'save', 'parker']\n",
      "\n",
      "Label:\n",
      "------------\n",
      "tensor([0, 0, 1, 0, 0, 0, 0, 0])\n",
      "earn\n",
      "time: 150 ms (started: 2021-04-19 21:26:45 +00:00)\n"
     ]
    }
   ],
   "source": [
    "for i, (input_ids, attention_mask, bows, labels) in enumerate(dataloader_val_tb):\n",
    "  if i == 3: # Batch #\n",
    "    print('BERT Token(izer):\\n------------')\n",
    "    print(input_ids[3])\n",
    "    print(tokenizer.convert_ids_to_tokens(input_ids[3]))\n",
    "    print(tokenizer.decode(input_ids[3]))\n",
    "    print(attention_mask[3])\n",
    "    print(bows[3])\n",
    "    print('\\nBOW:\\n------------')\n",
    "    idxs=torch.where(bows[3] > 0)[0]\n",
    "    print(idxs)\n",
    "    print([r8_val_bow.vocab.words[x] for x in idxs])\n",
    "    print('\\nLabel:\\n------------')\n",
    "    print(labels[3])\n",
    "    print(r8_val.label_mapping[torch.where(labels[3] > 0)[0].item()])\n",
    "    break"
   ]
  },
  {
   "cell_type": "code",
   "execution_count": 18,
   "metadata": {
    "colab": {
     "base_uri": "https://localhost:8080/"
    },
    "id": "7Nvz26_T3kGy",
    "outputId": "95b8f431-d7f0-4f2f-9365-e607f3b346af"
   },
   "outputs": [
    {
     "name": "stdout",
     "output_type": "stream",
     "text": [
      "time: 45.3 ms (started: 2021-04-19 21:26:45 +00:00)\n"
     ]
    }
   ],
   "source": [
    "class NVDM(nn.Module):\n",
    "  @staticmethod\n",
    "  def _param_initializer(module):\n",
    "    if isinstance(module, nn.Linear):\n",
    "      nn.init.xavier_normal_(module.weight)\n",
    "\n",
    "    if isinstance(module, nn.Linear) and module.bias is not None:\n",
    "      module.bias.data.zero_()\n",
    "\n",
    "  def __init__(self, vocab_size, num_topics=50, hidden_size=256, hidden_layers=1, nonlinearity=nn.Tanh):\n",
    "    super().__init__()\n",
    "    self.num_topics = num_topics\n",
    "    self.vocab_size = vocab_size\n",
    "\n",
    "    # First MLP layer compresses from vocab_size to hidden_size\n",
    "    mlp_layers = [nn.Linear(vocab_size, hidden_size), nonlinearity()]\n",
    "    # Remaining layers operate in dimension hidden_size\n",
    "    for _ in range(hidden_layers - 1):\n",
    "      mlp_layers.append(nn.Linear(hidden_size, hidden_size))\n",
    "      mlp_layers.append(nonlinearity())\n",
    "\n",
    "    self.mlp = nn.Sequential(*mlp_layers)\n",
    "    self.mlp.apply(NVDM._param_initializer)\n",
    "\n",
    "    # Create linear projections for Gaussian params (mean & sigma)\n",
    "    self.mean = nn.Linear(hidden_size, num_topics)\n",
    "    self.mean.apply(NVDM._param_initializer)\n",
    "\n",
    "    # Custom initialization for log_sigma\n",
    "    self.log_sigma = nn.Linear(hidden_size, num_topics)\n",
    "    self.log_sigma.bias.data.zero_()\n",
    "    self.log_sigma.weight.data.fill_(0.)\n",
    "\n",
    "    self.dec_projection = nn.Linear(num_topics, vocab_size)\n",
    "    self.log_softmax = nn.LogSoftmax(-1)\n",
    "\n",
    "  def forward(self, input_bows):\n",
    "    # Run BOW through MLP\n",
    "    pi = self.mlp(input_bows)\n",
    "\n",
    "    # Use this to get mean, log_sig for Gaussian\n",
    "    mean = self.mean(pi)\n",
    "    log_sigma = self.log_sigma(pi)\n",
    "\n",
    "    # Calculate KLD\n",
    "    kld = -0.5 * torch.sum(1 - torch.square(mean) + (2 * log_sigma - torch.exp(2 * log_sigma)), 1)\n",
    "    # kld = mask * kld  # mask paddings\n",
    "\n",
    "    # Use Gaussian reparam. trick to sample from distribution defined by mu, sig\n",
    "    # This provides a sample h_tm from posterior q(h_tm | V) (tm meaning topic model)\n",
    "    epsilons = torch.normal(0, 1, size=(input_bows.size()[0], self.num_topics)).to(input_bows.device)\n",
    "    sample = (torch.exp(log_sigma) * epsilons) + mean\n",
    "\n",
    "    # Softmax to get p(v_i | h_tm), AKA probabilities of words given hidden state\n",
    "    logits = self.log_softmax(self.dec_projection(sample)) \n",
    "\n",
    "    # Lowerbound on NVDM true loss, used for optimization\n",
    "    rec_loss = -1 * torch.sum(logits * input_bows, 1)\n",
    "    loss_nvdm_lb = torch.mean(rec_loss + kld)\n",
    "\n",
    "    return sample, logits, loss_nvdm_lb\n"
   ]
  },
  {
   "cell_type": "code",
   "execution_count": 19,
   "metadata": {
    "colab": {
     "base_uri": "https://localhost:8080/"
    },
    "id": "qDvF1D0CcoMY",
    "outputId": "e16e8650-f34e-4c8b-d67a-dea556b1e820"
   },
   "outputs": [
    {
     "name": "stdout",
     "output_type": "stream",
     "text": [
      "time: 22.2 ms (started: 2021-04-19 21:26:45 +00:00)\n"
     ]
    }
   ],
   "source": [
    "def train_nvdm(model, batch_size=32, lr=0.00005, epochs=1000, verbose=True, device='cuda'):\n",
    "  model = model.to(device)  # Move the model to device.  \n",
    "  dataloader_train = DataLoader(r8_train_bow, batch_size=batch_size, shuffle=True, \n",
    "                                num_workers=2, collate_fn=collate_fn_topicbert)\n",
    "  optimizer = torch.optim.Adam(model.parameters(), lr=lr)\n",
    "\n",
    "  loss_avg = float('inf')\n",
    "  losses = []\n",
    "  for epoch in range(epochs):\n",
    "    model.train()  # This turns on the training mode (e.g., enable dropout).\n",
    "    loss_total = 0.\n",
    "    num_correct_train = 0\n",
    "    for _, _, input_bows, _ in dataloader_train:\n",
    "      input_bows = input_bows.to(device)\n",
    "      _, _, loss_batch_total = model(input_bows) \n",
    "      loss_total += loss_batch_total.item()            \n",
    "      \n",
    "      loss_batch_avg = loss_batch_total / input_bows.size(0)  \n",
    "      loss_batch_avg.backward()  \n",
    "\n",
    "      optimizer.step()  # optimizer updates model weights based on stored gradients\n",
    "      optimizer.zero_grad()  # Reset gradient slots to zero\n",
    "\n",
    "    # Useful training information\n",
    "    loss_avg = loss_total / len(dataloader_train.dataset)\n",
    "    losses.append(loss_avg)\n",
    "\n",
    "    if verbose and (epoch + 1) % 50 == 0:\n",
    "      print('Epoch {:3d} | avg loss {:8.4f} '.format(epoch + 1, loss_avg))\n",
    "  \n",
    "  if verbose: \n",
    "    print('Final avg loss {:8.4f}'.format(loss_avg))\n",
    "    \n",
    "  return loss_avg, losses"
   ]
  },
  {
   "cell_type": "code",
   "execution_count": null,
   "metadata": {
    "colab": {
     "base_uri": "https://localhost:8080/",
     "height": 659
    },
    "id": "F-NeoBHw6FxQ",
    "outputId": "96c096a6-0bea-4b6e-c45b-451c7c8e66f6"
   },
   "outputs": [
    {
     "name": "stdout",
     "output_type": "stream",
     "text": [
      "Epoch  50 | avg loss 101.5623 \n",
      "Epoch 100 | avg loss  96.5617 \n",
      "Epoch 150 | avg loss  94.0050 \n",
      "Epoch 200 | avg loss  92.1392 \n",
      "Epoch 250 | avg loss  91.1717 \n",
      "Epoch 300 | avg loss  90.5077 \n",
      "Epoch 350 | avg loss  89.9338 \n",
      "Epoch 400 | avg loss  89.6736 \n",
      "Epoch 450 | avg loss  89.3489 \n",
      "Epoch 500 | avg loss  89.0162 \n",
      "Epoch 550 | avg loss  88.8845 \n",
      "Epoch 600 | avg loss  88.6974 \n",
      "Epoch 650 | avg loss  88.7827 \n",
      "Epoch 700 | avg loss  88.3320 \n",
      "Epoch 750 | avg loss  88.2300 \n",
      "Epoch 800 | avg loss  88.1239 \n",
      "Epoch 850 | avg loss  88.0998 \n",
      "Epoch 900 | avg loss  87.9714 \n",
      "Epoch 950 | avg loss  87.8886 \n",
      "Epoch 1000 | avg loss  87.8035 \n",
      "Final avg loss  87.8035\n"
     ]
    },
    {
     "data": {
      "image/png": "[encoded data removed]",
      "text/plain": [
       "<Figure size 432x288 with 1 Axes>"
      ]
     },
     "metadata": {
      "tags": []
     },
     "output_type": "display_data"
    },
    {
     "name": "stdout",
     "output_type": "stream",
     "text": [
      "time: 1h 21min 11s (started: 2021-04-19 00:43:43 +00:00)\n"
     ]
    }
   ],
   "source": [
    "import matplotlib.pyplot as plt\n",
    "import seaborn as sns\n",
    "\n",
    "if True: # Set True to run. \n",
    "  torch.cuda.empty_cache()\n",
    "  set_seed(42)\n",
    "  model = NVDM(len(r8_train.vocab))\n",
    "  avg_loss, losses = train_nvdm(model, batch_size=4)\n",
    "\n",
    "  sns.set(style='darkgrid')\n",
    "  plt.plot(np.array(losses))\n",
    "  plt.xlabel(\"Epoch\")\n",
    "  plt.ylabel(\"Loss\")\n",
    "  plt.show()"
   ]
  },
  {
   "cell_type": "markdown",
   "metadata": {
    "id": "GfZoWQ_fUz68"
   },
   "source": [
    "## TopicBERT\n",
    "\n",
    "Here we merge BERT & NVDM together to yield TopicBERT"
   ]
  },
  {
   "cell_type": "code",
   "execution_count": 20,
   "metadata": {
    "colab": {
     "base_uri": "https://localhost:8080/"
    },
    "id": "eWJ_YGr_U9DZ",
    "outputId": "a3e317ab-ee26-4c18-d117-062a5176c26b"
   },
   "outputs": [
    {
     "name": "stdout",
     "output_type": "stream",
     "text": [
      "time: 23 ms (started: 2021-04-19 21:26:45 +00:00)\n"
     ]
    }
   ],
   "source": [
    "class TopicBert(nn.Module):\n",
    "  def __init__(self, vocab_size, num_labels, alpha=0.9):\n",
    "    super().__init__()\n",
    "    self.alpha = alpha\n",
    "    self.encoder = BertModel.from_pretrained('bert-base-uncased')\n",
    "    self.nvdm = NVDM(vocab_size)\n",
    "    self.projection = nn.Sequential(\n",
    "      nn.Linear(self.encoder.config.hidden_size + self.nvdm.num_topics, \n",
    "                self.nvdm.num_topics, bias=False), \n",
    "      # nn.GELU() # This is NOT used in paper, but it is used in TF source...\n",
    "      nn.Linear(self.nvdm.num_topics, num_labels)\n",
    "    )\n",
    "    self.projection.apply(get_init_transformer(self.encoder)) \n",
    "\n",
    "    self.bert_loss = nn.CrossEntropyLoss(reduction='mean')\n",
    "\n",
    "  def forward(self, input_ids, attention_mask, bows, labels):\n",
    "    hiddens_last = self.encoder(input_ids, attention_mask=attention_mask)[0]  # (batch_size, length, dim), these are last layer embeddings\n",
    "    embs = hiddens_last[:,0,:]  # [CLS] token embeddings\n",
    "    \n",
    "    h_tm, _, loss_nvdm = self.nvdm(bows)\n",
    "\n",
    "    # combine hidden states & use/optimize jointly\n",
    "    logits = self.projection(torch.cat((embs, h_tm), dim=-1))\n",
    "\n",
    "    # Runs cross-entropy softmax loss on labels\n",
    "    loss_bert = self.bert_loss(logits, torch.max(labels, 1)[1])\n",
    "    loss_total = (self.alpha * loss_bert) + ((1 - self.alpha) * loss_nvdm)\n",
    "    return logits, loss_total"
   ]
  },
  {
   "cell_type": "code",
   "execution_count": 27,
   "metadata": {
    "colab": {
     "base_uri": "https://localhost:8080/"
    },
    "id": "1vAgAI0G6Qys",
    "outputId": "0e8631ec-b940-427a-dbf8-c374cf0c9a26"
   },
   "outputs": [
    {
     "name": "stdout",
     "output_type": "stream",
     "text": [
      "time: 15.5 ms (started: 2021-04-19 21:43:39 +00:00)\n"
     ]
    }
   ],
   "source": [
    "from sklearn.metrics import f1_score\n",
    "\n",
    "def get_acc_val(model, device):\n",
    "  num_correct_val = 0\n",
    "  best_f1_val = 0\n",
    "  model.eval()  \n",
    "  all_preds = []\n",
    "  all_labels = []\n",
    "  with torch.no_grad(): \n",
    "    for input_ids, attention_mask, bows, labels in dataloader_val_tb:\n",
    "      input_ids = input_ids.to(device)\n",
    "      attention_mask = attention_mask.to(device)\n",
    "      bows = bows.to(device)\n",
    "      labels = labels.to(device)\n",
    "      logits, _ = model(input_ids, attention_mask, bows, labels) \n",
    "\n",
    "      preds = torch.max(logits, 1)[1] # get label from max score per example\n",
    "      labels = torch.max(labels, 1)[1]\n",
    "      num_correct_val += (preds == labels).sum()\n",
    "\n",
    "      all_preds = np.concatenate((all_preds, preds.cpu().numpy()), axis=None)\n",
    "      all_labels = np.concatenate((all_labels, labels.cpu().numpy()), axis=None)\n",
    "      \n",
    "  acc_val = num_correct_val / len(dataloader_val.dataset) * 100.\n",
    "  return acc_val, f1_score(all_labels, all_preds, average='macro')"
   ]
  },
  {
   "cell_type": "code",
   "execution_count": 28,
   "metadata": {
    "colab": {
     "base_uri": "https://localhost:8080/"
    },
    "id": "tgGZU0MU6M30",
    "outputId": "4eba984e-e09a-475f-a9ef-909af69c6718"
   },
   "outputs": [
    {
     "name": "stdout",
     "output_type": "stream",
     "text": [
      "time: 47.9 ms (started: 2021-04-19 21:43:42 +00:00)\n"
     ]
    }
   ],
   "source": [
    "def train_topicbert(model, batch_size=32, num_warmup_steps=10, lr=2e-5, num_epochs=3, clip=1., verbose=True, device='cuda'):\n",
    "  model = model.to(device)  # Move the model to device.  \n",
    "  dataloader_train = DataLoader(r8_train_bow, batch_size=batch_size, shuffle=True, num_workers=2, collate_fn=collate_fn_topicbert) \n",
    "  num_train_steps = len(r8_train_bow) // batch_size * num_epochs\n",
    "  optimizer, scheduler = configure_optimization(model, num_train_steps, num_warmup_steps, lr)\n",
    "\n",
    "  loss_avg = float('inf')\n",
    "  acc_train = 0.\n",
    "  best_acc_val = 0.\n",
    "  for epoch in range(num_epochs):\n",
    "    model.train()  # This turns on the training mode (e.g., enable dropout).\n",
    "    loss_total = 0.\n",
    "    num_correct_train = 0\n",
    "    for batch_ind, (input_ids, attention_mask, bows, labels) in enumerate(dataloader_train):\n",
    "      if (batch_ind + 1) % 300 == 0: \n",
    "        print(batch_ind + 1, '/', len(dataloader_train), 'batches done')\n",
    "      input_ids = input_ids.to(device).long()\n",
    "      attention_mask = attention_mask.to(device)\n",
    "      bows = bows.to(device)\n",
    "      labels = labels.to(device)      \n",
    "      logits, loss_batch_total = model(input_ids, attention_mask, bows, labels) \n",
    "      preds = torch.max(logits, 1)[1]  # get label from max score per example\n",
    "      num_correct_train += (preds == torch.max(labels, 1)[1]).sum()\n",
    "      loss_total += loss_batch_total.item()            \n",
    "      \n",
    "      loss_batch_avg = loss_batch_total / input_ids.size(0)  \n",
    "      loss_batch_avg.backward()  \n",
    "\n",
    "      if clip > 0.:  # Optional gradient clipping\n",
    "        nn.utils.clip_grad_norm_(model.parameters(), clip)\n",
    "\n",
    "      optimizer.step()  # optimizer updates model weights based on stored gradients\n",
    "      scheduler.step()  # Update lr. \n",
    "      optimizer.zero_grad()  # Reset gradient slots to zero\n",
    "\n",
    "    # Useful training information\n",
    "    loss_avg = loss_total / len(dataloader_train.dataset)\n",
    "    acc_train = num_correct_train / len(dataloader_train.dataset) * 100.\n",
    "\n",
    "    # Check validation performance at the end of every epoch. \n",
    "    acc_val, best_f1_val = get_acc_val(model, device)\n",
    "\n",
    "    if verbose:\n",
    "      print('Epoch {:3d} | avg loss {:8.4f} | train acc {:2.2f} | val acc {:2.2f} | val best f1 {:.2f}'.format(epoch + 1, loss_avg, acc_train, acc_val, best_f1_val))\n",
    "\n",
    "    if acc_val > best_acc_val: \n",
    "      best_acc_val = acc_val\n",
    "  \n",
    "  if verbose: \n",
    "    print('Final avg loss {:8.4f} | final train acc {:2.2f} | best val acc {:2.2f}'.format(loss_avg, acc_train, best_acc_val))\n",
    "\n",
    "  return best_acc_val"
   ]
  },
  {
   "cell_type": "code",
   "execution_count": 29,
   "metadata": {
    "colab": {
     "base_uri": "https://localhost:8080/"
    },
    "id": "arh9z6G46PkL",
    "outputId": "3f31732b-be05-4945-832f-e6a3e4e5aa30"
   },
   "outputs": [
    {
     "name": "stdout",
     "output_type": "stream",
     "text": [
      "300 / 1247 batches done\n",
      "600 / 1247 batches done\n",
      "900 / 1247 batches done\n",
      "1200 / 1247 batches done\n",
      "Epoch   1 | avg loss  13.9277 | train acc 89.29 | val acc 96.60 | val best f1 0.91\n",
      "300 / 1247 batches done\n",
      "600 / 1247 batches done\n",
      "900 / 1247 batches done\n",
      "1200 / 1247 batches done\n",
      "Epoch   2 | avg loss  13.4076 | train acc 97.73 | val acc 97.20 | val best f1 0.94\n",
      "300 / 1247 batches done\n",
      "600 / 1247 batches done\n",
      "900 / 1247 batches done\n",
      "1200 / 1247 batches done\n",
      "Epoch   3 | avg loss  12.9529 | train acc 98.96 | val acc 97.60 | val best f1 0.95\n",
      "300 / 1247 batches done\n",
      "600 / 1247 batches done\n",
      "900 / 1247 batches done\n",
      "1200 / 1247 batches done\n",
      "Epoch   4 | avg loss  12.5995 | train acc 98.94 | val acc 96.80 | val best f1 0.93\n",
      "300 / 1247 batches done\n",
      "600 / 1247 batches done\n",
      "900 / 1247 batches done\n",
      "1200 / 1247 batches done\n",
      "Epoch   5 | avg loss  12.3379 | train acc 99.22 | val acc 96.80 | val best f1 0.93\n",
      "300 / 1247 batches done\n",
      "600 / 1247 batches done\n",
      "900 / 1247 batches done\n",
      "1200 / 1247 batches done\n",
      "Epoch   6 | avg loss  12.1470 | train acc 99.46 | val acc 96.80 | val best f1 0.92\n",
      "300 / 1247 batches done\n",
      "600 / 1247 batches done\n",
      "900 / 1247 batches done\n",
      "1200 / 1247 batches done\n",
      "Epoch   7 | avg loss  11.9976 | train acc 99.46 | val acc 97.00 | val best f1 0.93\n",
      "300 / 1247 batches done\n",
      "600 / 1247 batches done\n",
      "900 / 1247 batches done\n",
      "1200 / 1247 batches done\n",
      "Epoch   8 | avg loss  11.8930 | train acc 99.60 | val acc 96.40 | val best f1 0.93\n",
      "300 / 1247 batches done\n",
      "600 / 1247 batches done\n",
      "900 / 1247 batches done\n",
      "1200 / 1247 batches done\n",
      "Epoch   9 | avg loss  11.8154 | train acc 99.72 | val acc 97.40 | val best f1 0.95\n",
      "300 / 1247 batches done\n",
      "600 / 1247 batches done\n",
      "900 / 1247 batches done\n",
      "1200 / 1247 batches done\n",
      "Epoch  10 | avg loss  11.7606 | train acc 99.90 | val acc 97.20 | val best f1 0.95\n",
      "300 / 1247 batches done\n",
      "600 / 1247 batches done\n",
      "900 / 1247 batches done\n",
      "1200 / 1247 batches done\n",
      "Epoch  11 | avg loss  11.7011 | train acc 99.90 | val acc 97.20 | val best f1 0.95\n",
      "300 / 1247 batches done\n",
      "600 / 1247 batches done\n",
      "900 / 1247 batches done\n",
      "1200 / 1247 batches done\n",
      "Epoch  12 | avg loss  11.6949 | train acc 99.88 | val acc 97.60 | val best f1 0.95\n",
      "300 / 1247 batches done\n",
      "600 / 1247 batches done\n",
      "900 / 1247 batches done\n",
      "1200 / 1247 batches done\n",
      "Epoch  13 | avg loss  11.6401 | train acc 99.96 | val acc 97.80 | val best f1 0.96\n",
      "300 / 1247 batches done\n",
      "600 / 1247 batches done\n",
      "900 / 1247 batches done\n",
      "1200 / 1247 batches done\n",
      "Epoch  14 | avg loss  11.6202 | train acc 99.96 | val acc 98.00 | val best f1 0.96\n",
      "300 / 1247 batches done\n",
      "600 / 1247 batches done\n",
      "900 / 1247 batches done\n",
      "1200 / 1247 batches done\n",
      "Epoch  15 | avg loss  11.6209 | train acc 99.96 | val acc 98.00 | val best f1 0.96\n",
      "Final avg loss  11.6209 | final train acc 99.96 | best val acc 98.00\n",
      "time: 51min 43s (started: 2021-04-19 21:43:44 +00:00)\n"
     ]
    }
   ],
   "source": [
    "if True: # Set True to run. \n",
    "  torch.cuda.empty_cache()\n",
    "  set_seed(42)\n",
    "  model = TopicBert(len(r8_train_bow.vocab), r8_train.num_labels)\n",
    "  best_acc_val = train_topicbert(model, num_epochs=15, batch_size=4)"
   ]
  }
 ],
 "metadata": {
  "accelerator": "GPU",
  "colab": {
   "collapsed_sections": [],
   "name": "experiment.ipynb",
   "provenance": []
  },
  "kernelspec": {
   "display_name": "Python 3",
   "language": "python",
   "name": "python3"
  },
  "language_info": {
   "codemirror_mode": {
    "name": "ipython",
    "version": 3
   },
   "file_extension": ".py",
   "mimetype": "text/x-python",
   "name": "python",
   "nbconvert_exporter": "python",
   "pygments_lexer": "ipython3",
   "version": "3.7.10"
  }
 },
 "nbformat": 4,
 "nbformat_minor": 4
}
