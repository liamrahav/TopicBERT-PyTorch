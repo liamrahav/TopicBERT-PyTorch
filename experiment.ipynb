{
  "nbformat": 4,
  "nbformat_minor": 0,
  "metadata": {
    "accelerator": "GPU",
    "colab": {
      "name": "experiment.ipynb",
      "provenance": [],
      "collapsed_sections": []
    },
    "kernelspec": {
      "display_name": "Python 3",
      "language": "python",
      "name": "python3"
    },
    "language_info": {
      "codemirror_mode": {
        "name": "ipython",
        "version": 3
      },
      "file_extension": ".py",
      "mimetype": "text/x-python",
      "name": "python",
      "nbconvert_exporter": "python",
      "pygments_lexer": "ipython3",
      "version": "3.7.10"
    },
    "widgets": {
      "application/vnd.jupyter.widget-state+json": {
        "2bd8d049f0de4334ba8fde4dfdedf4b1": {
          "model_module": "@jupyter-widgets/controls",
          "model_name": "HBoxModel",
          "state": {
            "_view_name": "HBoxView",
            "_dom_classes": [],
            "_model_name": "HBoxModel",
            "_view_module": "@jupyter-widgets/controls",
            "_model_module_version": "1.5.0",
            "_view_count": null,
            "_view_module_version": "1.5.0",
            "box_style": "",
            "layout": "IPY_MODEL_aff2e178cb2840818b4fac7c04ebaae6",
            "_model_module": "@jupyter-widgets/controls",
            "children": [
              "IPY_MODEL_eb2193d08eed47b9b1b5dbe2b8d315d5",
              "IPY_MODEL_7f8998052fc94d73bbc0234d7b588c72"
            ]
          }
        },
        "aff2e178cb2840818b4fac7c04ebaae6": {
          "model_module": "@jupyter-widgets/base",
          "model_name": "LayoutModel",
          "state": {
            "_view_name": "LayoutView",
            "grid_template_rows": null,
            "right": null,
            "justify_content": null,
            "_view_module": "@jupyter-widgets/base",
            "overflow": null,
            "_model_module_version": "1.2.0",
            "_view_count": null,
            "flex_flow": null,
            "width": null,
            "min_width": null,
            "border": null,
            "align_items": null,
            "bottom": null,
            "_model_module": "@jupyter-widgets/base",
            "top": null,
            "grid_column": null,
            "overflow_y": null,
            "overflow_x": null,
            "grid_auto_flow": null,
            "grid_area": null,
            "grid_template_columns": null,
            "flex": null,
            "_model_name": "LayoutModel",
            "justify_items": null,
            "grid_row": null,
            "max_height": null,
            "align_content": null,
            "visibility": null,
            "align_self": null,
            "height": null,
            "min_height": null,
            "padding": null,
            "grid_auto_rows": null,
            "grid_gap": null,
            "max_width": null,
            "order": null,
            "_view_module_version": "1.2.0",
            "grid_template_areas": null,
            "object_position": null,
            "object_fit": null,
            "grid_auto_columns": null,
            "margin": null,
            "display": null,
            "left": null
          }
        },
        "eb2193d08eed47b9b1b5dbe2b8d315d5": {
          "model_module": "@jupyter-widgets/controls",
          "model_name": "FloatProgressModel",
          "state": {
            "_view_name": "ProgressView",
            "style": "IPY_MODEL_26274885b8ac479fb4c98ea68c5f7b28",
            "_dom_classes": [],
            "description": "Downloading: 100%",
            "_model_name": "FloatProgressModel",
            "bar_style": "success",
            "max": 231508,
            "_view_module": "@jupyter-widgets/controls",
            "_model_module_version": "1.5.0",
            "value": 231508,
            "_view_count": null,
            "_view_module_version": "1.5.0",
            "orientation": "horizontal",
            "min": 0,
            "description_tooltip": null,
            "_model_module": "@jupyter-widgets/controls",
            "layout": "IPY_MODEL_724c65e47a374ab5b274d374f885c2cc"
          }
        },
        "7f8998052fc94d73bbc0234d7b588c72": {
          "model_module": "@jupyter-widgets/controls",
          "model_name": "HTMLModel",
          "state": {
            "_view_name": "HTMLView",
            "style": "IPY_MODEL_705ba490c11345a9b4f8de21b130f805",
            "_dom_classes": [],
            "description": "",
            "_model_name": "HTMLModel",
            "placeholder": "​",
            "_view_module": "@jupyter-widgets/controls",
            "_model_module_version": "1.5.0",
            "value": " 232k/232k [00:00&lt;00:00, 2.22MB/s]",
            "_view_count": null,
            "_view_module_version": "1.5.0",
            "description_tooltip": null,
            "_model_module": "@jupyter-widgets/controls",
            "layout": "IPY_MODEL_bd719c70004b4c9693acf2244306847e"
          }
        },
        "26274885b8ac479fb4c98ea68c5f7b28": {
          "model_module": "@jupyter-widgets/controls",
          "model_name": "ProgressStyleModel",
          "state": {
            "_view_name": "StyleView",
            "_model_name": "ProgressStyleModel",
            "description_width": "initial",
            "_view_module": "@jupyter-widgets/base",
            "_model_module_version": "1.5.0",
            "_view_count": null,
            "_view_module_version": "1.2.0",
            "bar_color": null,
            "_model_module": "@jupyter-widgets/controls"
          }
        },
        "724c65e47a374ab5b274d374f885c2cc": {
          "model_module": "@jupyter-widgets/base",
          "model_name": "LayoutModel",
          "state": {
            "_view_name": "LayoutView",
            "grid_template_rows": null,
            "right": null,
            "justify_content": null,
            "_view_module": "@jupyter-widgets/base",
            "overflow": null,
            "_model_module_version": "1.2.0",
            "_view_count": null,
            "flex_flow": null,
            "width": null,
            "min_width": null,
            "border": null,
            "align_items": null,
            "bottom": null,
            "_model_module": "@jupyter-widgets/base",
            "top": null,
            "grid_column": null,
            "overflow_y": null,
            "overflow_x": null,
            "grid_auto_flow": null,
            "grid_area": null,
            "grid_template_columns": null,
            "flex": null,
            "_model_name": "LayoutModel",
            "justify_items": null,
            "grid_row": null,
            "max_height": null,
            "align_content": null,
            "visibility": null,
            "align_self": null,
            "height": null,
            "min_height": null,
            "padding": null,
            "grid_auto_rows": null,
            "grid_gap": null,
            "max_width": null,
            "order": null,
            "_view_module_version": "1.2.0",
            "grid_template_areas": null,
            "object_position": null,
            "object_fit": null,
            "grid_auto_columns": null,
            "margin": null,
            "display": null,
            "left": null
          }
        },
        "705ba490c11345a9b4f8de21b130f805": {
          "model_module": "@jupyter-widgets/controls",
          "model_name": "DescriptionStyleModel",
          "state": {
            "_view_name": "StyleView",
            "_model_name": "DescriptionStyleModel",
            "description_width": "",
            "_view_module": "@jupyter-widgets/base",
            "_model_module_version": "1.5.0",
            "_view_count": null,
            "_view_module_version": "1.2.0",
            "_model_module": "@jupyter-widgets/controls"
          }
        },
        "bd719c70004b4c9693acf2244306847e": {
          "model_module": "@jupyter-widgets/base",
          "model_name": "LayoutModel",
          "state": {
            "_view_name": "LayoutView",
            "grid_template_rows": null,
            "right": null,
            "justify_content": null,
            "_view_module": "@jupyter-widgets/base",
            "overflow": null,
            "_model_module_version": "1.2.0",
            "_view_count": null,
            "flex_flow": null,
            "width": null,
            "min_width": null,
            "border": null,
            "align_items": null,
            "bottom": null,
            "_model_module": "@jupyter-widgets/base",
            "top": null,
            "grid_column": null,
            "overflow_y": null,
            "overflow_x": null,
            "grid_auto_flow": null,
            "grid_area": null,
            "grid_template_columns": null,
            "flex": null,
            "_model_name": "LayoutModel",
            "justify_items": null,
            "grid_row": null,
            "max_height": null,
            "align_content": null,
            "visibility": null,
            "align_self": null,
            "height": null,
            "min_height": null,
            "padding": null,
            "grid_auto_rows": null,
            "grid_gap": null,
            "max_width": null,
            "order": null,
            "_view_module_version": "1.2.0",
            "grid_template_areas": null,
            "object_position": null,
            "object_fit": null,
            "grid_auto_columns": null,
            "margin": null,
            "display": null,
            "left": null
          }
        },
        "d1e2973370be47ebb76b7b94f3478b99": {
          "model_module": "@jupyter-widgets/controls",
          "model_name": "HBoxModel",
          "state": {
            "_view_name": "HBoxView",
            "_dom_classes": [],
            "_model_name": "HBoxModel",
            "_view_module": "@jupyter-widgets/controls",
            "_model_module_version": "1.5.0",
            "_view_count": null,
            "_view_module_version": "1.5.0",
            "box_style": "",
            "layout": "IPY_MODEL_aec9791a50a740d2b3747277c5caf6c7",
            "_model_module": "@jupyter-widgets/controls",
            "children": [
              "IPY_MODEL_d139006cbf0f4c95b22dc03aab5fda7e",
              "IPY_MODEL_c208af4c0fe14cddac8818d53a76079a"
            ]
          }
        },
        "aec9791a50a740d2b3747277c5caf6c7": {
          "model_module": "@jupyter-widgets/base",
          "model_name": "LayoutModel",
          "state": {
            "_view_name": "LayoutView",
            "grid_template_rows": null,
            "right": null,
            "justify_content": null,
            "_view_module": "@jupyter-widgets/base",
            "overflow": null,
            "_model_module_version": "1.2.0",
            "_view_count": null,
            "flex_flow": null,
            "width": null,
            "min_width": null,
            "border": null,
            "align_items": null,
            "bottom": null,
            "_model_module": "@jupyter-widgets/base",
            "top": null,
            "grid_column": null,
            "overflow_y": null,
            "overflow_x": null,
            "grid_auto_flow": null,
            "grid_area": null,
            "grid_template_columns": null,
            "flex": null,
            "_model_name": "LayoutModel",
            "justify_items": null,
            "grid_row": null,
            "max_height": null,
            "align_content": null,
            "visibility": null,
            "align_self": null,
            "height": null,
            "min_height": null,
            "padding": null,
            "grid_auto_rows": null,
            "grid_gap": null,
            "max_width": null,
            "order": null,
            "_view_module_version": "1.2.0",
            "grid_template_areas": null,
            "object_position": null,
            "object_fit": null,
            "grid_auto_columns": null,
            "margin": null,
            "display": null,
            "left": null
          }
        },
        "d139006cbf0f4c95b22dc03aab5fda7e": {
          "model_module": "@jupyter-widgets/controls",
          "model_name": "FloatProgressModel",
          "state": {
            "_view_name": "ProgressView",
            "style": "IPY_MODEL_242f953aa820497bb5e719137ba1999d",
            "_dom_classes": [],
            "description": "Downloading: 100%",
            "_model_name": "FloatProgressModel",
            "bar_style": "success",
            "max": 28,
            "_view_module": "@jupyter-widgets/controls",
            "_model_module_version": "1.5.0",
            "value": 28,
            "_view_count": null,
            "_view_module_version": "1.5.0",
            "orientation": "horizontal",
            "min": 0,
            "description_tooltip": null,
            "_model_module": "@jupyter-widgets/controls",
            "layout": "IPY_MODEL_cb6050b8814f4f6d9ebdf99ad1b47dcc"
          }
        },
        "c208af4c0fe14cddac8818d53a76079a": {
          "model_module": "@jupyter-widgets/controls",
          "model_name": "HTMLModel",
          "state": {
            "_view_name": "HTMLView",
            "style": "IPY_MODEL_4948ce9f3bb642c8b944b3a1dc7e9cff",
            "_dom_classes": [],
            "description": "",
            "_model_name": "HTMLModel",
            "placeholder": "​",
            "_view_module": "@jupyter-widgets/controls",
            "_model_module_version": "1.5.0",
            "value": " 28.0/28.0 [00:00&lt;00:00, 144B/s]",
            "_view_count": null,
            "_view_module_version": "1.5.0",
            "description_tooltip": null,
            "_model_module": "@jupyter-widgets/controls",
            "layout": "IPY_MODEL_c6b065dc94d3467393c49bc79101af2d"
          }
        },
        "242f953aa820497bb5e719137ba1999d": {
          "model_module": "@jupyter-widgets/controls",
          "model_name": "ProgressStyleModel",
          "state": {
            "_view_name": "StyleView",
            "_model_name": "ProgressStyleModel",
            "description_width": "initial",
            "_view_module": "@jupyter-widgets/base",
            "_model_module_version": "1.5.0",
            "_view_count": null,
            "_view_module_version": "1.2.0",
            "bar_color": null,
            "_model_module": "@jupyter-widgets/controls"
          }
        },
        "cb6050b8814f4f6d9ebdf99ad1b47dcc": {
          "model_module": "@jupyter-widgets/base",
          "model_name": "LayoutModel",
          "state": {
            "_view_name": "LayoutView",
            "grid_template_rows": null,
            "right": null,
            "justify_content": null,
            "_view_module": "@jupyter-widgets/base",
            "overflow": null,
            "_model_module_version": "1.2.0",
            "_view_count": null,
            "flex_flow": null,
            "width": null,
            "min_width": null,
            "border": null,
            "align_items": null,
            "bottom": null,
            "_model_module": "@jupyter-widgets/base",
            "top": null,
            "grid_column": null,
            "overflow_y": null,
            "overflow_x": null,
            "grid_auto_flow": null,
            "grid_area": null,
            "grid_template_columns": null,
            "flex": null,
            "_model_name": "LayoutModel",
            "justify_items": null,
            "grid_row": null,
            "max_height": null,
            "align_content": null,
            "visibility": null,
            "align_self": null,
            "height": null,
            "min_height": null,
            "padding": null,
            "grid_auto_rows": null,
            "grid_gap": null,
            "max_width": null,
            "order": null,
            "_view_module_version": "1.2.0",
            "grid_template_areas": null,
            "object_position": null,
            "object_fit": null,
            "grid_auto_columns": null,
            "margin": null,
            "display": null,
            "left": null
          }
        },
        "4948ce9f3bb642c8b944b3a1dc7e9cff": {
          "model_module": "@jupyter-widgets/controls",
          "model_name": "DescriptionStyleModel",
          "state": {
            "_view_name": "StyleView",
            "_model_name": "DescriptionStyleModel",
            "description_width": "",
            "_view_module": "@jupyter-widgets/base",
            "_model_module_version": "1.5.0",
            "_view_count": null,
            "_view_module_version": "1.2.0",
            "_model_module": "@jupyter-widgets/controls"
          }
        },
        "c6b065dc94d3467393c49bc79101af2d": {
          "model_module": "@jupyter-widgets/base",
          "model_name": "LayoutModel",
          "state": {
            "_view_name": "LayoutView",
            "grid_template_rows": null,
            "right": null,
            "justify_content": null,
            "_view_module": "@jupyter-widgets/base",
            "overflow": null,
            "_model_module_version": "1.2.0",
            "_view_count": null,
            "flex_flow": null,
            "width": null,
            "min_width": null,
            "border": null,
            "align_items": null,
            "bottom": null,
            "_model_module": "@jupyter-widgets/base",
            "top": null,
            "grid_column": null,
            "overflow_y": null,
            "overflow_x": null,
            "grid_auto_flow": null,
            "grid_area": null,
            "grid_template_columns": null,
            "flex": null,
            "_model_name": "LayoutModel",
            "justify_items": null,
            "grid_row": null,
            "max_height": null,
            "align_content": null,
            "visibility": null,
            "align_self": null,
            "height": null,
            "min_height": null,
            "padding": null,
            "grid_auto_rows": null,
            "grid_gap": null,
            "max_width": null,
            "order": null,
            "_view_module_version": "1.2.0",
            "grid_template_areas": null,
            "object_position": null,
            "object_fit": null,
            "grid_auto_columns": null,
            "margin": null,
            "display": null,
            "left": null
          }
        },
        "515494c7cc764e55b8ea7c2f43066217": {
          "model_module": "@jupyter-widgets/controls",
          "model_name": "HBoxModel",
          "state": {
            "_view_name": "HBoxView",
            "_dom_classes": [],
            "_model_name": "HBoxModel",
            "_view_module": "@jupyter-widgets/controls",
            "_model_module_version": "1.5.0",
            "_view_count": null,
            "_view_module_version": "1.5.0",
            "box_style": "",
            "layout": "IPY_MODEL_4bb0a07eb29e4b54868274a45197e5a6",
            "_model_module": "@jupyter-widgets/controls",
            "children": [
              "IPY_MODEL_16f376a984144b1fbd963e1fcffa4d46",
              "IPY_MODEL_776982bc65734f498c38a1633a714c77"
            ]
          }
        },
        "4bb0a07eb29e4b54868274a45197e5a6": {
          "model_module": "@jupyter-widgets/base",
          "model_name": "LayoutModel",
          "state": {
            "_view_name": "LayoutView",
            "grid_template_rows": null,
            "right": null,
            "justify_content": null,
            "_view_module": "@jupyter-widgets/base",
            "overflow": null,
            "_model_module_version": "1.2.0",
            "_view_count": null,
            "flex_flow": null,
            "width": null,
            "min_width": null,
            "border": null,
            "align_items": null,
            "bottom": null,
            "_model_module": "@jupyter-widgets/base",
            "top": null,
            "grid_column": null,
            "overflow_y": null,
            "overflow_x": null,
            "grid_auto_flow": null,
            "grid_area": null,
            "grid_template_columns": null,
            "flex": null,
            "_model_name": "LayoutModel",
            "justify_items": null,
            "grid_row": null,
            "max_height": null,
            "align_content": null,
            "visibility": null,
            "align_self": null,
            "height": null,
            "min_height": null,
            "padding": null,
            "grid_auto_rows": null,
            "grid_gap": null,
            "max_width": null,
            "order": null,
            "_view_module_version": "1.2.0",
            "grid_template_areas": null,
            "object_position": null,
            "object_fit": null,
            "grid_auto_columns": null,
            "margin": null,
            "display": null,
            "left": null
          }
        },
        "16f376a984144b1fbd963e1fcffa4d46": {
          "model_module": "@jupyter-widgets/controls",
          "model_name": "FloatProgressModel",
          "state": {
            "_view_name": "ProgressView",
            "style": "IPY_MODEL_8f572ff5111b4ab69cd60cc6fc004298",
            "_dom_classes": [],
            "description": "Downloading: 100%",
            "_model_name": "FloatProgressModel",
            "bar_style": "success",
            "max": 466062,
            "_view_module": "@jupyter-widgets/controls",
            "_model_module_version": "1.5.0",
            "value": 466062,
            "_view_count": null,
            "_view_module_version": "1.5.0",
            "orientation": "horizontal",
            "min": 0,
            "description_tooltip": null,
            "_model_module": "@jupyter-widgets/controls",
            "layout": "IPY_MODEL_340d7b1dabee4f3f978cb6bc41546ae1"
          }
        },
        "776982bc65734f498c38a1633a714c77": {
          "model_module": "@jupyter-widgets/controls",
          "model_name": "HTMLModel",
          "state": {
            "_view_name": "HTMLView",
            "style": "IPY_MODEL_aec4a8071d5b4e1faebf60ed7ad5a894",
            "_dom_classes": [],
            "description": "",
            "_model_name": "HTMLModel",
            "placeholder": "​",
            "_view_module": "@jupyter-widgets/controls",
            "_model_module_version": "1.5.0",
            "value": " 466k/466k [00:00&lt;00:00, 5.72MB/s]",
            "_view_count": null,
            "_view_module_version": "1.5.0",
            "description_tooltip": null,
            "_model_module": "@jupyter-widgets/controls",
            "layout": "IPY_MODEL_67fa70d4a3f1499bbfa7ab9016fb752b"
          }
        },
        "8f572ff5111b4ab69cd60cc6fc004298": {
          "model_module": "@jupyter-widgets/controls",
          "model_name": "ProgressStyleModel",
          "state": {
            "_view_name": "StyleView",
            "_model_name": "ProgressStyleModel",
            "description_width": "initial",
            "_view_module": "@jupyter-widgets/base",
            "_model_module_version": "1.5.0",
            "_view_count": null,
            "_view_module_version": "1.2.0",
            "bar_color": null,
            "_model_module": "@jupyter-widgets/controls"
          }
        },
        "340d7b1dabee4f3f978cb6bc41546ae1": {
          "model_module": "@jupyter-widgets/base",
          "model_name": "LayoutModel",
          "state": {
            "_view_name": "LayoutView",
            "grid_template_rows": null,
            "right": null,
            "justify_content": null,
            "_view_module": "@jupyter-widgets/base",
            "overflow": null,
            "_model_module_version": "1.2.0",
            "_view_count": null,
            "flex_flow": null,
            "width": null,
            "min_width": null,
            "border": null,
            "align_items": null,
            "bottom": null,
            "_model_module": "@jupyter-widgets/base",
            "top": null,
            "grid_column": null,
            "overflow_y": null,
            "overflow_x": null,
            "grid_auto_flow": null,
            "grid_area": null,
            "grid_template_columns": null,
            "flex": null,
            "_model_name": "LayoutModel",
            "justify_items": null,
            "grid_row": null,
            "max_height": null,
            "align_content": null,
            "visibility": null,
            "align_self": null,
            "height": null,
            "min_height": null,
            "padding": null,
            "grid_auto_rows": null,
            "grid_gap": null,
            "max_width": null,
            "order": null,
            "_view_module_version": "1.2.0",
            "grid_template_areas": null,
            "object_position": null,
            "object_fit": null,
            "grid_auto_columns": null,
            "margin": null,
            "display": null,
            "left": null
          }
        },
        "aec4a8071d5b4e1faebf60ed7ad5a894": {
          "model_module": "@jupyter-widgets/controls",
          "model_name": "DescriptionStyleModel",
          "state": {
            "_view_name": "StyleView",
            "_model_name": "DescriptionStyleModel",
            "description_width": "",
            "_view_module": "@jupyter-widgets/base",
            "_model_module_version": "1.5.0",
            "_view_count": null,
            "_view_module_version": "1.2.0",
            "_model_module": "@jupyter-widgets/controls"
          }
        },
        "67fa70d4a3f1499bbfa7ab9016fb752b": {
          "model_module": "@jupyter-widgets/base",
          "model_name": "LayoutModel",
          "state": {
            "_view_name": "LayoutView",
            "grid_template_rows": null,
            "right": null,
            "justify_content": null,
            "_view_module": "@jupyter-widgets/base",
            "overflow": null,
            "_model_module_version": "1.2.0",
            "_view_count": null,
            "flex_flow": null,
            "width": null,
            "min_width": null,
            "border": null,
            "align_items": null,
            "bottom": null,
            "_model_module": "@jupyter-widgets/base",
            "top": null,
            "grid_column": null,
            "overflow_y": null,
            "overflow_x": null,
            "grid_auto_flow": null,
            "grid_area": null,
            "grid_template_columns": null,
            "flex": null,
            "_model_name": "LayoutModel",
            "justify_items": null,
            "grid_row": null,
            "max_height": null,
            "align_content": null,
            "visibility": null,
            "align_self": null,
            "height": null,
            "min_height": null,
            "padding": null,
            "grid_auto_rows": null,
            "grid_gap": null,
            "max_width": null,
            "order": null,
            "_view_module_version": "1.2.0",
            "grid_template_areas": null,
            "object_position": null,
            "object_fit": null,
            "grid_auto_columns": null,
            "margin": null,
            "display": null,
            "left": null
          }
        }
      }
    }
  },
  "cells": [
    {
      "cell_type": "markdown",
      "metadata": {
        "id": "TbEDDNUuvUm8"
      },
      "source": [
        "### Note:\n",
        "\n",
        "To run in Colab, you will need to add the datasets/ folder to your Google Drive as /data/ (in your Google Drive root directory)."
      ]
    },
    {
      "cell_type": "code",
      "metadata": {
        "colab": {
          "base_uri": "https://localhost:8080/"
        },
        "id": "tiJAg_TwZGCn",
        "outputId": "38b056b7-6726-4683-9a34-b8c27dfee0fa"
      },
      "source": [
        "%matplotlib inline\n",
        "!pip install transformers\n",
        "import math\n",
        "import nltk\n",
        "import numpy as np\n",
        "import os\n",
        "import random\n",
        "import torch\n",
        "import torch.nn as nn\n",
        "import torch.nn.functional as F\n",
        "import unittest\n",
        "\n",
        "from collections import Counter\n",
        "from datetime import datetime\n",
        "from nltk.corpus import stopwords\n",
        "from torch.utils.data import Dataset, DataLoader\n",
        "from transformers import BertModel, BertTokenizer\n",
        "from transformers import AdamW, get_linear_schedule_with_warmup"
      ],
      "execution_count": 1,
      "outputs": [
        {
          "output_type": "stream",
          "text": [
            "Collecting transformers\n",
            "\u001b[?25l  Downloading https://files.pythonhosted.org/packages/d8/b2/57495b5309f09fa501866e225c84532d1fd89536ea62406b2181933fb418/transformers-4.5.1-py3-none-any.whl (2.1MB)\n",
            "\u001b[K     |████████████████████████████████| 2.1MB 15.1MB/s \n",
            "\u001b[?25hRequirement already satisfied: filelock in /usr/local/lib/python3.7/dist-packages (from transformers) (3.0.12)\n",
            "Requirement already satisfied: numpy>=1.17 in /usr/local/lib/python3.7/dist-packages (from transformers) (1.19.5)\n",
            "Requirement already satisfied: importlib-metadata; python_version < \"3.8\" in /usr/local/lib/python3.7/dist-packages (from transformers) (3.10.1)\n",
            "Requirement already satisfied: requests in /usr/local/lib/python3.7/dist-packages (from transformers) (2.23.0)\n",
            "Collecting sacremoses\n",
            "\u001b[?25l  Downloading https://files.pythonhosted.org/packages/08/cd/342e584ee544d044fb573ae697404ce22ede086c9e87ce5960772084cad0/sacremoses-0.0.44.tar.gz (862kB)\n",
            "\u001b[K     |████████████████████████████████| 870kB 50.8MB/s \n",
            "\u001b[?25hCollecting tokenizers<0.11,>=0.10.1\n",
            "\u001b[?25l  Downloading https://files.pythonhosted.org/packages/ae/04/5b870f26a858552025a62f1649c20d29d2672c02ff3c3fb4c688ca46467a/tokenizers-0.10.2-cp37-cp37m-manylinux2010_x86_64.whl (3.3MB)\n",
            "\u001b[K     |████████████████████████████████| 3.3MB 53.7MB/s \n",
            "\u001b[?25hRequirement already satisfied: regex!=2019.12.17 in /usr/local/lib/python3.7/dist-packages (from transformers) (2019.12.20)\n",
            "Requirement already satisfied: tqdm>=4.27 in /usr/local/lib/python3.7/dist-packages (from transformers) (4.41.1)\n",
            "Requirement already satisfied: packaging in /usr/local/lib/python3.7/dist-packages (from transformers) (20.9)\n",
            "Requirement already satisfied: typing-extensions>=3.6.4; python_version < \"3.8\" in /usr/local/lib/python3.7/dist-packages (from importlib-metadata; python_version < \"3.8\"->transformers) (3.7.4.3)\n",
            "Requirement already satisfied: zipp>=0.5 in /usr/local/lib/python3.7/dist-packages (from importlib-metadata; python_version < \"3.8\"->transformers) (3.4.1)\n",
            "Requirement already satisfied: certifi>=2017.4.17 in /usr/local/lib/python3.7/dist-packages (from requests->transformers) (2020.12.5)\n",
            "Requirement already satisfied: urllib3!=1.25.0,!=1.25.1,<1.26,>=1.21.1 in /usr/local/lib/python3.7/dist-packages (from requests->transformers) (1.24.3)\n",
            "Requirement already satisfied: chardet<4,>=3.0.2 in /usr/local/lib/python3.7/dist-packages (from requests->transformers) (3.0.4)\n",
            "Requirement already satisfied: idna<3,>=2.5 in /usr/local/lib/python3.7/dist-packages (from requests->transformers) (2.10)\n",
            "Requirement already satisfied: six in /usr/local/lib/python3.7/dist-packages (from sacremoses->transformers) (1.15.0)\n",
            "Requirement already satisfied: click in /usr/local/lib/python3.7/dist-packages (from sacremoses->transformers) (7.1.2)\n",
            "Requirement already satisfied: joblib in /usr/local/lib/python3.7/dist-packages (from sacremoses->transformers) (1.0.1)\n",
            "Requirement already satisfied: pyparsing>=2.0.2 in /usr/local/lib/python3.7/dist-packages (from packaging->transformers) (2.4.7)\n",
            "Building wheels for collected packages: sacremoses\n",
            "  Building wheel for sacremoses (setup.py) ... \u001b[?25l\u001b[?25hdone\n",
            "  Created wheel for sacremoses: filename=sacremoses-0.0.44-cp37-none-any.whl size=886084 sha256=e07dff0cf38083c047201523228009ae2fb48f11e554a10cbc5cf5a79464480c\n",
            "  Stored in directory: /root/.cache/pip/wheels/3e/fb/c0/13ab4d63d537658f448366744654323077c4d90069b6512f3c\n",
            "Successfully built sacremoses\n",
            "Installing collected packages: sacremoses, tokenizers, transformers\n",
            "Successfully installed sacremoses-0.0.44 tokenizers-0.10.2 transformers-4.5.1\n"
          ],
          "name": "stdout"
        }
      ]
    },
    {
      "cell_type": "markdown",
      "metadata": {
        "id": "8ktPVaPcZGCv"
      },
      "source": [
        "## Utils"
      ]
    },
    {
      "cell_type": "code",
      "metadata": {
        "id": "7Kc9jGtXZGCv"
      },
      "source": [
        "def set_seed(seed, device='cuda'):\n",
        "  random.seed(seed)\n",
        "  np.random.seed(seed)\n",
        "  torch.manual_seed(seed)\n",
        "  if device == 'cuda':\n",
        "    torch.cuda.manual_seed_all(seed)\n",
        "\n",
        "class TwoWayDict(dict):\n",
        "    # From https://stackoverflow.com/questions/1456373/two-way-reverse-map\n",
        "    def __setitem__(self, key, value):\n",
        "        # Remove any previous connections with these values\n",
        "        if key in self:\n",
        "            del self[key]\n",
        "        if value in self:\n",
        "            del self[value]\n",
        "        dict.__setitem__(self, key, value)\n",
        "        dict.__setitem__(self, value, key)\n",
        "\n",
        "    def __delitem__(self, key):\n",
        "        dict.__delitem__(self, self[key])\n",
        "        dict.__delitem__(self, key)\n",
        "\n",
        "    def __len__(self):\n",
        "        \"\"\"Returns the number of connections\"\"\"\n",
        "        return dict.__len__(self) // 2\n",
        "\n",
        "def read_tsv(path):\n",
        "  results = []\n",
        "  with open(path) as f:\n",
        "    f.readline()\n",
        "    for line in f:\n",
        "      results.append(line.split('\\t')) \n",
        "  return results"
      ],
      "execution_count": 2,
      "outputs": []
    },
    {
      "cell_type": "markdown",
      "metadata": {
        "id": "7XV-8CAPZGCw"
      },
      "source": [
        "### Reuters8 Dataset"
      ]
    },
    {
      "cell_type": "code",
      "metadata": {
        "colab": {
          "base_uri": "https://localhost:8080/"
        },
        "id": "0JXcqiFjZM1L",
        "outputId": "8136381a-a0b8-4ef3-a2be-5987bc17dec8"
      },
      "source": [
        "from google.colab import drive\n",
        "drive.mount('/content/drive')"
      ],
      "execution_count": 3,
      "outputs": [
        {
          "output_type": "stream",
          "text": [
            "Mounted at /content/drive\n"
          ],
          "name": "stdout"
        }
      ]
    },
    {
      "cell_type": "code",
      "metadata": {
        "colab": {
          "base_uri": "https://localhost:8080/"
        },
        "id": "QlX-s5m8Z6Ct",
        "outputId": "539dcad2-f6c4-4039-e211-7600e02340f0"
      },
      "source": [
        "nltk.download('stopwords')"
      ],
      "execution_count": 4,
      "outputs": [
        {
          "output_type": "stream",
          "text": [
            "[nltk_data] Downloading package stopwords to /root/nltk_data...\n",
            "[nltk_data]   Unzipping corpora/stopwords.zip.\n"
          ],
          "name": "stdout"
        },
        {
          "output_type": "execute_result",
          "data": {
            "text/plain": [
              "True"
            ]
          },
          "metadata": {
            "tags": []
          },
          "execution_count": 4
        }
      ]
    },
    {
      "cell_type": "markdown",
      "metadata": {
        "id": "5Ty_j8dtnxlg"
      },
      "source": [
        "Use a separate `Vocabulary` class that can aggregate vocabularies for whole datassets acrosss train/val/test split. This allows for more accurate word-counting & better integration with NVDM."
      ]
    },
    {
      "cell_type": "code",
      "metadata": {
        "id": "fXfq1B7tnw3m",
        "colab": {
          "base_uri": "https://localhost:8080/"
        },
        "outputId": "e3c17ee6-37f3-4ad3-f3b2-22b9cf670932"
      },
      "source": [
        "class Vocabulary():\n",
        "  '''Creates a case-insensitive, dictionary-like vocabulary from a raw, \n",
        "  tab-separated dataset.\n",
        "\n",
        "  `Vocabulary` is essentially a wrapper on the builtin `Counter` class. This class\n",
        "  implements __getitem__, which returns the frequency of a given word.\n",
        "\n",
        "  Args:\n",
        "    filenames (:obj:`list` of :obj:`str`): Names of TSV files making up the full\n",
        "      dataset whose vocabulary you want to index. Typically 'train', 'val', and \n",
        "      'test' files.\n",
        "    col_num (:obj:`int`, optional): Set to `1` by default. The column in the TSV\n",
        "      containing raw text. This starts from 0 (e.g. 1 is the 2nd column).\n",
        "    include_stopwords(:obj:`bool`, optional): Set to `False` by default. If `True`,\n",
        "      the vocabulary will include words listed in NLTK's stopwords dataset.\n",
        "    f_min(:obj:`int`, optional): Set to `10` by default. All words with \n",
        "      frequency < f_min are removed from the vocabulary.\n",
        "\n",
        "  '''\n",
        "\n",
        "  def __init__(self, filepaths, col_num=1, include_stopwords=False, f_min=10):\n",
        "    texts = []\n",
        "    for filepath in filepaths:\n",
        "      texts += [x[col_num] for x in read_tsv(filepath)]\n",
        "\n",
        "    words = [word.lower() for text in texts for word in text.split(' ')]\n",
        "\n",
        "    if not include_stopwords:\n",
        "      # remove stopwords, newline\n",
        "      stops = stopwords.words('english')\n",
        "      words = [x for x in words if x not in stops]\n",
        "\n",
        "    c = Counter(words)\n",
        "    self._vocab = Counter({k: c for k, c in c.items() if c >= f_min})\n",
        "\n",
        "  @property \n",
        "  def words(self):\n",
        "    return list(self._vocab.keys())\n",
        "\n",
        "  def __getitem__(self, word):\n",
        "        return self._vocab[word]\n",
        "\n",
        "  def __len__(self):\n",
        "    return len(self.words)\n",
        "\n",
        "f_names = ['training.tsv', 'validation.tsv', 'test.tsv']\n",
        "f_paths = ['/content/drive/My Drive/data/Reuters8/' + x for x in f_names]\n",
        "r8_vocab = Vocabulary(f_paths)\n",
        "print(len(r8_vocab))"
      ],
      "execution_count": 5,
      "outputs": [
        {
          "output_type": "stream",
          "text": [
            "4832\n"
          ],
          "name": "stdout"
        }
      ]
    },
    {
      "cell_type": "code",
      "metadata": {
        "id": "JBK_aEbqZGCw"
      },
      "source": [
        "class Reuters8Dataset(Dataset):\n",
        "    '''Initializes a PyTorch Dataset with the appropriate Reuters8 data.\n",
        "    \n",
        "    Args:\n",
        "        filename (str): The name of the file containing Ruters8 label/sentence pairs as TSV. This should be \n",
        "            one of 'training', 'test', 'validation'. The files must be located at <cwd>/datasets/Reuters8/\n",
        "        vocab (:obj:`Vocabulary`): A vocabulary object that determines which words are retained by\n",
        "            the dataset when cleaning examples.\n",
        "        label_filepath (:obj:`str`, optional): The label file containing the label ordering, separated by \n",
        "            newlines. By default, this looks to <cwd>/datasets/Reuters8/labels.txt. \n",
        "        one_hot (:obj:`bool`, optional): Set to True by default. Determines if labels are one-hot encoded \n",
        "            vectors (True) or topic strings (False)\n",
        "    '''\n",
        "    REUTERS_URI = '/content/drive/My Drive/data/Reuters8/'\n",
        "    \n",
        "    def _clean_examples(self, examples):\n",
        "        # Switches order of label, sent in dataset. Removes words not in vocab.\n",
        "        cleaned = []\n",
        "        words = self.vocab.words\n",
        "        for ex in examples:\n",
        "            label, sent = ex\n",
        "            new_sent = ' '.join([x.lower() for x in sent.split(' ') if x.lower() in words])\n",
        "            cleaned.append([new_sent, label])\n",
        "            \n",
        "        return cleaned\n",
        "    \n",
        "    def __init__(self, filename, vocab, label_filepath=None, one_hot=True):\n",
        "        self.vocab = vocab\n",
        "        if label_filepath is None:\n",
        "            label_filepath = os.path.join(self.REUTERS_URI, 'labels.txt')\n",
        "            \n",
        "        with open(label_filepath) as f:\n",
        "            self.labels = [x.strip() for x in f.read().strip().split('\\n')]\n",
        "    \n",
        "        self.label_mapping = TwoWayDict()\n",
        "        for i, label in enumerate(self.labels):\n",
        "            self.label_mapping[label] = i\n",
        "            \n",
        "        path = os.path.join(self.REUTERS_URI, filename)\n",
        "        self.examples = self._clean_examples(read_tsv(path))\n",
        "        \n",
        "        if one_hot:\n",
        "            for i, ex in enumerate(self.examples):\n",
        "                _, label = ex\n",
        "                lbl_one_hot = torch.full((len(self.labels),), 0)\n",
        "                lbl_one_hot[self.label_mapping[label]] = 1\n",
        "                self.examples[i][1] =  lbl_one_hot\n",
        "                \n",
        "    @property\n",
        "    def num_labels(self):\n",
        "        return len(self.labels)\n",
        "\n",
        "    def __getitem__(self, index):\n",
        "        return self.examples[index]\n",
        "        \n",
        "    def __len__(self):\n",
        "        return len(self.examples)\n",
        "                \n",
        "        \n",
        "r8_train = Reuters8Dataset('training.tsv', r8_vocab)\n",
        "r8_val = Reuters8Dataset('validation.tsv', r8_vocab)\n",
        "r8_test = Reuters8Dataset('test.tsv', r8_vocab)"
      ],
      "execution_count": 6,
      "outputs": []
    },
    {
      "cell_type": "code",
      "metadata": {
        "id": "QVB66kE9zbst",
        "colab": {
          "base_uri": "https://localhost:8080/"
        },
        "outputId": "9a2e9427-4b65-449a-97cf-a855722f9158"
      },
      "source": [
        "if True: # Set to false to not show example\n",
        "    ex = 107\n",
        "    print('Sample sent/label pair — Ex #{}:'.format(ex))\n",
        "    print('\\t- sent:',r8_train[ex][0].strip()) \n",
        "    print('\\t- one-hot:',r8_train[ex][1]) \n",
        "    # convert one-hot label to int & string\n",
        "    lbl_idx = torch.where(r8_train[ex][1] > 0)[0].item()\n",
        "    print('\\t- int:',lbl_idx) \n",
        "    print('\\t- str:',r8_train.label_mapping[lbl_idx])"
      ],
      "execution_count": 7,
      "outputs": [
        {
          "output_type": "stream",
          "text": [
            "Sample sent/label pair — Ex #107:\n",
            "\t- sent: interco inc th qtr feb net shr cts vs cts net vs sales mln vs mln year shr dlrs vs dlrs net vs sales billion vs billion note results reflect two one stock split july reuter\n",
            "\t- one-hot: tensor([0, 0, 1, 0, 0, 0, 0, 0])\n",
            "\t- int: 2\n",
            "\t- str: earn\n"
          ],
          "name": "stdout"
        }
      ]
    },
    {
      "cell_type": "code",
      "metadata": {
        "colab": {
          "base_uri": "https://localhost:8080/",
          "height": 813,
          "referenced_widgets": [
            "2bd8d049f0de4334ba8fde4dfdedf4b1",
            "aff2e178cb2840818b4fac7c04ebaae6",
            "eb2193d08eed47b9b1b5dbe2b8d315d5",
            "7f8998052fc94d73bbc0234d7b588c72",
            "26274885b8ac479fb4c98ea68c5f7b28",
            "724c65e47a374ab5b274d374f885c2cc",
            "705ba490c11345a9b4f8de21b130f805",
            "bd719c70004b4c9693acf2244306847e",
            "d1e2973370be47ebb76b7b94f3478b99",
            "aec9791a50a740d2b3747277c5caf6c7",
            "d139006cbf0f4c95b22dc03aab5fda7e",
            "c208af4c0fe14cddac8818d53a76079a",
            "242f953aa820497bb5e719137ba1999d",
            "cb6050b8814f4f6d9ebdf99ad1b47dcc",
            "4948ce9f3bb642c8b944b3a1dc7e9cff",
            "c6b065dc94d3467393c49bc79101af2d",
            "515494c7cc764e55b8ea7c2f43066217",
            "4bb0a07eb29e4b54868274a45197e5a6",
            "16f376a984144b1fbd963e1fcffa4d46",
            "776982bc65734f498c38a1633a714c77",
            "8f572ff5111b4ab69cd60cc6fc004298",
            "340d7b1dabee4f3f978cb6bc41546ae1",
            "aec4a8071d5b4e1faebf60ed7ad5a894",
            "67fa70d4a3f1499bbfa7ab9016fb752b"
          ]
        },
        "id": "2EioLwryZGCy",
        "outputId": "f3003a9a-722c-4b8b-8cbf-ceab215275f6"
      },
      "source": [
        "tokenizer = BertTokenizer.from_pretrained('bert-base-uncased')\n",
        "\n",
        "# We need to provide a custom collate function to DataLoader because we're handling sentences of varying lengths. \n",
        "def collate_fn_bert(batch):\n",
        "  # https://huggingface.co/transformers/preprocessing.html\n",
        "  sents, labels = zip(*batch)\n",
        "  labels = torch.stack([x.long() for x in labels])\n",
        "  encoded = tokenizer(sents, padding=True, max_length=512, truncation=True, return_tensors='pt')\n",
        "  # print([len(x) for x in encoded['input_ids']])\n",
        "  # print(any([len(x) > 512 for x in encoded['input_ids']]))\n",
        "  return encoded['input_ids'], encoded['attention_mask'], labels\n",
        "\n",
        "set_seed(42)\n",
        "dataloader_val = DataLoader(r8_val, batch_size=8, shuffle=False, num_workers=2, collate_fn=collate_fn_bert)\n",
        "\n",
        "if True: # Set to false to not show example\n",
        "    for i, (input_ids, attention_mask, labels) in enumerate(dataloader_val):\n",
        "      if i == 2:\n",
        "        print(input_ids[3])\n",
        "        print(tokenizer.convert_ids_to_tokens(input_ids[3]))\n",
        "        print(tokenizer.decode(input_ids[3]))\n",
        "        print(attention_mask[3])\n",
        "        print(labels[3])"
      ],
      "execution_count": 8,
      "outputs": [
        {
          "output_type": "display_data",
          "data": {
            "application/vnd.jupyter.widget-view+json": {
              "model_id": "2bd8d049f0de4334ba8fde4dfdedf4b1",
              "version_minor": 0,
              "version_major": 2
            },
            "text/plain": [
              "HBox(children=(FloatProgress(value=0.0, description='Downloading', max=231508.0, style=ProgressStyle(descripti…"
            ]
          },
          "metadata": {
            "tags": []
          }
        },
        {
          "output_type": "stream",
          "text": [
            "\n"
          ],
          "name": "stdout"
        },
        {
          "output_type": "display_data",
          "data": {
            "application/vnd.jupyter.widget-view+json": {
              "model_id": "d1e2973370be47ebb76b7b94f3478b99",
              "version_minor": 0,
              "version_major": 2
            },
            "text/plain": [
              "HBox(children=(FloatProgress(value=0.0, description='Downloading', max=28.0, style=ProgressStyle(description_w…"
            ]
          },
          "metadata": {
            "tags": []
          }
        },
        {
          "output_type": "stream",
          "text": [
            "\n"
          ],
          "name": "stdout"
        },
        {
          "output_type": "display_data",
          "data": {
            "application/vnd.jupyter.widget-view+json": {
              "model_id": "515494c7cc764e55b8ea7c2f43066217",
              "version_minor": 0,
              "version_major": 2
            },
            "text/plain": [
              "HBox(children=(FloatProgress(value=0.0, description='Downloading', max=466062.0, style=ProgressStyle(descripti…"
            ]
          },
          "metadata": {
            "tags": []
          }
        },
        {
          "output_type": "stream",
          "text": [
            "\n",
            "tensor([  101,  7156,  3001,  4297,  2095, 13292,  3279,  6728,  2121, 14021,\n",
            "         2099,  3279,  2274, 14931,  2015,  5443,  3279, 21469,  2869,  6728,\n",
            "         2121,  5658,  3279,  5443,  3279,  4341, 19875,  2078,  5443, 19875,\n",
            "         2078,  3602,  5658, 23329,  2015,  6409,  8944,  3136, 21469,  2869,\n",
            "         5443, 21469,  2869,  2128, 19901,   102,     0,     0,     0,     0,\n",
            "            0,     0,     0,     0,     0,     0,     0,     0,     0,     0,\n",
            "            0,     0,     0,     0,     0,     0,     0,     0,     0,     0,\n",
            "            0,     0,     0,     0,     0,     0,     0,     0,     0,     0,\n",
            "            0,     0,     0,     0,     0,     0,     0,     0,     0,     0,\n",
            "            0,     0,     0,     0,     0,     0,     0,     0,     0,     0,\n",
            "            0,     0,     0,     0,     0,     0,     0,     0,     0,     0,\n",
            "            0,     0,     0,     0,     0,     0,     0,     0,     0,     0,\n",
            "            0,     0,     0,     0,     0,     0,     0,     0,     0,     0,\n",
            "            0,     0,     0,     0,     0,     0,     0,     0,     0,     0,\n",
            "            0,     0,     0,     0,     0,     0,     0,     0,     0,     0,\n",
            "            0,     0,     0,     0,     0,     0,     0,     0,     0,     0,\n",
            "            0,     0,     0,     0,     0,     0,     0,     0,     0,     0,\n",
            "            0,     0,     0,     0,     0,     0,     0,     0,     0,     0,\n",
            "            0,     0,     0,     0,     0,     0,     0,     0,     0,     0,\n",
            "            0,     0,     0,     0,     0,     0,     0,     0,     0,     0,\n",
            "            0,     0,     0,     0,     0,     0,     0,     0,     0,     0,\n",
            "            0,     0,     0,     0,     0,     0,     0,     0,     0,     0,\n",
            "            0,     0,     0,     0,     0,     0,     0,     0,     0,     0,\n",
            "            0,     0,     0,     0])\n",
            "['[CLS]', 'pioneer', 'systems', 'inc', 'year', 'nov', 'loss', 'op', '##er', 'sh', '##r', 'loss', 'five', 'ct', '##s', 'vs', 'loss', 'dl', '##rs', 'op', '##er', 'net', 'loss', 'vs', 'loss', 'sales', 'ml', '##n', 'vs', 'ml', '##n', 'note', 'net', 'exclude', '##s', 'losses', 'discontinued', 'operations', 'dl', '##rs', 'vs', 'dl', '##rs', 're', '##uter', '[SEP]', '[PAD]', '[PAD]', '[PAD]', '[PAD]', '[PAD]', '[PAD]', '[PAD]', '[PAD]', '[PAD]', '[PAD]', '[PAD]', '[PAD]', '[PAD]', '[PAD]', '[PAD]', '[PAD]', '[PAD]', '[PAD]', '[PAD]', '[PAD]', '[PAD]', '[PAD]', '[PAD]', '[PAD]', '[PAD]', '[PAD]', '[PAD]', '[PAD]', '[PAD]', '[PAD]', '[PAD]', '[PAD]', '[PAD]', '[PAD]', '[PAD]', '[PAD]', '[PAD]', '[PAD]', '[PAD]', '[PAD]', '[PAD]', '[PAD]', '[PAD]', '[PAD]', '[PAD]', '[PAD]', '[PAD]', '[PAD]', '[PAD]', '[PAD]', '[PAD]', '[PAD]', '[PAD]', '[PAD]', '[PAD]', '[PAD]', '[PAD]', '[PAD]', '[PAD]', '[PAD]', '[PAD]', '[PAD]', '[PAD]', '[PAD]', '[PAD]', '[PAD]', '[PAD]', '[PAD]', '[PAD]', '[PAD]', '[PAD]', '[PAD]', '[PAD]', '[PAD]', '[PAD]', '[PAD]', '[PAD]', '[PAD]', '[PAD]', '[PAD]', '[PAD]', '[PAD]', '[PAD]', '[PAD]', '[PAD]', '[PAD]', '[PAD]', '[PAD]', '[PAD]', '[PAD]', '[PAD]', '[PAD]', '[PAD]', '[PAD]', '[PAD]', '[PAD]', '[PAD]', '[PAD]', '[PAD]', '[PAD]', '[PAD]', '[PAD]', '[PAD]', '[PAD]', '[PAD]', '[PAD]', '[PAD]', '[PAD]', '[PAD]', '[PAD]', '[PAD]', '[PAD]', '[PAD]', '[PAD]', '[PAD]', '[PAD]', '[PAD]', '[PAD]', '[PAD]', '[PAD]', '[PAD]', '[PAD]', '[PAD]', '[PAD]', '[PAD]', '[PAD]', '[PAD]', '[PAD]', '[PAD]', '[PAD]', '[PAD]', '[PAD]', '[PAD]', '[PAD]', '[PAD]', '[PAD]', '[PAD]', '[PAD]', '[PAD]', '[PAD]', '[PAD]', '[PAD]', '[PAD]', '[PAD]', '[PAD]', '[PAD]', '[PAD]', '[PAD]', '[PAD]', '[PAD]', '[PAD]', '[PAD]', '[PAD]', '[PAD]', '[PAD]', '[PAD]', '[PAD]', '[PAD]', '[PAD]', '[PAD]', '[PAD]', '[PAD]', '[PAD]', '[PAD]', '[PAD]', '[PAD]', '[PAD]', '[PAD]', '[PAD]', '[PAD]', '[PAD]', '[PAD]', '[PAD]', '[PAD]', '[PAD]', '[PAD]', '[PAD]', '[PAD]', '[PAD]', '[PAD]', '[PAD]', '[PAD]', '[PAD]', '[PAD]', '[PAD]', '[PAD]', '[PAD]', '[PAD]']\n",
            "[CLS] pioneer systems inc year nov loss oper shr loss five cts vs loss dlrs oper net loss vs loss sales mln vs mln note net excludes losses discontinued operations dlrs vs dlrs reuter [SEP] [PAD] [PAD] [PAD] [PAD] [PAD] [PAD] [PAD] [PAD] [PAD] [PAD] [PAD] [PAD] [PAD] [PAD] [PAD] [PAD] [PAD] [PAD] [PAD] [PAD] [PAD] [PAD] [PAD] [PAD] [PAD] [PAD] [PAD] [PAD] [PAD] [PAD] [PAD] [PAD] [PAD] [PAD] [PAD] [PAD] [PAD] [PAD] [PAD] [PAD] [PAD] [PAD] [PAD] [PAD] [PAD] [PAD] [PAD] [PAD] [PAD] [PAD] [PAD] [PAD] [PAD] [PAD] [PAD] [PAD] [PAD] [PAD] [PAD] [PAD] [PAD] [PAD] [PAD] [PAD] [PAD] [PAD] [PAD] [PAD] [PAD] [PAD] [PAD] [PAD] [PAD] [PAD] [PAD] [PAD] [PAD] [PAD] [PAD] [PAD] [PAD] [PAD] [PAD] [PAD] [PAD] [PAD] [PAD] [PAD] [PAD] [PAD] [PAD] [PAD] [PAD] [PAD] [PAD] [PAD] [PAD] [PAD] [PAD] [PAD] [PAD] [PAD] [PAD] [PAD] [PAD] [PAD] [PAD] [PAD] [PAD] [PAD] [PAD] [PAD] [PAD] [PAD] [PAD] [PAD] [PAD] [PAD] [PAD] [PAD] [PAD] [PAD] [PAD] [PAD] [PAD] [PAD] [PAD] [PAD] [PAD] [PAD] [PAD] [PAD] [PAD] [PAD] [PAD] [PAD] [PAD] [PAD] [PAD] [PAD] [PAD] [PAD] [PAD] [PAD] [PAD] [PAD] [PAD] [PAD] [PAD] [PAD] [PAD] [PAD] [PAD] [PAD] [PAD] [PAD] [PAD] [PAD] [PAD] [PAD] [PAD] [PAD] [PAD] [PAD] [PAD] [PAD] [PAD] [PAD] [PAD] [PAD] [PAD] [PAD] [PAD] [PAD] [PAD] [PAD] [PAD] [PAD] [PAD] [PAD] [PAD] [PAD] [PAD] [PAD] [PAD] [PAD] [PAD] [PAD]\n",
            "tensor([1, 1, 1, 1, 1, 1, 1, 1, 1, 1, 1, 1, 1, 1, 1, 1, 1, 1, 1, 1, 1, 1, 1, 1,\n",
            "        1, 1, 1, 1, 1, 1, 1, 1, 1, 1, 1, 1, 1, 1, 1, 1, 1, 1, 1, 1, 1, 1, 0, 0,\n",
            "        0, 0, 0, 0, 0, 0, 0, 0, 0, 0, 0, 0, 0, 0, 0, 0, 0, 0, 0, 0, 0, 0, 0, 0,\n",
            "        0, 0, 0, 0, 0, 0, 0, 0, 0, 0, 0, 0, 0, 0, 0, 0, 0, 0, 0, 0, 0, 0, 0, 0,\n",
            "        0, 0, 0, 0, 0, 0, 0, 0, 0, 0, 0, 0, 0, 0, 0, 0, 0, 0, 0, 0, 0, 0, 0, 0,\n",
            "        0, 0, 0, 0, 0, 0, 0, 0, 0, 0, 0, 0, 0, 0, 0, 0, 0, 0, 0, 0, 0, 0, 0, 0,\n",
            "        0, 0, 0, 0, 0, 0, 0, 0, 0, 0, 0, 0, 0, 0, 0, 0, 0, 0, 0, 0, 0, 0, 0, 0,\n",
            "        0, 0, 0, 0, 0, 0, 0, 0, 0, 0, 0, 0, 0, 0, 0, 0, 0, 0, 0, 0, 0, 0, 0, 0,\n",
            "        0, 0, 0, 0, 0, 0, 0, 0, 0, 0, 0, 0, 0, 0, 0, 0, 0, 0, 0, 0, 0, 0, 0, 0,\n",
            "        0, 0, 0, 0, 0, 0, 0, 0, 0, 0, 0, 0, 0, 0, 0, 0, 0, 0])\n",
            "tensor([0, 0, 1, 0, 0, 0, 0, 0])\n"
          ],
          "name": "stdout"
        }
      ]
    },
    {
      "cell_type": "code",
      "metadata": {
        "id": "6gNYwtHLZGCz"
      },
      "source": [
        "def get_init_transformer(transformer):\n",
        "  \"\"\"\n",
        "  Initialization scheme used for transformers:\n",
        "  https://huggingface.co/transformers/_modules/transformers/modeling_bert.html\n",
        "  \"\"\"\n",
        "  def init_transformer(module):\n",
        "    if isinstance(module, (nn.Linear, nn.Embedding)):\n",
        "        module.weight.data.normal_(mean=0.0, std=transformer.config.initializer_range)\n",
        "    elif isinstance(module, nn.LayerNorm):\n",
        "        module.bias.data.zero_()\n",
        "        module.weight.data.fill_(1.0)\n",
        "    if isinstance(module, nn.Linear) and module.bias is not None:\n",
        "        module.bias.data.zero_()\n",
        "\n",
        "  return init_transformer\n",
        "\n",
        "\n",
        "class BertClassifier(nn.Module):\n",
        "\n",
        "  def __init__(self, num_labels, drop=0.1):\n",
        "    super().__init__()\n",
        "    self.encoder = BertModel.from_pretrained('bert-base-uncased')\n",
        "    self.score = nn.Sequential(nn.Dropout(drop), \n",
        "                               nn.Linear(self.encoder.config.hidden_size, num_labels))\n",
        "    self.score.apply(get_init_transformer(self.encoder))  # Important to initialize any additional weights the same way as pretrained encoder. \n",
        "    self.loss = nn.CrossEntropyLoss(reduction='mean')\n",
        "\n",
        "  def forward(self, input_ids, attention_mask, labels):\n",
        "    hiddens_last = self.encoder(input_ids, attention_mask=attention_mask)[0]  # (batch_size, length, dim), these are last layer embeddings\n",
        "    embs = hiddens_last[:,0,:]  # [CLS] token embeddings\n",
        "    logits = self.score(embs)\n",
        "    # Runs cross-entropy softmax loss on labels\n",
        "    loss_total = self.loss(logits, torch.max(labels, 1)[1])\n",
        "    return logits, loss_total"
      ],
      "execution_count": 9,
      "outputs": []
    },
    {
      "cell_type": "code",
      "metadata": {
        "id": "Ug40G42uZGC0"
      },
      "source": [
        "def configure_optimization(model, num_train_steps, num_warmup_steps, lr, weight_decay=0.01):  \n",
        "  # Copied from: https://huggingface.co/transformers/training.html\n",
        "  no_decay = ['bias', 'LayerNorm.weight']\n",
        "  optimizer_grouped_parameters = [{'params': [p for n, p in model.named_parameters() if not any(nd in n for nd in no_decay)], \n",
        "                                   'weight_decay': weight_decay},\n",
        "                                  {'params': [p for n, p in model.named_parameters() if any(nd in n for nd in no_decay)],\n",
        "                                   'weight_decay': 0.}]\n",
        "  optimizer = AdamW(optimizer_grouped_parameters, lr=lr)  \n",
        "  scheduler = get_linear_schedule_with_warmup(optimizer, num_training_steps=num_train_steps, num_warmup_steps=num_warmup_steps) \n",
        "  return optimizer, scheduler"
      ],
      "execution_count": 10,
      "outputs": []
    },
    {
      "cell_type": "code",
      "metadata": {
        "id": "1Dz4FfXCZGC0"
      },
      "source": [
        "def get_acc_val(model, device):\n",
        "  num_correct_val = 0\n",
        "  model.eval()  \n",
        "  with torch.no_grad(): \n",
        "    for input_ids, attention_mask, labels in dataloader_val:\n",
        "      input_ids = input_ids.to(device)\n",
        "      attention_mask = attention_mask.to(device)\n",
        "      labels = labels.to(device)\n",
        "      logits, _ = model(input_ids, attention_mask, labels) \n",
        "      preds = torch.max(logits, 1)[1] # get label from max score per example\n",
        "      num_correct_val += (preds == torch.max(labels, 1)[1]).sum()\n",
        "  acc_val = num_correct_val / len(dataloader_val.dataset) * 100.\n",
        "  return acc_val"
      ],
      "execution_count": 11,
      "outputs": []
    },
    {
      "cell_type": "code",
      "metadata": {
        "id": "rHi8oUCrZGC0"
      },
      "source": [
        "def train(model, batch_size=32, num_warmup_steps=10, lr=0.00005, num_epochs=3, clip=1., verbose=True, device='cuda'):\n",
        "  model = model.to(device)  # Move the model to device.  \n",
        "  dataloader_train = DataLoader(r8_train, batch_size=batch_size, shuffle=True, num_workers=2, collate_fn=collate_fn_bert) \n",
        "  num_train_steps = len(r8_train) // batch_size * num_epochs\n",
        "  optimizer, scheduler = configure_optimization(model, num_train_steps, num_warmup_steps, lr)\n",
        "\n",
        "  loss_avg = float('inf')\n",
        "  acc_train = 0.\n",
        "  best_acc_val = 0.\n",
        "  for epoch in range(num_epochs):\n",
        "    model.train()  # This turns on the training mode (e.g., enable dropout).\n",
        "    loss_total = 0.\n",
        "    num_correct_train = 0\n",
        "    for batch_ind, (input_ids, attention_mask, labels) in enumerate(dataloader_train):\n",
        "      if (batch_ind + 1) % 200 == 0: \n",
        "        print(batch_ind + 1, '/', len(dataloader_train), 'batches done')\n",
        "      input_ids = input_ids.to(device).long()\n",
        "      attention_mask = attention_mask.to(device)\n",
        "      labels = labels.to(device)      \n",
        "      logits, loss_batch_total = model(input_ids, attention_mask, labels) \n",
        "      preds = torch.max(logits, 1)[1]  # get label from max score per example\n",
        "      num_correct_train += (preds == torch.max(labels, 1)[1]).sum()\n",
        "      loss_total += loss_batch_total.item()            \n",
        "      \n",
        "      loss_batch_avg = loss_batch_total / input_ids.size(0)  \n",
        "      loss_batch_avg.backward()  \n",
        "\n",
        "      if clip > 0.:  # Optional gradient clipping\n",
        "        nn.utils.clip_grad_norm_(model.parameters(), clip)\n",
        "\n",
        "      optimizer.step()  # optimizer updates model weights based on stored gradients\n",
        "      scheduler.step()  # Update lr. \n",
        "      optimizer.zero_grad()  # Reset gradient slots to zero\n",
        "\n",
        "    # Useful training information\n",
        "    loss_avg = loss_total / len(dataloader_train.dataset)\n",
        "    acc_train = num_correct_train / len(dataloader_train.dataset) * 100.\n",
        "\n",
        "    # Check validation performance at the end of every epoch. \n",
        "    acc_val = get_acc_val(model, device)\n",
        "\n",
        "    if verbose:\n",
        "      print('Epoch {:3d} | avg loss {:8.4f} | train acc {:2.2f} | val acc {:2.2f}'.format(epoch + 1, loss_avg, acc_train, acc_val))\n",
        "\n",
        "    if acc_val > best_acc_val: \n",
        "      best_acc_val = acc_val\n",
        "  \n",
        "  if verbose: \n",
        "    print('Final avg loss {:8.4f} | final train acc {:2.2f} | best val acc {:2.2f}'.format(loss_avg, acc_train, best_acc_val))\n",
        "\n",
        "  return best_acc_val"
      ],
      "execution_count": 12,
      "outputs": []
    },
    {
      "cell_type": "markdown",
      "metadata": {
        "id": "saoweloiZGC1"
      },
      "source": [
        "## Below Runs BERT on Reuters8"
      ]
    },
    {
      "cell_type": "code",
      "metadata": {
        "colab": {
          "base_uri": "https://localhost:8080/"
        },
        "id": "q--M0BweaP-N",
        "outputId": "be4815ed-659e-4002-da9c-09aec067120e"
      },
      "source": [
        "!pip install ipython-autotime  # Useful library for tracking runtime on Python Notebooks\n",
        " \n",
        "%load_ext autotime"
      ],
      "execution_count": 13,
      "outputs": [
        {
          "output_type": "stream",
          "text": [
            "Collecting ipython-autotime\n",
            "  Downloading https://files.pythonhosted.org/packages/b4/c9/b413a24f759641bc27ef98c144b590023c8038dfb8a3f09e713e9dff12c1/ipython_autotime-0.3.1-py2.py3-none-any.whl\n",
            "Requirement already satisfied: ipython in /usr/local/lib/python3.7/dist-packages (from ipython-autotime) (5.5.0)\n",
            "Requirement already satisfied: prompt-toolkit<2.0.0,>=1.0.4 in /usr/local/lib/python3.7/dist-packages (from ipython->ipython-autotime) (1.0.18)\n",
            "Requirement already satisfied: traitlets>=4.2 in /usr/local/lib/python3.7/dist-packages (from ipython->ipython-autotime) (5.0.5)\n",
            "Requirement already satisfied: pexpect; sys_platform != \"win32\" in /usr/local/lib/python3.7/dist-packages (from ipython->ipython-autotime) (4.8.0)\n",
            "Requirement already satisfied: decorator in /usr/local/lib/python3.7/dist-packages (from ipython->ipython-autotime) (4.4.2)\n",
            "Requirement already satisfied: pickleshare in /usr/local/lib/python3.7/dist-packages (from ipython->ipython-autotime) (0.7.5)\n",
            "Requirement already satisfied: setuptools>=18.5 in /usr/local/lib/python3.7/dist-packages (from ipython->ipython-autotime) (54.2.0)\n",
            "Requirement already satisfied: pygments in /usr/local/lib/python3.7/dist-packages (from ipython->ipython-autotime) (2.6.1)\n",
            "Requirement already satisfied: simplegeneric>0.8 in /usr/local/lib/python3.7/dist-packages (from ipython->ipython-autotime) (0.8.1)\n",
            "Requirement already satisfied: wcwidth in /usr/local/lib/python3.7/dist-packages (from prompt-toolkit<2.0.0,>=1.0.4->ipython->ipython-autotime) (0.2.5)\n",
            "Requirement already satisfied: six>=1.9.0 in /usr/local/lib/python3.7/dist-packages (from prompt-toolkit<2.0.0,>=1.0.4->ipython->ipython-autotime) (1.15.0)\n",
            "Requirement already satisfied: ipython-genutils in /usr/local/lib/python3.7/dist-packages (from traitlets>=4.2->ipython->ipython-autotime) (0.2.0)\n",
            "Requirement already satisfied: ptyprocess>=0.5 in /usr/local/lib/python3.7/dist-packages (from pexpect; sys_platform != \"win32\"->ipython->ipython-autotime) (0.7.0)\n",
            "Installing collected packages: ipython-autotime\n",
            "Successfully installed ipython-autotime-0.3.1\n",
            "time: 122 µs (started: 2021-04-18 20:11:22 +00:00)\n"
          ],
          "name": "stdout"
        }
      ]
    },
    {
      "cell_type": "code",
      "metadata": {
        "colab": {
          "base_uri": "https://localhost:8080/"
        },
        "id": "0j0blsnZZGC1",
        "outputId": "526fd248-1495-4c5e-a334-b30cd1198b94"
      },
      "source": [
        "if True: # Set True to run. \n",
        "  torch.cuda.empty_cache()\n",
        "  set_seed(42)\n",
        "  model = BertClassifier(r8_train.num_labels)\n",
        "  best_acc_val = train(model, batch_size=4)"
      ],
      "execution_count": 15,
      "outputs": [
        {
          "output_type": "stream",
          "text": [
            "200 / 1247 batches done\n",
            "400 / 1247 batches done\n",
            "600 / 1247 batches done\n",
            "800 / 1247 batches done\n",
            "1000 / 1247 batches done\n",
            "1200 / 1247 batches done\n",
            "Epoch   1 | avg loss   0.0596 | train acc 93.36 | val acc 96.40\n",
            "200 / 1247 batches done\n",
            "400 / 1247 batches done\n",
            "600 / 1247 batches done\n",
            "800 / 1247 batches done\n",
            "1000 / 1247 batches done\n",
            "1200 / 1247 batches done\n",
            "Epoch   2 | avg loss   0.0180 | train acc 98.48 | val acc 96.60\n",
            "200 / 1247 batches done\n",
            "400 / 1247 batches done\n",
            "600 / 1247 batches done\n",
            "800 / 1247 batches done\n",
            "1000 / 1247 batches done\n",
            "1200 / 1247 batches done\n",
            "Epoch   3 | avg loss   0.0070 | train acc 99.30 | val acc 97.20\n",
            "Final avg loss   0.0070 | final train acc 99.30 | best val acc 97.20\n",
            "time: 9min 44s (started: 2021-04-18 20:13:09 +00:00)\n"
          ],
          "name": "stdout"
        }
      ]
    },
    {
      "cell_type": "markdown",
      "metadata": {
        "id": "wQpJovGUvu6k"
      },
      "source": [
        "## NVDM\n",
        "\n",
        "Here we implement NVDM as a standalone topic modeler. NVDM is a neural VAE. The goal is to concatenate the output of NVDM's encoder, the posterior distribution $q(\\mathbf{h} | \\mathbf{B})$ with BERT's output (the embedding of the `[CLS]` token), and then fine-tune a joint loss between the two. $\\mathbf{B}$ is the BOW representation of a document $\\mathcal{D}$."
      ]
    },
    {
      "cell_type": "code",
      "metadata": {
        "id": "kyltAZBVr0aT",
        "outputId": "858cb5df-4083-4bda-b80c-5b187dba7696",
        "colab": {
          "base_uri": "https://localhost:8080/"
        }
      },
      "source": [
        "class BOWDataset(Dataset):\n",
        "    '''This class servess as a wrapper for an existing dataset that serves\n",
        "    a BOW repesentation of the original. The BOW conversion is done upon\n",
        "    instantiation for efficiency when training.\n",
        "    \n",
        "    Args:\n",
        "      dataset (:obj:`torch.utils.data.Dataset`): The dataset to serve as BOW\n",
        "      vocab (:obj:`Vocabulary`): The vocabulay associated with the dataset.\n",
        "      binary (:obj:`bool`, optional): Whether the BOW should maintain a binary\n",
        "        representation. If `False`, it will contain word frequencies (integers).\n",
        "    '''\n",
        "\n",
        "    def __init__(self, dataset, vocab, binary=False):\n",
        "      self.vocab = vocab\n",
        "      self.examples = []\n",
        "      for sent, label in dataset:\n",
        "        bow = torch.zeros((len(vocab),), dtype=torch.int16)\n",
        "        for word in sent.split(' '):\n",
        "          word_index = vocab.words.index(word)\n",
        "          if binary:\n",
        "            bow[word_index] = 1\n",
        "          else:\n",
        "            bow[word_index] += 1\n",
        "\n",
        "        self.examples.append([bow, label])\n",
        "\n",
        "    def __getitem__(self, index):\n",
        "        return self.examples[index]\n",
        "\n",
        "    def __len__(self):\n",
        "        return len(self.examples)\n",
        "\n",
        "r8_train_bow = BOWDataset(r8_train, r8_train.vocab)\n",
        "r8_val_bow = BOWDataset(r8_val, r8_val.vocab)\n",
        "r8_test_bow = BOWDataset(r8_test, r8_test.vocab)"
      ],
      "execution_count": 35,
      "outputs": [
        {
          "output_type": "stream",
          "text": [
            "time: 33.3 s (started: 2021-04-18 21:05:34 +00:00)\n"
          ],
          "name": "stdout"
        }
      ]
    },
    {
      "cell_type": "code",
      "metadata": {
        "id": "6mT5k82iyJyk",
        "outputId": "3bde7f42-4885-4a23-cc6c-defa996e722d",
        "colab": {
          "base_uri": "https://localhost:8080/"
        }
      },
      "source": [
        "print(r8_train[10])\n",
        "print(r8_train_bow[10])\n",
        "print(torch.where(r8_train_bow[10][0] > 0)[0])\n",
        "# Frequency of word 'bell' in example\n",
        "print(r8_train_bow[10][0][396].item())"
      ],
      "execution_count": 36,
      "outputs": [
        {
          "output_type": "stream",
          "text": [
            "['bell resources boosts stake bhp bell resources ltd said executed underwriting agreement equiticorp ltd acquire mln ordinary shares broken hill pty co ltd mln dlrs bell said statement holds pct bhp billion shares reuter\\n', tensor([1, 0, 0, 0, 0, 0, 0, 0])]\n",
            "[tensor([0, 0, 0,  ..., 0, 0, 0], dtype=torch.int16), tensor([1, 0, 0, 0, 0, 0, 0, 0])]\n",
            "tensor([  4,  15,  19,  23,  30,  51, 119, 273, 377, 388, 396, 397, 398, 399,\n",
            "        400, 401, 402, 403, 404, 405, 406, 407, 408, 409, 410])\n",
            "3\n",
            "time: 3.48 ms (started: 2021-04-18 21:06:08 +00:00)\n"
          ],
          "name": "stdout"
        }
      ]
    },
    {
      "cell_type": "code",
      "metadata": {
        "id": "5_ndxZW_zjfr",
        "outputId": "3a34fcfb-7c48-4f44-a27f-83ee141657fa",
        "colab": {
          "base_uri": "https://localhost:8080/"
        }
      },
      "source": [
        "dataloader_val_tm = DataLoader(r8_val_bow, batch_size=4, shuffle=False, num_workers=2)\n",
        "\n",
        "if True: # Set to false to not show example\n",
        "    for i, (input_ids, labels) in enumerate(dataloader_val_tm):\n",
        "      if i == 2:\n",
        "        print(input_ids[3])\n",
        "        print([r8_val_bow.vocab.words[x] for x in torch.where(input_ids[3] > 0)[0]])\n",
        "        print(labels[3])"
      ],
      "execution_count": 40,
      "outputs": [
        {
          "output_type": "stream",
          "text": [
            "tensor([0, 1, 0,  ..., 0, 0, 0], dtype=torch.int16)\n",
            "['inc', 'said', 'acquisition', 'corp', 'shares', 'pct', 'interest', 'company', 'reuter\\n', 'dlr', 'co', 'based', 'u', 'one', 'year', 'first', 'three', 'two', 'active', 'mln', 'expects', 'would', 'sell', 'may', 'calls', 'agreed', 'currently', 'distribution', 'stake', 'sale', 'payment', 'days', 'obtain', 'buy', 'contract', 'companies', 'sold', 'resources', 'changing', 'agreement', 'acquire', 'buying', 'periods', 'current', 'systems', 'shortly', 'approved', 'west', 'plans', 'approval', 'made', 'also', 'remaining', 'make', 'market', 'set', 'name', 'due', 'diluted', 'cited', 'talks', 'help', 'far', 'german', 'spain', 'assets', 'held', 'administration', 'article', 'countries', 'pact', 'runs', 'used', 'european', 'sa', 'developed', 'either', 'fund', 'years', 'payments', 'publicly', 'food', 'goes', 'products', 'studies', 'soon', 'little', 'marketing', 'produced', 'unrelated', 'drug', 'brand', 'gone', 'process', 'distribute', 'applications', 'affiliate', 'mention', 'necessary', 'transmission', 'prevent', 'file', 'exclusive', 'event', 'aids']\n",
            "tensor([1, 0, 0, 0, 0, 0, 0, 0])\n",
            "time: 386 ms (started: 2021-04-18 21:11:45 +00:00)\n"
          ],
          "name": "stdout"
        }
      ]
    },
    {
      "cell_type": "code",
      "metadata": {
        "id": "7Nvz26_T3kGy",
        "outputId": "3d69b9a5-a879-44d3-89a7-bfe345214838",
        "colab": {
          "base_uri": "https://localhost:8080/"
        }
      },
      "source": [
        "class NVDM(nn.Module):\n",
        "  def __init__(self, vocab_size, num_topics, hidden_size=256, nonlinearity=nn.Tanh):\n",
        "    super().__init__()\n",
        "    self.num_topics = num_topics\n",
        "    self.vocab_size = vocab_size\n",
        "\n",
        "    # First MLP layer compresses from vocab_size to hidden_size\n",
        "    mlp_layers = [nn.Linear(vocab_size, hidden_size), nonlinearity()]\n",
        "    # Remaining layers operate in dimension hidden_size\n",
        "    for _ in range(hidden_size - 1):\n",
        "      mlp_layers.append(nn.Linear(hidden_size, hidden_size))\n",
        "      mlp_layers.append(nonlinearity())\n",
        "\n",
        "    self.mlp = nn.Sequential(*mlp_layers)\n",
        "\n",
        "    # Create linear projections for Gaussian params (mean & sigma)\n",
        "    self.mean = nn.Linear(vocab_size, num_topics)\n",
        "    # These 0 initializers may be necessary... let's wait on performance to decide\n",
        "    self.mean.bias.data.zero_()\n",
        "    self.mean.weight.data.fill_(0.)\n",
        "    self.log_sigma = nn.Linear(vocab_size, num_topics)\n",
        "    self.log_sigma.bias.data.zero_()\n",
        "    self.log_sigma.weight.data.fill_(0.)\n",
        "\n",
        "    self.dec_projection = nn.Linear(num_topics, vocab_size)\n",
        "    self.log_softmax = nn.LogSoftmax(-1)\n",
        "\n",
        "  def forward(self, input_bows, labels):\n",
        "    # Run BOW through MLP\n",
        "    pi = self.mlp(input_bows)\n",
        "\n",
        "    # Use this to get mean, log_sig for Gaussian\n",
        "    mean = self.mean(pi)\n",
        "    log_sigma = self.log_sigma(pi)\n",
        "\n",
        "    # Calculate KLD\n",
        "    kld = -0.5 * torch.sum(1 - torch.square(mean) + (2 * log_sigma - torch.exp(2 * log_sigma)), 1)\n",
        "    # kld = mask * kld  # mask paddings\n",
        "\n",
        "    # Use Gaussian reparam. trick to sample from distribution defined by mu, sig\n",
        "    # This provides a sample h_tm from posterior q(h_tm | V) (tm meaning topic model)\n",
        "    epsilons = torch.normal(0, 1, size=(self.vocab_size, self.num_topics))\n",
        "    sample = (torch.exp(log_sigma) * epsilons) + mean\n",
        "\n",
        "    # Softmax to get p(v_i | h_tm), AKA probabilities of words given hidden state\n",
        "    logits = self.log_softmax(self.dec_projection(sample)) \n",
        "\n",
        "    # Lowerbound on NVDM true loss, used for optimization\n",
        "    rec_loss = -1 * torch.sum(logits * input_bows, 1)\n",
        "    loss_nvdm_lb = torch.mean(rec_loss + kld)\n",
        "\n",
        "    return sample, logits, loss_nvdm_lb\n"
      ],
      "execution_count": 86,
      "outputs": [
        {
          "output_type": "stream",
          "text": [
            "time: 35.4 ms (started: 2021-04-18 22:12:40 +00:00)\n"
          ],
          "name": "stdout"
        }
      ]
    },
    {
      "cell_type": "code",
      "metadata": {
        "id": "qDvF1D0CcoMY",
        "outputId": "2c6edfa9-7745-4ee3-baaf-630944e41405",
        "colab": {
          "base_uri": "https://localhost:8080/"
        }
      },
      "source": [
        "def train_nvdm(model, batch_size=32, lr=0.00005, num_epochs=200, verbose=True, device='cuda'):\n",
        "  model = model.to(device)  # Move the model to device.  \n",
        "  dataloader_train = DataLoader(r8_train_bow, batch_size=batch_size, shuffle=True, num_workers=2) \n",
        "  # enc_params = []\n",
        "  # dec_params = []\n",
        "  # for name, param in model.state_dict().items():\n",
        "  #   if 'dec' in name:\n",
        "  #     dec_params.append(param)\n",
        "  #   else:\n",
        "  #     enc_params.append(param)\n",
        "\n",
        "  # enc_optim = torch.optim.Adam(enc_params, lr=lr)\n",
        "  # dec_optim = torch.optim.Adam(dec_params, lr=lr)\n",
        "  # print(len(enc_optim.state_dict().items()))\n",
        "  # print(len(dec_optim.state_dict().items()))\n",
        "\n",
        "  optimizer = torch.optim.Adam(model.parameters(), lr=lr)\n",
        "\n",
        "  loss_avg = float('inf')\n",
        "  for epoch in range(num_epochs):\n",
        "    model.train()  # This turns on the training mode (e.g., enable dropout).\n",
        "    loss_total = 0.\n",
        "    num_correct_train = 0\n",
        "    for input_ids, labels in dataloader_train:\n",
        "      input_ids = input_ids.to(device).float()\n",
        "      labels = labels.to(device)      \n",
        "      _, _, loss_batch_total = model(input_ids, labels) \n",
        "      loss_total += loss_batch_total.item()            \n",
        "      \n",
        "      loss_batch_avg = loss_batch_total / input_ids.size(0)  \n",
        "      loss_batch_avg.backward()  \n",
        "\n",
        "      optimizer.step()  # optimizer updates model weights based on stored gradients\n",
        "      optimizer.zero_grad()  # Reset gradient slots to zero\n",
        "\n",
        "    # Useful training information\n",
        "    loss_avg = loss_total / len(dataloader_train.dataset)\n",
        "\n",
        "    if verbose and epoch % 10 == 0:\n",
        "      print('Epoch {:3d} | avg loss {:8.4f} '.format(epoch + 1, loss_avg))\n",
        "  \n",
        "  if verbose: \n",
        "    print('Final avg loss {:8.4f}'.format(loss_avg))\n",
        "    \n",
        "  return loss_avg"
      ],
      "execution_count": 89,
      "outputs": [
        {
          "output_type": "stream",
          "text": [
            "time: 31.7 ms (started: 2021-04-18 22:13:46 +00:00)\n"
          ],
          "name": "stdout"
        }
      ]
    },
    {
      "cell_type": "code",
      "metadata": {
        "id": "F-NeoBHw6FxQ",
        "outputId": "4f16f492-4ade-4f7c-b07b-6aa1677180bc",
        "colab": {
          "base_uri": "https://localhost:8080/",
          "height": 953
        }
      },
      "source": [
        "if True: # Set True to run. \n",
        "  torch.cuda.empty_cache()\n",
        "  set_seed(42)\n",
        "  model = NVDM(len(r8_train.vocab), r8_train.num_labels)\n",
        "  avg_loss = train_nvdm(model, batch_size=4)"
      ],
      "execution_count": 90,
      "outputs": [
        {
          "output_type": "error",
          "ename": "RuntimeError",
          "evalue": "ignored",
          "traceback": [
            "\u001b[0;31m---------------------------------------------------------------------------\u001b[0m",
            "\u001b[0;31mRuntimeError\u001b[0m                              Traceback (most recent call last)",
            "\u001b[0;32m<ipython-input-90-7048039f3c31>\u001b[0m in \u001b[0;36m<module>\u001b[0;34m()\u001b[0m\n\u001b[1;32m      3\u001b[0m   \u001b[0mset_seed\u001b[0m\u001b[0;34m(\u001b[0m\u001b[0;36m42\u001b[0m\u001b[0;34m)\u001b[0m\u001b[0;34m\u001b[0m\u001b[0;34m\u001b[0m\u001b[0m\n\u001b[1;32m      4\u001b[0m   \u001b[0mmodel\u001b[0m \u001b[0;34m=\u001b[0m \u001b[0mNVDM\u001b[0m\u001b[0;34m(\u001b[0m\u001b[0mlen\u001b[0m\u001b[0;34m(\u001b[0m\u001b[0mr8_train\u001b[0m\u001b[0;34m.\u001b[0m\u001b[0mvocab\u001b[0m\u001b[0;34m)\u001b[0m\u001b[0;34m,\u001b[0m \u001b[0mr8_train\u001b[0m\u001b[0;34m.\u001b[0m\u001b[0mnum_labels\u001b[0m\u001b[0;34m)\u001b[0m\u001b[0;34m\u001b[0m\u001b[0;34m\u001b[0m\u001b[0m\n\u001b[0;32m----> 5\u001b[0;31m   \u001b[0mavg_loss\u001b[0m \u001b[0;34m=\u001b[0m \u001b[0mtrain_nvdm\u001b[0m\u001b[0;34m(\u001b[0m\u001b[0mmodel\u001b[0m\u001b[0;34m,\u001b[0m \u001b[0mbatch_size\u001b[0m\u001b[0;34m=\u001b[0m\u001b[0;36m4\u001b[0m\u001b[0;34m)\u001b[0m\u001b[0;34m\u001b[0m\u001b[0;34m\u001b[0m\u001b[0m\n\u001b[0m",
            "\u001b[0;32m<ipython-input-89-8e0d3cd29cf5>\u001b[0m in \u001b[0;36mtrain_nvdm\u001b[0;34m(model, batch_size, lr, num_epochs, verbose, device)\u001b[0m\n\u001b[1;32m     25\u001b[0m       \u001b[0minput_ids\u001b[0m \u001b[0;34m=\u001b[0m \u001b[0minput_ids\u001b[0m\u001b[0;34m.\u001b[0m\u001b[0mto\u001b[0m\u001b[0;34m(\u001b[0m\u001b[0mdevice\u001b[0m\u001b[0;34m)\u001b[0m\u001b[0;34m.\u001b[0m\u001b[0mfloat\u001b[0m\u001b[0;34m(\u001b[0m\u001b[0;34m)\u001b[0m\u001b[0;34m\u001b[0m\u001b[0;34m\u001b[0m\u001b[0m\n\u001b[1;32m     26\u001b[0m       \u001b[0mlabels\u001b[0m \u001b[0;34m=\u001b[0m \u001b[0mlabels\u001b[0m\u001b[0;34m.\u001b[0m\u001b[0mto\u001b[0m\u001b[0;34m(\u001b[0m\u001b[0mdevice\u001b[0m\u001b[0;34m)\u001b[0m\u001b[0;34m\u001b[0m\u001b[0;34m\u001b[0m\u001b[0m\n\u001b[0;32m---> 27\u001b[0;31m       \u001b[0m_\u001b[0m\u001b[0;34m,\u001b[0m \u001b[0m_\u001b[0m\u001b[0;34m,\u001b[0m \u001b[0mloss_batch_total\u001b[0m \u001b[0;34m=\u001b[0m \u001b[0mmodel\u001b[0m\u001b[0;34m(\u001b[0m\u001b[0minput_ids\u001b[0m\u001b[0;34m,\u001b[0m \u001b[0mlabels\u001b[0m\u001b[0;34m)\u001b[0m\u001b[0;34m\u001b[0m\u001b[0;34m\u001b[0m\u001b[0m\n\u001b[0m\u001b[1;32m     28\u001b[0m       \u001b[0mloss_total\u001b[0m \u001b[0;34m+=\u001b[0m \u001b[0mloss_batch_total\u001b[0m\u001b[0;34m.\u001b[0m\u001b[0mitem\u001b[0m\u001b[0;34m(\u001b[0m\u001b[0;34m)\u001b[0m\u001b[0;34m\u001b[0m\u001b[0;34m\u001b[0m\u001b[0m\n\u001b[1;32m     29\u001b[0m \u001b[0;34m\u001b[0m\u001b[0m\n",
            "\u001b[0;32m/usr/local/lib/python3.7/dist-packages/torch/nn/modules/module.py\u001b[0m in \u001b[0;36m_call_impl\u001b[0;34m(self, *input, **kwargs)\u001b[0m\n\u001b[1;32m    887\u001b[0m             \u001b[0mresult\u001b[0m \u001b[0;34m=\u001b[0m \u001b[0mself\u001b[0m\u001b[0;34m.\u001b[0m\u001b[0m_slow_forward\u001b[0m\u001b[0;34m(\u001b[0m\u001b[0;34m*\u001b[0m\u001b[0minput\u001b[0m\u001b[0;34m,\u001b[0m \u001b[0;34m**\u001b[0m\u001b[0mkwargs\u001b[0m\u001b[0;34m)\u001b[0m\u001b[0;34m\u001b[0m\u001b[0;34m\u001b[0m\u001b[0m\n\u001b[1;32m    888\u001b[0m         \u001b[0;32melse\u001b[0m\u001b[0;34m:\u001b[0m\u001b[0;34m\u001b[0m\u001b[0;34m\u001b[0m\u001b[0m\n\u001b[0;32m--> 889\u001b[0;31m             \u001b[0mresult\u001b[0m \u001b[0;34m=\u001b[0m \u001b[0mself\u001b[0m\u001b[0;34m.\u001b[0m\u001b[0mforward\u001b[0m\u001b[0;34m(\u001b[0m\u001b[0;34m*\u001b[0m\u001b[0minput\u001b[0m\u001b[0;34m,\u001b[0m \u001b[0;34m**\u001b[0m\u001b[0mkwargs\u001b[0m\u001b[0;34m)\u001b[0m\u001b[0;34m\u001b[0m\u001b[0;34m\u001b[0m\u001b[0m\n\u001b[0m\u001b[1;32m    890\u001b[0m         for hook in itertools.chain(\n\u001b[1;32m    891\u001b[0m                 \u001b[0m_global_forward_hooks\u001b[0m\u001b[0;34m.\u001b[0m\u001b[0mvalues\u001b[0m\u001b[0;34m(\u001b[0m\u001b[0;34m)\u001b[0m\u001b[0;34m,\u001b[0m\u001b[0;34m\u001b[0m\u001b[0;34m\u001b[0m\u001b[0m\n",
            "\u001b[0;32m<ipython-input-86-b7566c6e8266>\u001b[0m in \u001b[0;36mforward\u001b[0;34m(self, input_bows, labels)\u001b[0m\n\u001b[1;32m     31\u001b[0m \u001b[0;34m\u001b[0m\u001b[0m\n\u001b[1;32m     32\u001b[0m     \u001b[0;31m# Use this to get mean, log_sig for Gaussian\u001b[0m\u001b[0;34m\u001b[0m\u001b[0;34m\u001b[0m\u001b[0;34m\u001b[0m\u001b[0m\n\u001b[0;32m---> 33\u001b[0;31m     \u001b[0mmean\u001b[0m \u001b[0;34m=\u001b[0m \u001b[0mself\u001b[0m\u001b[0;34m.\u001b[0m\u001b[0mmean\u001b[0m\u001b[0;34m(\u001b[0m\u001b[0mpi\u001b[0m\u001b[0;34m)\u001b[0m\u001b[0;34m\u001b[0m\u001b[0;34m\u001b[0m\u001b[0m\n\u001b[0m\u001b[1;32m     34\u001b[0m     \u001b[0mlog_sigma\u001b[0m \u001b[0;34m=\u001b[0m \u001b[0mself\u001b[0m\u001b[0;34m.\u001b[0m\u001b[0mlog_sigma\u001b[0m\u001b[0;34m(\u001b[0m\u001b[0mpi\u001b[0m\u001b[0;34m)\u001b[0m\u001b[0;34m\u001b[0m\u001b[0;34m\u001b[0m\u001b[0m\n\u001b[1;32m     35\u001b[0m \u001b[0;34m\u001b[0m\u001b[0m\n",
            "\u001b[0;32m/usr/local/lib/python3.7/dist-packages/torch/nn/modules/module.py\u001b[0m in \u001b[0;36m_call_impl\u001b[0;34m(self, *input, **kwargs)\u001b[0m\n\u001b[1;32m    887\u001b[0m             \u001b[0mresult\u001b[0m \u001b[0;34m=\u001b[0m \u001b[0mself\u001b[0m\u001b[0;34m.\u001b[0m\u001b[0m_slow_forward\u001b[0m\u001b[0;34m(\u001b[0m\u001b[0;34m*\u001b[0m\u001b[0minput\u001b[0m\u001b[0;34m,\u001b[0m \u001b[0;34m**\u001b[0m\u001b[0mkwargs\u001b[0m\u001b[0;34m)\u001b[0m\u001b[0;34m\u001b[0m\u001b[0;34m\u001b[0m\u001b[0m\n\u001b[1;32m    888\u001b[0m         \u001b[0;32melse\u001b[0m\u001b[0;34m:\u001b[0m\u001b[0;34m\u001b[0m\u001b[0;34m\u001b[0m\u001b[0m\n\u001b[0;32m--> 889\u001b[0;31m             \u001b[0mresult\u001b[0m \u001b[0;34m=\u001b[0m \u001b[0mself\u001b[0m\u001b[0;34m.\u001b[0m\u001b[0mforward\u001b[0m\u001b[0;34m(\u001b[0m\u001b[0;34m*\u001b[0m\u001b[0minput\u001b[0m\u001b[0;34m,\u001b[0m \u001b[0;34m**\u001b[0m\u001b[0mkwargs\u001b[0m\u001b[0;34m)\u001b[0m\u001b[0;34m\u001b[0m\u001b[0;34m\u001b[0m\u001b[0m\n\u001b[0m\u001b[1;32m    890\u001b[0m         for hook in itertools.chain(\n\u001b[1;32m    891\u001b[0m                 \u001b[0m_global_forward_hooks\u001b[0m\u001b[0;34m.\u001b[0m\u001b[0mvalues\u001b[0m\u001b[0;34m(\u001b[0m\u001b[0;34m)\u001b[0m\u001b[0;34m,\u001b[0m\u001b[0;34m\u001b[0m\u001b[0;34m\u001b[0m\u001b[0m\n",
            "\u001b[0;32m/usr/local/lib/python3.7/dist-packages/torch/nn/modules/linear.py\u001b[0m in \u001b[0;36mforward\u001b[0;34m(self, input)\u001b[0m\n\u001b[1;32m     92\u001b[0m \u001b[0;34m\u001b[0m\u001b[0m\n\u001b[1;32m     93\u001b[0m     \u001b[0;32mdef\u001b[0m \u001b[0mforward\u001b[0m\u001b[0;34m(\u001b[0m\u001b[0mself\u001b[0m\u001b[0;34m,\u001b[0m \u001b[0minput\u001b[0m\u001b[0;34m:\u001b[0m \u001b[0mTensor\u001b[0m\u001b[0;34m)\u001b[0m \u001b[0;34m->\u001b[0m \u001b[0mTensor\u001b[0m\u001b[0;34m:\u001b[0m\u001b[0;34m\u001b[0m\u001b[0;34m\u001b[0m\u001b[0m\n\u001b[0;32m---> 94\u001b[0;31m         \u001b[0;32mreturn\u001b[0m \u001b[0mF\u001b[0m\u001b[0;34m.\u001b[0m\u001b[0mlinear\u001b[0m\u001b[0;34m(\u001b[0m\u001b[0minput\u001b[0m\u001b[0;34m,\u001b[0m \u001b[0mself\u001b[0m\u001b[0;34m.\u001b[0m\u001b[0mweight\u001b[0m\u001b[0;34m,\u001b[0m \u001b[0mself\u001b[0m\u001b[0;34m.\u001b[0m\u001b[0mbias\u001b[0m\u001b[0;34m)\u001b[0m\u001b[0;34m\u001b[0m\u001b[0;34m\u001b[0m\u001b[0m\n\u001b[0m\u001b[1;32m     95\u001b[0m \u001b[0;34m\u001b[0m\u001b[0m\n\u001b[1;32m     96\u001b[0m     \u001b[0;32mdef\u001b[0m \u001b[0mextra_repr\u001b[0m\u001b[0;34m(\u001b[0m\u001b[0mself\u001b[0m\u001b[0;34m)\u001b[0m \u001b[0;34m->\u001b[0m \u001b[0mstr\u001b[0m\u001b[0;34m:\u001b[0m\u001b[0;34m\u001b[0m\u001b[0;34m\u001b[0m\u001b[0m\n",
            "\u001b[0;32m/usr/local/lib/python3.7/dist-packages/torch/nn/functional.py\u001b[0m in \u001b[0;36mlinear\u001b[0;34m(input, weight, bias)\u001b[0m\n\u001b[1;32m   1751\u001b[0m     \u001b[0;32mif\u001b[0m \u001b[0mhas_torch_function_variadic\u001b[0m\u001b[0;34m(\u001b[0m\u001b[0minput\u001b[0m\u001b[0;34m,\u001b[0m \u001b[0mweight\u001b[0m\u001b[0;34m)\u001b[0m\u001b[0;34m:\u001b[0m\u001b[0;34m\u001b[0m\u001b[0;34m\u001b[0m\u001b[0m\n\u001b[1;32m   1752\u001b[0m         \u001b[0;32mreturn\u001b[0m \u001b[0mhandle_torch_function\u001b[0m\u001b[0;34m(\u001b[0m\u001b[0mlinear\u001b[0m\u001b[0;34m,\u001b[0m \u001b[0;34m(\u001b[0m\u001b[0minput\u001b[0m\u001b[0;34m,\u001b[0m \u001b[0mweight\u001b[0m\u001b[0;34m)\u001b[0m\u001b[0;34m,\u001b[0m \u001b[0minput\u001b[0m\u001b[0;34m,\u001b[0m \u001b[0mweight\u001b[0m\u001b[0;34m,\u001b[0m \u001b[0mbias\u001b[0m\u001b[0;34m=\u001b[0m\u001b[0mbias\u001b[0m\u001b[0;34m)\u001b[0m\u001b[0;34m\u001b[0m\u001b[0;34m\u001b[0m\u001b[0m\n\u001b[0;32m-> 1753\u001b[0;31m     \u001b[0;32mreturn\u001b[0m \u001b[0mtorch\u001b[0m\u001b[0;34m.\u001b[0m\u001b[0m_C\u001b[0m\u001b[0;34m.\u001b[0m\u001b[0m_nn\u001b[0m\u001b[0;34m.\u001b[0m\u001b[0mlinear\u001b[0m\u001b[0;34m(\u001b[0m\u001b[0minput\u001b[0m\u001b[0;34m,\u001b[0m \u001b[0mweight\u001b[0m\u001b[0;34m,\u001b[0m \u001b[0mbias\u001b[0m\u001b[0;34m)\u001b[0m\u001b[0;34m\u001b[0m\u001b[0;34m\u001b[0m\u001b[0m\n\u001b[0m\u001b[1;32m   1754\u001b[0m \u001b[0;34m\u001b[0m\u001b[0m\n\u001b[1;32m   1755\u001b[0m \u001b[0;34m\u001b[0m\u001b[0m\n",
            "\u001b[0;31mRuntimeError\u001b[0m: mat1 dim 1 must match mat2 dim 0"
          ]
        },
        {
          "output_type": "stream",
          "text": [
            "time: 405 ms (started: 2021-04-18 22:13:48 +00:00)\n"
          ],
          "name": "stdout"
        }
      ]
    }
  ]
}