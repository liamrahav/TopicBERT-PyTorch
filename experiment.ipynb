{
  "nbformat": 4,
  "nbformat_minor": 0,
  "metadata": {
    "kernelspec": {
      "display_name": "Python 3",
      "language": "python",
      "name": "python3"
    },
    "language_info": {
      "codemirror_mode": {
        "name": "ipython",
        "version": 3
      },
      "file_extension": ".py",
      "mimetype": "text/x-python",
      "name": "python",
      "nbconvert_exporter": "python",
      "pygments_lexer": "ipython3",
      "version": "3.7.10"
    },
    "colab": {
      "name": "experiment.ipynb",
      "provenance": [],
      "collapsed_sections": []
    },
    "accelerator": "GPU"
  },
  "cells": [
    {
      "cell_type": "code",
      "metadata": {
        "colab": {
          "base_uri": "https://localhost:8080/"
        },
        "id": "tiJAg_TwZGCn",
        "outputId": "8d4afc72-efb0-4d19-90e6-6d29e58e1b54"
      },
      "source": [
        "%matplotlib inline\n",
        "!pip install transformers\n",
        "import math\n",
        "import nltk\n",
        "import numpy as np\n",
        "import os\n",
        "import random\n",
        "import torch\n",
        "import torch.nn as nn\n",
        "import torch.nn.functional as F\n",
        "import unittest\n",
        "\n",
        "from collections import Counter\n",
        "from datetime import datetime\n",
        "from nltk.corpus import stopwords\n",
        "from torch.utils.data import Dataset, DataLoader\n",
        "from transformers import BertModel, BertTokenizer\n",
        "from transformers import AdamW, get_linear_schedule_with_warmup"
      ],
      "execution_count": 1,
      "outputs": [
        {
          "output_type": "stream",
          "text": [
            "Requirement already satisfied: transformers in /usr/local/lib/python3.7/dist-packages (4.5.0)\n",
            "Requirement already satisfied: requests in /usr/local/lib/python3.7/dist-packages (from transformers) (2.23.0)\n",
            "Requirement already satisfied: filelock in /usr/local/lib/python3.7/dist-packages (from transformers) (3.0.12)\n",
            "Requirement already satisfied: tokenizers<0.11,>=0.10.1 in /usr/local/lib/python3.7/dist-packages (from transformers) (0.10.2)\n",
            "Requirement already satisfied: tqdm>=4.27 in /usr/local/lib/python3.7/dist-packages (from transformers) (4.41.1)\n",
            "Requirement already satisfied: packaging in /usr/local/lib/python3.7/dist-packages (from transformers) (20.9)\n",
            "Requirement already satisfied: regex!=2019.12.17 in /usr/local/lib/python3.7/dist-packages (from transformers) (2019.12.20)\n",
            "Requirement already satisfied: importlib-metadata; python_version < \"3.8\" in /usr/local/lib/python3.7/dist-packages (from transformers) (3.8.1)\n",
            "Requirement already satisfied: sacremoses in /usr/local/lib/python3.7/dist-packages (from transformers) (0.0.44)\n",
            "Requirement already satisfied: numpy>=1.17 in /usr/local/lib/python3.7/dist-packages (from transformers) (1.19.5)\n",
            "Requirement already satisfied: certifi>=2017.4.17 in /usr/local/lib/python3.7/dist-packages (from requests->transformers) (2020.12.5)\n",
            "Requirement already satisfied: chardet<4,>=3.0.2 in /usr/local/lib/python3.7/dist-packages (from requests->transformers) (3.0.4)\n",
            "Requirement already satisfied: idna<3,>=2.5 in /usr/local/lib/python3.7/dist-packages (from requests->transformers) (2.10)\n",
            "Requirement already satisfied: urllib3!=1.25.0,!=1.25.1,<1.26,>=1.21.1 in /usr/local/lib/python3.7/dist-packages (from requests->transformers) (1.24.3)\n",
            "Requirement already satisfied: pyparsing>=2.0.2 in /usr/local/lib/python3.7/dist-packages (from packaging->transformers) (2.4.7)\n",
            "Requirement already satisfied: typing-extensions>=3.6.4; python_version < \"3.8\" in /usr/local/lib/python3.7/dist-packages (from importlib-metadata; python_version < \"3.8\"->transformers) (3.7.4.3)\n",
            "Requirement already satisfied: zipp>=0.5 in /usr/local/lib/python3.7/dist-packages (from importlib-metadata; python_version < \"3.8\"->transformers) (3.4.1)\n",
            "Requirement already satisfied: joblib in /usr/local/lib/python3.7/dist-packages (from sacremoses->transformers) (1.0.1)\n",
            "Requirement already satisfied: click in /usr/local/lib/python3.7/dist-packages (from sacremoses->transformers) (7.1.2)\n",
            "Requirement already satisfied: six in /usr/local/lib/python3.7/dist-packages (from sacremoses->transformers) (1.15.0)\n"
          ],
          "name": "stdout"
        }
      ]
    },
    {
      "cell_type": "markdown",
      "metadata": {
        "id": "8ktPVaPcZGCv"
      },
      "source": [
        "## Utils"
      ]
    },
    {
      "cell_type": "code",
      "metadata": {
        "id": "7Kc9jGtXZGCv"
      },
      "source": [
        "def set_seed(seed, device='cuda'):\n",
        "  random.seed(seed)\n",
        "  np.random.seed(seed)\n",
        "  torch.manual_seed(seed)\n",
        "  if device == 'cuda':\n",
        "    torch.cuda.manual_seed_all(seed)\n",
        "\n",
        "class TwoWayDict(dict):\n",
        "    # From https://stackoverflow.com/questions/1456373/two-way-reverse-map\n",
        "    def __setitem__(self, key, value):\n",
        "        # Remove any previous connections with these values\n",
        "        if key in self:\n",
        "            del self[key]\n",
        "        if value in self:\n",
        "            del self[value]\n",
        "        dict.__setitem__(self, key, value)\n",
        "        dict.__setitem__(self, value, key)\n",
        "\n",
        "    def __delitem__(self, key):\n",
        "        dict.__delitem__(self, self[key])\n",
        "        dict.__delitem__(self, key)\n",
        "\n",
        "    def __len__(self):\n",
        "        \"\"\"Returns the number of connections\"\"\"\n",
        "        return dict.__len__(self) // 2"
      ],
      "execution_count": 2,
      "outputs": []
    },
    {
      "cell_type": "markdown",
      "metadata": {
        "id": "7XV-8CAPZGCw"
      },
      "source": [
        "### Reuters8 Dataset"
      ]
    },
    {
      "cell_type": "code",
      "metadata": {
        "colab": {
          "base_uri": "https://localhost:8080/"
        },
        "id": "0JXcqiFjZM1L",
        "outputId": "518ee6ce-ffdf-461a-a438-ec027eb8f256"
      },
      "source": [
        "from google.colab import drive\n",
        "drive.mount('/content/drive')"
      ],
      "execution_count": 3,
      "outputs": [
        {
          "output_type": "stream",
          "text": [
            "Drive already mounted at /content/drive; to attempt to forcibly remount, call drive.mount(\"/content/drive\", force_remount=True).\n"
          ],
          "name": "stdout"
        }
      ]
    },
    {
      "cell_type": "code",
      "metadata": {
        "colab": {
          "base_uri": "https://localhost:8080/"
        },
        "id": "QlX-s5m8Z6Ct",
        "outputId": "6a02a3c9-52ee-4e6e-ae2e-1bc735f977ac"
      },
      "source": [
        "nltk.download('stopwords')"
      ],
      "execution_count": 4,
      "outputs": [
        {
          "output_type": "stream",
          "text": [
            "[nltk_data] Downloading package stopwords to /root/nltk_data...\n",
            "[nltk_data]   Package stopwords is already up-to-date!\n"
          ],
          "name": "stdout"
        },
        {
          "output_type": "execute_result",
          "data": {
            "text/plain": [
              "True"
            ]
          },
          "metadata": {
            "tags": []
          },
          "execution_count": 4
        }
      ]
    },
    {
      "cell_type": "code",
      "metadata": {
        "colab": {
          "base_uri": "https://localhost:8080/"
        },
        "id": "JBK_aEbqZGCw",
        "outputId": "ed666ada-2a52-4b19-dae2-a88bcd58f584"
      },
      "source": [
        "class Reuters8Dataset(Dataset):\n",
        "    '''Initializes a PyTorch Dataset with the appropriate Reuters8 data.\n",
        "    \n",
        "    Args:\n",
        "        filename (str): The name of the file containing Ruters8 label/sentence pairs as TSV. This should be \n",
        "            one of 'training', 'test', 'validation'. The files must be located at <cwd>/datasets/Reuters8/\n",
        "        label_filepath (:obj:`str`, optional): The label file containing the label ordering, separated by \n",
        "            newlines. By default, this looks to <cwd>/datasets/Reuters8/labels.txt. \n",
        "        one_hot (:obj:`bool`, optional): Set to True by default. Determines if labels are one-hot encoded \n",
        "            vectors (True) or topic strings (False)\n",
        "        f_min (:obj:`int`, optional): Set to 7 by default. We remove all words with frequency < f_min.\n",
        "    '''\n",
        "    \n",
        "    @staticmethod\n",
        "    def _read_reuters_tsv(path):\n",
        "        pairs = []\n",
        "        with open(path) as f:\n",
        "            f.readline()\n",
        "            for line in f:\n",
        "                label, sent = line.split('\\t')\n",
        "                pairs.append([sent, label])\n",
        "                \n",
        "        return pairs\n",
        "    \n",
        "    def _clean_examples(self, examples):\n",
        "        # lowercases, removes NLTK stopwords, and removes words appearing <f_min times            \n",
        "        cleaned = []\n",
        "        stops = stopwords.words('english')\n",
        "        for ex in examples:\n",
        "            sent, label = ex\n",
        "            new_sent = ' '.join([x.lower() for x in sent.split(' ') if x.lower() not in stops])\n",
        "            cleaned.append([new_sent, label])\n",
        "            \n",
        "        counts = Counter([split for x in [y[0] for y in cleaned] for split in x.split(' ')])\n",
        "        final = []\n",
        "        for ex in cleaned:\n",
        "            sent, label = ex\n",
        "            new_sent = ' '.join([x for x in sent.split(' ') if counts[x] >= self.f_min])\n",
        "            final.append([new_sent, label])\n",
        "            \n",
        "        return final\n",
        "        \n",
        "    \n",
        "    def __init__(self, filename, label_filepath=None, one_hot=True, f_min=7):\n",
        "        self.f_min = f_min\n",
        "        if label_filepath is None:\n",
        "            label_filepath = os.path.join('/content/drive/My Drive/data/Reuters8/', 'labels.txt')\n",
        "            \n",
        "        with open(label_filepath) as f:\n",
        "            self.labels = [x.strip() for x in f.read().strip().split('\\n')]\n",
        "    \n",
        "        self.label_mapping = TwoWayDict()\n",
        "        for i, label in enumerate(self.labels):\n",
        "            self.label_mapping[label] = i\n",
        "            \n",
        "        tsv_path = os.path.join('/content/drive/My Drive/data/Reuters8/', filename)\n",
        "        self.examples = self._clean_examples(Reuters8Dataset._read_reuters_tsv(tsv_path))\n",
        "        \n",
        "        if one_hot:\n",
        "            for i, ex in enumerate(self.examples):\n",
        "                _, label = ex\n",
        "                lbl_one_hot = torch.full((len(self.labels),), 0)\n",
        "                lbl_one_hot[self.label_mapping[label]] = 1\n",
        "                self.examples[i][1] =  lbl_one_hot\n",
        "                \n",
        "    @property\n",
        "    def num_labels(self):\n",
        "        return len(self.labels)\n",
        "\n",
        "    def __getitem__(self, index):\n",
        "        return self.examples[index]\n",
        "    \n",
        "    def __len__(self):\n",
        "        return len(self.examples)\n",
        "                \n",
        "        \n",
        "r8_train = Reuters8Dataset('training.tsv')\n",
        "r8_val = Reuters8Dataset('validation.tsv')\n",
        "r8_test = Reuters8Dataset('test.tsv')\n",
        "\n",
        "if True: # Set to false to not show example\n",
        "    ex = 99\n",
        "    print('Sample sent/label pair — Ex #{}:'.format(ex))\n",
        "    print('\\t- sent:',r8_train[ex][0].strip()) \n",
        "    print('\\t- one-hot:',r8_train[ex][1]) \n",
        "    # convert one-hot label to int & string\n",
        "    lbl_idx = torch.where(r8_train[ex][1] > 0)[0].item()\n",
        "    print('\\t- int:',lbl_idx) \n",
        "    print('\\t- str:',r8_train.label_mapping[lbl_idx])"
      ],
      "execution_count": 5,
      "outputs": [
        {
          "output_type": "stream",
          "text": [
            "Sample sent/label pair — Ex #99:\n",
            "\t- sent: stone inc sets quarterly qtly div cts vs cts prior pay may record april one reuter\n",
            "\t- one-hot: tensor([0, 0, 1, 0, 0, 0, 0, 0])\n",
            "\t- int: 2\n",
            "\t- str: earn\n"
          ],
          "name": "stdout"
        }
      ]
    },
    {
      "cell_type": "code",
      "metadata": {
        "colab": {
          "base_uri": "https://localhost:8080/"
        },
        "id": "2EioLwryZGCy",
        "outputId": "ae992695-8e71-4db3-ba95-6fcf6f14c011"
      },
      "source": [
        "tokenizer = BertTokenizer.from_pretrained('bert-base-uncased')\n",
        "\n",
        "# We need to provide a custom collate function to DataLoader because we're handling sentences of varying lengths. \n",
        "def collate_fn(batch):\n",
        "  # https://huggingface.co/transformers/preprocessing.html\n",
        "  sents, labels = zip(*batch)\n",
        "  labels = torch.stack([x.long() for x in labels])\n",
        "  encoded = tokenizer(sents, padding=True, max_length=512, truncation=True, return_tensors='pt')\n",
        "  # print([len(x) for x in encoded['input_ids']])\n",
        "  # print(any([len(x) > 512 for x in encoded['input_ids']]))\n",
        "  return encoded['input_ids'], encoded['attention_mask'], labels\n",
        "\n",
        "set_seed(42)\n",
        "dataloader_val = DataLoader(r8_val, batch_size=8, shuffle=False, num_workers=2, collate_fn=collate_fn)\n",
        "\n",
        "if True: # Set to false to not show example\n",
        "    for i, (input_ids, attention_mask, labels) in enumerate(dataloader_val):\n",
        "      if i == 2:\n",
        "        print(input_ids[3])\n",
        "        print(tokenizer.convert_ids_to_tokens(input_ids[3]))\n",
        "        print(tokenizer.decode(input_ids[3]))\n",
        "        print(attention_mask[3])\n",
        "        print(labels[3])"
      ],
      "execution_count": 6,
      "outputs": [
        {
          "output_type": "stream",
          "text": [
            "tensor([  101,  3001,  4297,  2095,  3279,  6728,  2121, 14021,  2099,  3279,\n",
            "         2274, 14931,  2015,  5443,  3279, 21469,  2869,  6728,  2121,  5658,\n",
            "         3279,  5443,  3279,  4341, 19875,  2078,  5443, 19875,  2078,  3602,\n",
            "         5658, 23329,  2015,  6409,  8944,  3136, 21469,  2869,  5443, 21469,\n",
            "         2869,  2128, 19901,   102,     0,     0,     0,     0,     0,     0,\n",
            "            0,     0,     0,     0,     0,     0,     0,     0,     0,     0,\n",
            "            0,     0,     0,     0,     0,     0,     0,     0,     0,     0,\n",
            "            0,     0,     0,     0,     0,     0,     0,     0,     0,     0,\n",
            "            0,     0,     0,     0,     0,     0,     0,     0,     0,     0,\n",
            "            0,     0,     0,     0,     0,     0,     0,     0,     0,     0,\n",
            "            0,     0,     0,     0,     0,     0,     0,     0,     0,     0,\n",
            "            0,     0,     0,     0,     0,     0,     0,     0,     0,     0,\n",
            "            0,     0,     0,     0,     0,     0,     0,     0,     0,     0,\n",
            "            0,     0,     0,     0,     0,     0,     0,     0,     0,     0,\n",
            "            0,     0,     0,     0,     0,     0,     0,     0,     0,     0,\n",
            "            0,     0,     0,     0,     0,     0,     0,     0,     0,     0,\n",
            "            0,     0,     0,     0,     0,     0,     0,     0,     0,     0,\n",
            "            0,     0,     0,     0,     0])\n",
            "['[CLS]', 'systems', 'inc', 'year', 'loss', 'op', '##er', 'sh', '##r', 'loss', 'five', 'ct', '##s', 'vs', 'loss', 'dl', '##rs', 'op', '##er', 'net', 'loss', 'vs', 'loss', 'sales', 'ml', '##n', 'vs', 'ml', '##n', 'note', 'net', 'exclude', '##s', 'losses', 'discontinued', 'operations', 'dl', '##rs', 'vs', 'dl', '##rs', 're', '##uter', '[SEP]', '[PAD]', '[PAD]', '[PAD]', '[PAD]', '[PAD]', '[PAD]', '[PAD]', '[PAD]', '[PAD]', '[PAD]', '[PAD]', '[PAD]', '[PAD]', '[PAD]', '[PAD]', '[PAD]', '[PAD]', '[PAD]', '[PAD]', '[PAD]', '[PAD]', '[PAD]', '[PAD]', '[PAD]', '[PAD]', '[PAD]', '[PAD]', '[PAD]', '[PAD]', '[PAD]', '[PAD]', '[PAD]', '[PAD]', '[PAD]', '[PAD]', '[PAD]', '[PAD]', '[PAD]', '[PAD]', '[PAD]', '[PAD]', '[PAD]', '[PAD]', '[PAD]', '[PAD]', '[PAD]', '[PAD]', '[PAD]', '[PAD]', '[PAD]', '[PAD]', '[PAD]', '[PAD]', '[PAD]', '[PAD]', '[PAD]', '[PAD]', '[PAD]', '[PAD]', '[PAD]', '[PAD]', '[PAD]', '[PAD]', '[PAD]', '[PAD]', '[PAD]', '[PAD]', '[PAD]', '[PAD]', '[PAD]', '[PAD]', '[PAD]', '[PAD]', '[PAD]', '[PAD]', '[PAD]', '[PAD]', '[PAD]', '[PAD]', '[PAD]', '[PAD]', '[PAD]', '[PAD]', '[PAD]', '[PAD]', '[PAD]', '[PAD]', '[PAD]', '[PAD]', '[PAD]', '[PAD]', '[PAD]', '[PAD]', '[PAD]', '[PAD]', '[PAD]', '[PAD]', '[PAD]', '[PAD]', '[PAD]', '[PAD]', '[PAD]', '[PAD]', '[PAD]', '[PAD]', '[PAD]', '[PAD]', '[PAD]', '[PAD]', '[PAD]', '[PAD]', '[PAD]', '[PAD]', '[PAD]', '[PAD]', '[PAD]', '[PAD]', '[PAD]', '[PAD]', '[PAD]', '[PAD]', '[PAD]', '[PAD]', '[PAD]', '[PAD]', '[PAD]', '[PAD]', '[PAD]', '[PAD]', '[PAD]', '[PAD]']\n",
            "[CLS] systems inc year loss oper shr loss five cts vs loss dlrs oper net loss vs loss sales mln vs mln note net excludes losses discontinued operations dlrs vs dlrs reuter [SEP] [PAD] [PAD] [PAD] [PAD] [PAD] [PAD] [PAD] [PAD] [PAD] [PAD] [PAD] [PAD] [PAD] [PAD] [PAD] [PAD] [PAD] [PAD] [PAD] [PAD] [PAD] [PAD] [PAD] [PAD] [PAD] [PAD] [PAD] [PAD] [PAD] [PAD] [PAD] [PAD] [PAD] [PAD] [PAD] [PAD] [PAD] [PAD] [PAD] [PAD] [PAD] [PAD] [PAD] [PAD] [PAD] [PAD] [PAD] [PAD] [PAD] [PAD] [PAD] [PAD] [PAD] [PAD] [PAD] [PAD] [PAD] [PAD] [PAD] [PAD] [PAD] [PAD] [PAD] [PAD] [PAD] [PAD] [PAD] [PAD] [PAD] [PAD] [PAD] [PAD] [PAD] [PAD] [PAD] [PAD] [PAD] [PAD] [PAD] [PAD] [PAD] [PAD] [PAD] [PAD] [PAD] [PAD] [PAD] [PAD] [PAD] [PAD] [PAD] [PAD] [PAD] [PAD] [PAD] [PAD] [PAD] [PAD] [PAD] [PAD] [PAD] [PAD] [PAD] [PAD] [PAD] [PAD] [PAD] [PAD] [PAD] [PAD] [PAD] [PAD] [PAD] [PAD] [PAD] [PAD] [PAD] [PAD] [PAD] [PAD] [PAD] [PAD] [PAD] [PAD] [PAD] [PAD] [PAD] [PAD] [PAD] [PAD] [PAD]\n",
            "tensor([1, 1, 1, 1, 1, 1, 1, 1, 1, 1, 1, 1, 1, 1, 1, 1, 1, 1, 1, 1, 1, 1, 1, 1,\n",
            "        1, 1, 1, 1, 1, 1, 1, 1, 1, 1, 1, 1, 1, 1, 1, 1, 1, 1, 1, 1, 0, 0, 0, 0,\n",
            "        0, 0, 0, 0, 0, 0, 0, 0, 0, 0, 0, 0, 0, 0, 0, 0, 0, 0, 0, 0, 0, 0, 0, 0,\n",
            "        0, 0, 0, 0, 0, 0, 0, 0, 0, 0, 0, 0, 0, 0, 0, 0, 0, 0, 0, 0, 0, 0, 0, 0,\n",
            "        0, 0, 0, 0, 0, 0, 0, 0, 0, 0, 0, 0, 0, 0, 0, 0, 0, 0, 0, 0, 0, 0, 0, 0,\n",
            "        0, 0, 0, 0, 0, 0, 0, 0, 0, 0, 0, 0, 0, 0, 0, 0, 0, 0, 0, 0, 0, 0, 0, 0,\n",
            "        0, 0, 0, 0, 0, 0, 0, 0, 0, 0, 0, 0, 0, 0, 0, 0, 0, 0, 0, 0, 0, 0, 0, 0,\n",
            "        0, 0, 0, 0, 0, 0, 0])\n",
            "tensor([0, 0, 1, 0, 0, 0, 0, 0])\n"
          ],
          "name": "stdout"
        }
      ]
    },
    {
      "cell_type": "code",
      "metadata": {
        "id": "6gNYwtHLZGCz"
      },
      "source": [
        "def get_init_transformer(transformer):\n",
        "  \"\"\"\n",
        "  Initialization scheme used for transformers:\n",
        "  https://huggingface.co/transformers/_modules/transformers/modeling_bert.html\n",
        "  \"\"\"\n",
        "  def init_transformer(module):\n",
        "    if isinstance(module, (nn.Linear, nn.Embedding)):\n",
        "        module.weight.data.normal_(mean=0.0, std=transformer.config.initializer_range)\n",
        "    elif isinstance(module, nn.LayerNorm):\n",
        "        module.bias.data.zero_()\n",
        "        module.weight.data.fill_(1.0)\n",
        "    if isinstance(module, nn.Linear) and module.bias is not None:\n",
        "        module.bias.data.zero_()\n",
        "\n",
        "  return init_transformer\n",
        "\n",
        "\n",
        "class BertClassifier(nn.Module):\n",
        "\n",
        "  def __init__(self, num_labels, drop=0.1):\n",
        "    super().__init__()\n",
        "    self.encoder = BertModel.from_pretrained('bert-base-uncased')\n",
        "    self.score = nn.Sequential(nn.Dropout(drop), \n",
        "                               nn.Linear(self.encoder.config.hidden_size, num_labels))\n",
        "    self.score.apply(get_init_transformer(self.encoder))  # Important to initialize any additional weights the same way as pretrained encoder. \n",
        "    self.loss = nn.CrossEntropyLoss(reduction='sum')\n",
        "\n",
        "  def forward(self, input_ids, attention_mask, labels):\n",
        "    hiddens_last = self.encoder(input_ids, attention_mask=attention_mask)[0]  # (batch_size, length, dim), these are last layer embeddings\n",
        "    embs = hiddens_last[:,0,:]  # [CLS] token embeddings\n",
        "    logits = self.score(embs)\n",
        "    # Runs cross-entropy softmax loss on labels\n",
        "    loss_total = self.loss(logits, torch.max(labels, 1)[1])\n",
        "    return logits, loss_total"
      ],
      "execution_count": 7,
      "outputs": []
    },
    {
      "cell_type": "code",
      "metadata": {
        "id": "Ug40G42uZGC0"
      },
      "source": [
        "def configure_optimization(model, num_train_steps, num_warmup_steps, lr, weight_decay=0.01):  \n",
        "  # Copied from: https://huggingface.co/transformers/training.html\n",
        "  no_decay = ['bias', 'LayerNorm.weight']\n",
        "  optimizer_grouped_parameters = [{'params': [p for n, p in model.named_parameters() if not any(nd in n for nd in no_decay)], \n",
        "                                   'weight_decay': weight_decay},\n",
        "                                  {'params': [p for n, p in model.named_parameters() if any(nd in n for nd in no_decay)],\n",
        "                                   'weight_decay': 0.}]\n",
        "  optimizer = AdamW(optimizer_grouped_parameters, lr=lr)  \n",
        "  scheduler = get_linear_schedule_with_warmup(optimizer, num_training_steps=num_train_steps, num_warmup_steps=num_warmup_steps) \n",
        "  return optimizer, scheduler"
      ],
      "execution_count": 8,
      "outputs": []
    },
    {
      "cell_type": "code",
      "metadata": {
        "id": "1Dz4FfXCZGC0"
      },
      "source": [
        "def get_acc_val(model, device):\n",
        "  num_correct_val = 0\n",
        "  model.eval()  \n",
        "  with torch.no_grad(): \n",
        "    for input_ids, attention_mask, labels in dataloader_val:\n",
        "      input_ids = input_ids.to(device)\n",
        "      attention_mask = attention_mask.to(device)\n",
        "      labels = labels.to(device)\n",
        "      logits, _ = model(input_ids, attention_mask, labels) \n",
        "      preds = torch.max(logits, 1)[1] # get label from max score per example\n",
        "      num_correct_val += (preds == torch.max(labels, 1)[1]).sum()\n",
        "  acc_val = num_correct_val / len(dataloader_val.dataset) * 100.\n",
        "  return acc_val"
      ],
      "execution_count": 9,
      "outputs": []
    },
    {
      "cell_type": "code",
      "metadata": {
        "id": "rHi8oUCrZGC0"
      },
      "source": [
        "def train(model, batch_size=32, num_warmup_steps=10, lr=0.00005, num_epochs=3, clip=1., verbose=True, device='cuda'):\n",
        "  model = model.to(device)  # Move the model to device.  \n",
        "  dataloader_train = DataLoader(r8_train, batch_size=batch_size, shuffle=True, num_workers=2, collate_fn=collate_fn) \n",
        "  num_train_steps = len(r8_train) // batch_size * num_epochs\n",
        "  optimizer, scheduler = configure_optimization(model, num_train_steps, num_warmup_steps, lr)\n",
        "\n",
        "  loss_avg = float('inf')\n",
        "  acc_train = 0.\n",
        "  best_acc_val = 0.\n",
        "  for epoch in range(num_epochs):\n",
        "    model.train()  # This turns on the training mode (e.g., enable dropout).\n",
        "    loss_total = 0.\n",
        "    num_correct_train = 0\n",
        "    for batch_ind, (input_ids, attention_mask, labels) in enumerate(dataloader_train):\n",
        "      if (batch_ind + 1) % 200 == 0: \n",
        "        print(batch_ind + 1, '/', len(dataloader_train), 'batches done')\n",
        "      input_ids = input_ids.to(device).long()\n",
        "      attention_mask = attention_mask.to(device)\n",
        "      labels = labels.to(device)      \n",
        "      logits, loss_batch_total = model(input_ids, attention_mask, labels) \n",
        "      preds = torch.max(logits, 1)[1]  # get label from max score per example\n",
        "      num_correct_train += (preds == torch.max(labels, 1)[1]).sum()\n",
        "      loss_total += loss_batch_total.item()            \n",
        "      \n",
        "      loss_batch_avg = loss_batch_total / input_ids.size(0)  \n",
        "      loss_batch_avg.backward()  \n",
        "\n",
        "      if clip > 0.:  # Optional gradient clipping\n",
        "        nn.utils.clip_grad_norm_(model.parameters(), clip)\n",
        "\n",
        "      optimizer.step()  # optimizer updates model weights based on stored gradients\n",
        "      scheduler.step()  # Update lr. \n",
        "      optimizer.zero_grad()  # Reset gradient slots to zero\n",
        "\n",
        "    # Useful training information\n",
        "    loss_avg = loss_total / len(dataloader_train.dataset)\n",
        "    acc_train = num_correct_train / len(dataloader_train.dataset) * 100.\n",
        "\n",
        "    # Check validation performance at the end of every epoch. \n",
        "    acc_val = get_acc_val(model, device)\n",
        "\n",
        "    if verbose:\n",
        "      print('Epoch {:3d} | avg loss {:8.4f} | train acc {:2.2f} | val acc {:2.2f}'.format(epoch + 1, loss_avg, acc_train, acc_val))\n",
        "\n",
        "    if acc_val > best_acc_val: \n",
        "      best_acc_val = acc_val\n",
        "  \n",
        "  if verbose: \n",
        "    print('Final avg loss {:8.4f} | final train acc {:2.2f} | best val acc {:2.2f}'.format(loss_avg, acc_train, best_acc_val))\n",
        "\n",
        "  return best_acc_val"
      ],
      "execution_count": 10,
      "outputs": []
    },
    {
      "cell_type": "markdown",
      "metadata": {
        "id": "saoweloiZGC1"
      },
      "source": [
        "## Below Runs BERT on Reuters8"
      ]
    },
    {
      "cell_type": "code",
      "metadata": {
        "colab": {
          "base_uri": "https://localhost:8080/"
        },
        "id": "q--M0BweaP-N",
        "outputId": "5999534b-61ef-4f48-d92d-e78e52ac319e"
      },
      "source": [
        "!pip install ipython-autotime  # Useful library for tracking runtime on Python Notebooks\n",
        " \n",
        "%load_ext autotime"
      ],
      "execution_count": 11,
      "outputs": [
        {
          "output_type": "stream",
          "text": [
            "Requirement already satisfied: ipython-autotime in /usr/local/lib/python3.7/dist-packages (0.3.1)\n",
            "Requirement already satisfied: ipython in /usr/local/lib/python3.7/dist-packages (from ipython-autotime) (5.5.0)\n",
            "Requirement already satisfied: setuptools>=18.5 in /usr/local/lib/python3.7/dist-packages (from ipython->ipython-autotime) (54.2.0)\n",
            "Requirement already satisfied: prompt-toolkit<2.0.0,>=1.0.4 in /usr/local/lib/python3.7/dist-packages (from ipython->ipython-autotime) (1.0.18)\n",
            "Requirement already satisfied: simplegeneric>0.8 in /usr/local/lib/python3.7/dist-packages (from ipython->ipython-autotime) (0.8.1)\n",
            "Requirement already satisfied: pickleshare in /usr/local/lib/python3.7/dist-packages (from ipython->ipython-autotime) (0.7.5)\n",
            "Requirement already satisfied: pygments in /usr/local/lib/python3.7/dist-packages (from ipython->ipython-autotime) (2.6.1)\n",
            "Requirement already satisfied: traitlets>=4.2 in /usr/local/lib/python3.7/dist-packages (from ipython->ipython-autotime) (5.0.5)\n",
            "Requirement already satisfied: decorator in /usr/local/lib/python3.7/dist-packages (from ipython->ipython-autotime) (4.4.2)\n",
            "Requirement already satisfied: pexpect; sys_platform != \"win32\" in /usr/local/lib/python3.7/dist-packages (from ipython->ipython-autotime) (4.8.0)\n",
            "Requirement already satisfied: six>=1.9.0 in /usr/local/lib/python3.7/dist-packages (from prompt-toolkit<2.0.0,>=1.0.4->ipython->ipython-autotime) (1.15.0)\n",
            "Requirement already satisfied: wcwidth in /usr/local/lib/python3.7/dist-packages (from prompt-toolkit<2.0.0,>=1.0.4->ipython->ipython-autotime) (0.2.5)\n",
            "Requirement already satisfied: ipython-genutils in /usr/local/lib/python3.7/dist-packages (from traitlets>=4.2->ipython->ipython-autotime) (0.2.0)\n",
            "Requirement already satisfied: ptyprocess>=0.5 in /usr/local/lib/python3.7/dist-packages (from pexpect; sys_platform != \"win32\"->ipython->ipython-autotime) (0.7.0)\n",
            "time: 418 µs (started: 2021-04-10 20:52:54 +00:00)\n"
          ],
          "name": "stdout"
        }
      ]
    },
    {
      "cell_type": "code",
      "metadata": {
        "colab": {
          "base_uri": "https://localhost:8080/"
        },
        "id": "0j0blsnZZGC1",
        "outputId": "fa011e66-4b7e-47f5-baa4-722dbe266d04"
      },
      "source": [
        "if True: # Set True to run. \n",
        "  torch.cuda.empty_cache()\n",
        "  set_seed(42)\n",
        "  model = BertClassifier(r8_train.num_labels)\n",
        "  best_acc_val = train(model, batch_size=8)"
      ],
      "execution_count": 12,
      "outputs": [
        {
          "output_type": "stream",
          "text": [
            "200 / 624 batches done\n",
            "400 / 624 batches done\n",
            "600 / 624 batches done\n",
            "Epoch   1 | avg loss   0.2473 | train acc 93.22 | val acc 96.40\n",
            "200 / 624 batches done\n",
            "400 / 624 batches done\n",
            "600 / 624 batches done\n",
            "Epoch   2 | avg loss   0.0742 | train acc 98.40 | val acc 96.40\n",
            "200 / 624 batches done\n",
            "400 / 624 batches done\n",
            "600 / 624 batches done\n",
            "Epoch   3 | avg loss   0.0328 | train acc 99.30 | val acc 97.20\n",
            "Final avg loss   0.0328 | final train acc 99.30 | best val acc 97.20\n",
            "time: 11min 10s (started: 2021-04-10 20:52:54 +00:00)\n"
          ],
          "name": "stdout"
        }
      ]
    },
    {
      "cell_type": "code",
      "metadata": {
        "id": "ix1OUwKgZGC2"
      },
      "source": [
        ""
      ],
      "execution_count": 12,
      "outputs": []
    }
  ]
}